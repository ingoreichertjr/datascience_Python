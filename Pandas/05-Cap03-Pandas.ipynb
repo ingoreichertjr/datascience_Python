{
 "cells": [
  {
   "cell_type": "code",
   "execution_count": 5,
   "id": "c28e8948",
   "metadata": {},
   "outputs": [],
   "source": [
    "import numpy as np\n",
    "import pandas as pd"
   ]
  },
  {
   "cell_type": "markdown",
   "id": "37cf9ac6",
   "metadata": {},
   "source": [
    "## Operações com Series"
   ]
  },
  {
   "cell_type": "code",
   "execution_count": 6,
   "id": "a006ff89",
   "metadata": {},
   "outputs": [],
   "source": [
    "# Lista de listas (matriz)\n",
    "matriz = [[9, 4, 3], [2, 6, 1], [7, 5, 8]]"
   ]
  },
  {
   "cell_type": "code",
   "execution_count": 7,
   "id": "df127b08",
   "metadata": {},
   "outputs": [
    {
     "data": {
      "text/plain": [
       "list"
      ]
     },
     "execution_count": 7,
     "metadata": {},
     "output_type": "execute_result"
    }
   ],
   "source": [
    "type(matriz)"
   ]
  },
  {
   "cell_type": "code",
   "execution_count": 8,
   "id": "23c290e0",
   "metadata": {},
   "outputs": [],
   "source": [
    "# Converte a matriz em dataframe\n",
    "df = pd.DataFrame(matriz)"
   ]
  },
  {
   "cell_type": "code",
   "execution_count": 9,
   "id": "62c9983b",
   "metadata": {},
   "outputs": [
    {
     "data": {
      "text/plain": [
       "pandas.core.frame.DataFrame"
      ]
     },
     "execution_count": 9,
     "metadata": {},
     "output_type": "execute_result"
    }
   ],
   "source": [
    "type(df)"
   ]
  },
  {
   "cell_type": "code",
   "execution_count": 10,
   "id": "c91d307f",
   "metadata": {},
   "outputs": [
    {
     "data": {
      "text/html": [
       "<div>\n",
       "<style scoped>\n",
       "    .dataframe tbody tr th:only-of-type {\n",
       "        vertical-align: middle;\n",
       "    }\n",
       "\n",
       "    .dataframe tbody tr th {\n",
       "        vertical-align: top;\n",
       "    }\n",
       "\n",
       "    .dataframe thead th {\n",
       "        text-align: right;\n",
       "    }\n",
       "</style>\n",
       "<table border=\"1\" class=\"dataframe\">\n",
       "  <thead>\n",
       "    <tr style=\"text-align: right;\">\n",
       "      <th></th>\n",
       "      <th>0</th>\n",
       "      <th>1</th>\n",
       "      <th>2</th>\n",
       "    </tr>\n",
       "  </thead>\n",
       "  <tbody>\n",
       "    <tr>\n",
       "      <th>0</th>\n",
       "      <td>9</td>\n",
       "      <td>4</td>\n",
       "      <td>3</td>\n",
       "    </tr>\n",
       "    <tr>\n",
       "      <th>1</th>\n",
       "      <td>2</td>\n",
       "      <td>6</td>\n",
       "      <td>1</td>\n",
       "    </tr>\n",
       "    <tr>\n",
       "      <th>2</th>\n",
       "      <td>7</td>\n",
       "      <td>5</td>\n",
       "      <td>8</td>\n",
       "    </tr>\n",
       "  </tbody>\n",
       "</table>\n",
       "</div>"
      ],
      "text/plain": [
       "   0  1  2\n",
       "0  9  4  3\n",
       "1  2  6  1\n",
       "2  7  5  8"
      ]
     },
     "execution_count": 10,
     "metadata": {},
     "output_type": "execute_result"
    }
   ],
   "source": [
    "df"
   ]
  },
  {
   "cell_type": "code",
   "execution_count": 13,
   "id": "2f4b96a7",
   "metadata": {},
   "outputs": [],
   "source": [
    "# Extrai a linha de índice 0\n",
    "linha = df.iloc[0, :]"
   ]
  },
  {
   "cell_type": "code",
   "execution_count": 12,
   "id": "a794f850",
   "metadata": {},
   "outputs": [
    {
     "data": {
      "text/plain": [
       "0    9\n",
       "1    4\n",
       "2    3\n",
       "Name: 0, dtype: int64"
      ]
     },
     "execution_count": 12,
     "metadata": {},
     "output_type": "execute_result"
    }
   ],
   "source": [
    "linha"
   ]
  },
  {
   "cell_type": "code",
   "execution_count": 14,
   "id": "79660687",
   "metadata": {},
   "outputs": [
    {
     "data": {
      "text/plain": [
       "pandas.core.series.Series"
      ]
     },
     "execution_count": 14,
     "metadata": {},
     "output_type": "execute_result"
    }
   ],
   "source": [
    "type(linha)"
   ]
  },
  {
   "cell_type": "code",
   "execution_count": 15,
   "id": "37826c51",
   "metadata": {},
   "outputs": [],
   "source": [
    "# Cria uma série de \n",
    "serie_pandas = pd.Series(['a', 'b', 'c', 'd', 'e'])"
   ]
  },
  {
   "cell_type": "code",
   "execution_count": 16,
   "id": "a696f187",
   "metadata": {},
   "outputs": [
    {
     "data": {
      "text/plain": [
       "0    a\n",
       "1    b\n",
       "2    c\n",
       "3    d\n",
       "4    e\n",
       "dtype: object"
      ]
     },
     "execution_count": 16,
     "metadata": {},
     "output_type": "execute_result"
    }
   ],
   "source": [
    "serie_pandas"
   ]
  },
  {
   "cell_type": "code",
   "execution_count": 17,
   "id": "9844bfe4",
   "metadata": {},
   "outputs": [
    {
     "data": {
      "text/plain": [
       "RangeIndex(start=0, stop=3, step=1)"
      ]
     },
     "execution_count": 17,
     "metadata": {},
     "output_type": "execute_result"
    }
   ],
   "source": [
    "# Visualiza os índices do dataframe\n",
    "df.index"
   ]
  },
  {
   "cell_type": "code",
   "execution_count": 19,
   "id": "58fd44fb",
   "metadata": {},
   "outputs": [
    {
     "data": {
      "text/plain": [
       "RangeIndex(start=0, stop=5, step=1)"
      ]
     },
     "execution_count": 19,
     "metadata": {},
     "output_type": "execute_result"
    }
   ],
   "source": [
    "# Visualiza os índices da series\n",
    "serie_pandas.index"
   ]
  },
  {
   "cell_type": "code",
   "execution_count": 21,
   "id": "ef0607ef",
   "metadata": {},
   "outputs": [
    {
     "data": {
      "text/plain": [
       "array(['a', 'b', 'c', 'd', 'e'], dtype=object)"
      ]
     },
     "execution_count": 21,
     "metadata": {},
     "output_type": "execute_result"
    }
   ],
   "source": [
    "# Visualiza os valores da series\n",
    "serie_pandas.values"
   ]
  },
  {
   "cell_type": "code",
   "execution_count": 22,
   "id": "1b66a9ab",
   "metadata": {},
   "outputs": [
    {
     "data": {
      "text/plain": [
       "dtype('O')"
      ]
     },
     "execution_count": 22,
     "metadata": {},
     "output_type": "execute_result"
    }
   ],
   "source": [
    "# Visuazliza o tipo dos dados da series\n",
    "serie_pandas.dtype"
   ]
  },
  {
   "cell_type": "code",
   "execution_count": 23,
   "id": "8e8523cd",
   "metadata": {},
   "outputs": [
    {
     "data": {
      "text/plain": [
       "(5,)"
      ]
     },
     "execution_count": 23,
     "metadata": {},
     "output_type": "execute_result"
    }
   ],
   "source": [
    "# Visualiza o shape\n",
    "serie_pandas.shape"
   ]
  },
  {
   "cell_type": "markdown",
   "id": "2c220e30",
   "metadata": {},
   "source": [
    "Podemos ter uma série com dados de tipos diferentes?"
   ]
  },
  {
   "cell_type": "code",
   "execution_count": 34,
   "id": "a3e424c0",
   "metadata": {},
   "outputs": [],
   "source": [
    "serie_pandas = pd.Series(['a', 'b', 'c', 10, True], index = [10, 20, 30, 40, 50])"
   ]
  },
  {
   "cell_type": "code",
   "execution_count": 35,
   "id": "2615297b",
   "metadata": {},
   "outputs": [
    {
     "data": {
      "text/plain": [
       "Int64Index([10, 20, 30, 40, 50], dtype='int64')"
      ]
     },
     "execution_count": 35,
     "metadata": {},
     "output_type": "execute_result"
    }
   ],
   "source": [
    "serie_pandas.index"
   ]
  },
  {
   "cell_type": "code",
   "execution_count": 36,
   "id": "f9e0675d",
   "metadata": {},
   "outputs": [
    {
     "data": {
      "text/plain": [
       "dtype('O')"
      ]
     },
     "execution_count": 36,
     "metadata": {},
     "output_type": "execute_result"
    }
   ],
   "source": [
    "serie_pandas.dtypes"
   ]
  },
  {
   "cell_type": "code",
   "execution_count": 37,
   "id": "00eb1583",
   "metadata": {},
   "outputs": [
    {
     "data": {
      "text/plain": [
       "array(['a', 'b', 'c', 10, True], dtype=object)"
      ]
     },
     "execution_count": 37,
     "metadata": {},
     "output_type": "execute_result"
    }
   ],
   "source": [
    "serie_pandas.values"
   ]
  },
  {
   "cell_type": "code",
   "execution_count": 38,
   "id": "27e5ed48",
   "metadata": {},
   "outputs": [
    {
     "data": {
      "text/plain": [
       "dtype('O')"
      ]
     },
     "execution_count": 38,
     "metadata": {},
     "output_type": "execute_result"
    }
   ],
   "source": [
    "serie_pandas.dtypes"
   ]
  },
  {
   "cell_type": "code",
   "execution_count": 39,
   "id": "bc766b96",
   "metadata": {},
   "outputs": [
    {
     "data": {
      "text/plain": [
       "10       a\n",
       "20       b\n",
       "30       c\n",
       "40      10\n",
       "50    True\n",
       "dtype: object"
      ]
     },
     "execution_count": 39,
     "metadata": {},
     "output_type": "execute_result"
    }
   ],
   "source": [
    "serie_pandas"
   ]
  },
  {
   "cell_type": "code",
   "execution_count": 45,
   "id": "6455e189",
   "metadata": {},
   "outputs": [
    {
     "data": {
      "text/plain": [
       "11"
      ]
     },
     "execution_count": 45,
     "metadata": {},
     "output_type": "execute_result"
    }
   ],
   "source": [
    "serie_pandas[40] + 1"
   ]
  },
  {
   "cell_type": "code",
   "execution_count": 46,
   "id": "027ad8bb",
   "metadata": {},
   "outputs": [],
   "source": [
    "lista = ['Ingo', 'Reichert', 'Junior']"
   ]
  },
  {
   "cell_type": "code",
   "execution_count": 47,
   "id": "5322d123",
   "metadata": {},
   "outputs": [],
   "source": [
    "series_pandas = pd.Series(lista)"
   ]
  },
  {
   "cell_type": "code",
   "execution_count": 48,
   "id": "1bc8b013",
   "metadata": {},
   "outputs": [
    {
     "name": "stdout",
     "output_type": "stream",
     "text": [
      "0        Ingo\n",
      "1    Reichert\n",
      "2      Junior\n",
      "dtype: object\n"
     ]
    }
   ],
   "source": [
    "print(series_pandas)"
   ]
  },
  {
   "cell_type": "code",
   "execution_count": 49,
   "id": "6bf5d127",
   "metadata": {},
   "outputs": [],
   "source": [
    "dicionario = {'a': 'Ingo', 'b': 'Reichert', 'c': 'Junior'}"
   ]
  },
  {
   "cell_type": "code",
   "execution_count": 50,
   "id": "4f6f0fe1",
   "metadata": {},
   "outputs": [],
   "source": [
    "series_pandas = pd.Series(dicionario)"
   ]
  },
  {
   "cell_type": "code",
   "execution_count": 51,
   "id": "5e1e6d7f",
   "metadata": {},
   "outputs": [
    {
     "data": {
      "text/plain": [
       "a        Ingo\n",
       "b    Reichert\n",
       "c      Junior\n",
       "dtype: object"
      ]
     },
     "execution_count": 51,
     "metadata": {},
     "output_type": "execute_result"
    }
   ],
   "source": [
    "series_pandas"
   ]
  },
  {
   "cell_type": "code",
   "execution_count": 53,
   "id": "7925f8fc",
   "metadata": {},
   "outputs": [],
   "source": [
    "# Cria um array Numpy\n",
    "arr = np.random.randint(0, 10, size = 5)"
   ]
  },
  {
   "cell_type": "code",
   "execution_count": 54,
   "id": "ed2995aa",
   "metadata": {},
   "outputs": [
    {
     "name": "stdout",
     "output_type": "stream",
     "text": [
      "[2 9 5 4 2]\n"
     ]
    }
   ],
   "source": [
    "print(arr)"
   ]
  },
  {
   "cell_type": "code",
   "execution_count": 55,
   "id": "8d01d8c2",
   "metadata": {},
   "outputs": [],
   "source": [
    "series_pandas = pd.Series(arr)"
   ]
  },
  {
   "cell_type": "code",
   "execution_count": 56,
   "id": "101a6891",
   "metadata": {},
   "outputs": [
    {
     "data": {
      "text/plain": [
       "0    2\n",
       "1    9\n",
       "2    5\n",
       "3    4\n",
       "4    2\n",
       "dtype: int64"
      ]
     },
     "execution_count": 56,
     "metadata": {},
     "output_type": "execute_result"
    }
   ],
   "source": [
    "series_pandas"
   ]
  },
  {
   "cell_type": "code",
   "execution_count": 57,
   "id": "8dcbc4a8",
   "metadata": {},
   "outputs": [],
   "source": [
    "series_pandas = pd.Series({1: 'data', 2: 'science'})"
   ]
  },
  {
   "cell_type": "code",
   "execution_count": 58,
   "id": "589c4515",
   "metadata": {},
   "outputs": [
    {
     "data": {
      "text/plain": [
       "1       data\n",
       "2    science\n",
       "dtype: object"
      ]
     },
     "execution_count": 58,
     "metadata": {},
     "output_type": "execute_result"
    }
   ],
   "source": [
    "series_pandas"
   ]
  },
  {
   "cell_type": "code",
   "execution_count": 60,
   "id": "0fdf107e",
   "metadata": {},
   "outputs": [
    {
     "name": "stdout",
     "output_type": "stream",
     "text": [
      "data\n"
     ]
    }
   ],
   "source": [
    "print(series_pandas[1])"
   ]
  },
  {
   "cell_type": "code",
   "execution_count": 62,
   "id": "53da2ab1",
   "metadata": {},
   "outputs": [
    {
     "data": {
      "text/plain": [
       "'data'"
      ]
     },
     "execution_count": 62,
     "metadata": {},
     "output_type": "execute_result"
    }
   ],
   "source": [
    "series_pandas.iloc[0]"
   ]
  },
  {
   "cell_type": "code",
   "execution_count": 67,
   "id": "99f45bd4",
   "metadata": {},
   "outputs": [],
   "source": [
    "serie_pandas = pd.Series([1, 2, 3, 4, 5], dtype = 'float')"
   ]
  },
  {
   "cell_type": "code",
   "execution_count": 70,
   "id": "df33e3e5",
   "metadata": {},
   "outputs": [
    {
     "name": "stdout",
     "output_type": "stream",
     "text": [
      "0    1.0\n",
      "1    2.0\n",
      "2    3.0\n",
      "3    4.0\n",
      "4    5.0\n",
      "dtype: float64\n"
     ]
    }
   ],
   "source": [
    "print(serie_pandas)"
   ]
  },
  {
   "cell_type": "code",
   "execution_count": 71,
   "id": "c598e646",
   "metadata": {},
   "outputs": [
    {
     "data": {
      "text/plain": [
       "dtype('float64')"
      ]
     },
     "execution_count": 71,
     "metadata": {},
     "output_type": "execute_result"
    }
   ],
   "source": [
    "serie_pandas.dtype"
   ]
  },
  {
   "cell_type": "code",
   "execution_count": 72,
   "id": "10d4fcf9",
   "metadata": {},
   "outputs": [],
   "source": [
    "serie_pandas = pd.Series(['Azul', 'Amarelo', 'Azul', 'Branco', 'Branco', 'Verde', 'Azul'])"
   ]
  },
  {
   "cell_type": "code",
   "execution_count": 73,
   "id": "d37b8e2f",
   "metadata": {},
   "outputs": [
    {
     "name": "stdout",
     "output_type": "stream",
     "text": [
      "['Azul' 'Amarelo' 'Branco' 'Verde']\n"
     ]
    }
   ],
   "source": [
    "print(serie_pandas.unique())"
   ]
  },
  {
   "cell_type": "code",
   "execution_count": 74,
   "id": "41dba532",
   "metadata": {},
   "outputs": [
    {
     "name": "stdout",
     "output_type": "stream",
     "text": [
      "4\n"
     ]
    }
   ],
   "source": [
    "print(serie_pandas.nunique())"
   ]
  },
  {
   "cell_type": "code",
   "execution_count": 75,
   "id": "12ea1acf",
   "metadata": {},
   "outputs": [],
   "source": [
    "serie_pandas = pd.Series([201, 323, 17, 97, 43, 9, 26, 4])"
   ]
  },
  {
   "cell_type": "code",
   "execution_count": 76,
   "id": "14358721",
   "metadata": {},
   "outputs": [
    {
     "name": "stdout",
     "output_type": "stream",
     "text": [
      "1    323\n",
      "0    201\n",
      "3     97\n",
      "dtype: int64\n"
     ]
    }
   ],
   "source": [
    "print(serie_pandas.nlargest(n = 3))"
   ]
  },
  {
   "cell_type": "code",
   "execution_count": 77,
   "id": "14b87a0e",
   "metadata": {},
   "outputs": [
    {
     "name": "stdout",
     "output_type": "stream",
     "text": [
      "7    4\n",
      "5    9\n",
      "dtype: int64\n"
     ]
    }
   ],
   "source": [
    "print(serie_pandas.nsmallest(n = 2))"
   ]
  },
  {
   "cell_type": "code",
   "execution_count": 78,
   "id": "b795a46f",
   "metadata": {},
   "outputs": [],
   "source": [
    "serie_pandas = pd.Series(['Azul', 'Amarelo', 'Azul', 'Branco', 'Branco', 'Verde', 'Azul'])"
   ]
  },
  {
   "cell_type": "code",
   "execution_count": 79,
   "id": "d3401e20",
   "metadata": {},
   "outputs": [
    {
     "name": "stdout",
     "output_type": "stream",
     "text": [
      "Azul       3\n",
      "Branco     2\n",
      "Amarelo    1\n",
      "Verde      1\n",
      "dtype: int64\n"
     ]
    }
   ],
   "source": [
    "print(serie_pandas.value_counts())"
   ]
  },
  {
   "cell_type": "code",
   "execution_count": 83,
   "id": "1ef851e3",
   "metadata": {},
   "outputs": [],
   "source": [
    "serie_pandas = pd.Series([1, 2, 3, np.nan, np.nan])"
   ]
  },
  {
   "cell_type": "code",
   "execution_count": 85,
   "id": "6b47665d",
   "metadata": {},
   "outputs": [
    {
     "name": "stdout",
     "output_type": "stream",
     "text": [
      "0    False\n",
      "1    False\n",
      "2    False\n",
      "3     True\n",
      "4     True\n",
      "dtype: bool\n"
     ]
    }
   ],
   "source": [
    "print(serie_pandas.isna())"
   ]
  },
  {
   "cell_type": "code",
   "execution_count": 86,
   "id": "3c5b1a6d",
   "metadata": {},
   "outputs": [
    {
     "name": "stdout",
     "output_type": "stream",
     "text": [
      "2\n"
     ]
    }
   ],
   "source": [
    "print(serie_pandas.isna().sum())"
   ]
  },
  {
   "cell_type": "code",
   "execution_count": 87,
   "id": "b9bb9ec3",
   "metadata": {},
   "outputs": [
    {
     "name": "stdout",
     "output_type": "stream",
     "text": [
      "3\n"
     ]
    }
   ],
   "source": [
    "print(serie_pandas.count())"
   ]
  },
  {
   "cell_type": "code",
   "execution_count": 88,
   "id": "f58fb600",
   "metadata": {},
   "outputs": [],
   "source": [
    "serie_pandas = pd.Series([1, 2, 3, 4])"
   ]
  },
  {
   "cell_type": "code",
   "execution_count": 89,
   "id": "43d27cdc",
   "metadata": {},
   "outputs": [
    {
     "name": "stdout",
     "output_type": "stream",
     "text": [
      "0    False\n",
      "1    False\n",
      "2     True\n",
      "3    False\n",
      "dtype: bool\n"
     ]
    }
   ],
   "source": [
    "print(serie_pandas.eq(3))"
   ]
  },
  {
   "cell_type": "code",
   "execution_count": 90,
   "id": "14629f5a",
   "metadata": {},
   "outputs": [
    {
     "name": "stdout",
     "output_type": "stream",
     "text": [
      "0    False\n",
      "1    False\n",
      "2     True\n",
      "3     True\n",
      "dtype: bool\n"
     ]
    }
   ],
   "source": [
    "print(serie_pandas.gt(2))"
   ]
  },
  {
   "cell_type": "code",
   "execution_count": 91,
   "id": "58922d82",
   "metadata": {},
   "outputs": [],
   "source": [
    "serie_pandas = pd.Series([56, 34, 68, 21, 49])"
   ]
  },
  {
   "cell_type": "code",
   "execution_count": 93,
   "id": "2d8c2e7a",
   "metadata": {},
   "outputs": [
    {
     "name": "stdout",
     "output_type": "stream",
     "text": [
      "45.6\n"
     ]
    }
   ],
   "source": [
    "print(serie_pandas.mean())"
   ]
  },
  {
   "cell_type": "code",
   "execution_count": 94,
   "id": "c8794892",
   "metadata": {},
   "outputs": [
    {
     "name": "stdout",
     "output_type": "stream",
     "text": [
      "mean       45.6\n",
      "median     49.0\n",
      "sum       228.0\n",
      "count       5.0\n",
      "dtype: float64\n"
     ]
    }
   ],
   "source": [
    "print(serie_pandas.agg(['mean', 'median', 'sum', 'count']))"
   ]
  },
  {
   "cell_type": "code",
   "execution_count": null,
   "id": "a5d8e464",
   "metadata": {},
   "outputs": [],
   "source": []
  }
 ],
 "metadata": {
  "kernelspec": {
   "display_name": "Python 3 (ipykernel)",
   "language": "python",
   "name": "python3"
  },
  "language_info": {
   "codemirror_mode": {
    "name": "ipython",
    "version": 3
   },
   "file_extension": ".py",
   "mimetype": "text/x-python",
   "name": "python",
   "nbconvert_exporter": "python",
   "pygments_lexer": "ipython3",
   "version": "3.9.13"
  }
 },
 "nbformat": 4,
 "nbformat_minor": 5
}
