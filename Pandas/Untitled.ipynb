{
 "cells": [
  {
   "cell_type": "code",
   "execution_count": 162,
   "id": "4efdb1d6",
   "metadata": {},
   "outputs": [],
   "source": [
    "import pandas as pd"
   ]
  },
  {
   "cell_type": "markdown",
   "id": "d559b410",
   "metadata": {},
   "source": [
    "### Carregando os Dados"
   ]
  },
  {
   "cell_type": "code",
   "execution_count": 163,
   "id": "402754d9",
   "metadata": {},
   "outputs": [],
   "source": [
    "# Carrega o dataset de escolas\n",
    "df_escolas = pd.read_csv('dataset_escolas.csv')"
   ]
  },
  {
   "cell_type": "code",
   "execution_count": 164,
   "id": "22fa8de5",
   "metadata": {},
   "outputs": [
    {
     "data": {
      "text/html": [
       "<div>\n",
       "<style scoped>\n",
       "    .dataframe tbody tr th:only-of-type {\n",
       "        vertical-align: middle;\n",
       "    }\n",
       "\n",
       "    .dataframe tbody tr th {\n",
       "        vertical-align: top;\n",
       "    }\n",
       "\n",
       "    .dataframe thead th {\n",
       "        text-align: right;\n",
       "    }\n",
       "</style>\n",
       "<table border=\"1\" class=\"dataframe\">\n",
       "  <thead>\n",
       "    <tr style=\"text-align: right;\">\n",
       "      <th></th>\n",
       "      <th>ID_Escola</th>\n",
       "      <th>Nome_Escola</th>\n",
       "      <th>Tipo_Escola</th>\n",
       "      <th>Numero_Alunos</th>\n",
       "      <th>Orcamento_Anual</th>\n",
       "    </tr>\n",
       "  </thead>\n",
       "  <tbody>\n",
       "    <tr>\n",
       "      <th>0</th>\n",
       "      <td>0</td>\n",
       "      <td>Escola A</td>\n",
       "      <td>Publica</td>\n",
       "      <td>2917</td>\n",
       "      <td>1910635</td>\n",
       "    </tr>\n",
       "    <tr>\n",
       "      <th>1</th>\n",
       "      <td>1</td>\n",
       "      <td>Escola B</td>\n",
       "      <td>Publica</td>\n",
       "      <td>2949</td>\n",
       "      <td>1884411</td>\n",
       "    </tr>\n",
       "    <tr>\n",
       "      <th>2</th>\n",
       "      <td>2</td>\n",
       "      <td>Escola C</td>\n",
       "      <td>Particular</td>\n",
       "      <td>1761</td>\n",
       "      <td>1056600</td>\n",
       "    </tr>\n",
       "    <tr>\n",
       "      <th>3</th>\n",
       "      <td>3</td>\n",
       "      <td>Escola D</td>\n",
       "      <td>Publica</td>\n",
       "      <td>4635</td>\n",
       "      <td>3022020</td>\n",
       "    </tr>\n",
       "    <tr>\n",
       "      <th>4</th>\n",
       "      <td>4</td>\n",
       "      <td>Escola E</td>\n",
       "      <td>Particular</td>\n",
       "      <td>1468</td>\n",
       "      <td>917500</td>\n",
       "    </tr>\n",
       "  </tbody>\n",
       "</table>\n",
       "</div>"
      ],
      "text/plain": [
       "   ID_Escola Nome_Escola Tipo_Escola  Numero_Alunos  Orcamento_Anual\n",
       "0          0    Escola A     Publica           2917          1910635\n",
       "1          1    Escola B     Publica           2949          1884411\n",
       "2          2    Escola C  Particular           1761          1056600\n",
       "3          3    Escola D     Publica           4635          3022020\n",
       "4          4    Escola E  Particular           1468           917500"
      ]
     },
     "execution_count": 164,
     "metadata": {},
     "output_type": "execute_result"
    }
   ],
   "source": [
    "df_escolas.head()"
   ]
  },
  {
   "cell_type": "code",
   "execution_count": 165,
   "id": "c63ef58a",
   "metadata": {},
   "outputs": [
    {
     "data": {
      "text/plain": [
       "(15, 5)"
      ]
     },
     "execution_count": 165,
     "metadata": {},
     "output_type": "execute_result"
    }
   ],
   "source": [
    "df_escolas.shape"
   ]
  },
  {
   "cell_type": "code",
   "execution_count": 166,
   "id": "0adf9665",
   "metadata": {},
   "outputs": [],
   "source": [
    "# Carrega o dataset de estudantes\n",
    "df_estudantes = pd.read_csv('dataset_estudantes.csv')"
   ]
  },
  {
   "cell_type": "code",
   "execution_count": 167,
   "id": "1d5c77da",
   "metadata": {},
   "outputs": [
    {
     "data": {
      "text/html": [
       "<div>\n",
       "<style scoped>\n",
       "    .dataframe tbody tr th:only-of-type {\n",
       "        vertical-align: middle;\n",
       "    }\n",
       "\n",
       "    .dataframe tbody tr th {\n",
       "        vertical-align: top;\n",
       "    }\n",
       "\n",
       "    .dataframe thead th {\n",
       "        text-align: right;\n",
       "    }\n",
       "</style>\n",
       "<table border=\"1\" class=\"dataframe\">\n",
       "  <thead>\n",
       "    <tr style=\"text-align: right;\">\n",
       "      <th></th>\n",
       "      <th>ID_Estudante</th>\n",
       "      <th>Nome_Estudante</th>\n",
       "      <th>Genero</th>\n",
       "      <th>Serie</th>\n",
       "      <th>Nome_Escola</th>\n",
       "      <th>Nota_Redacao</th>\n",
       "      <th>Nota_Matematica</th>\n",
       "    </tr>\n",
       "  </thead>\n",
       "  <tbody>\n",
       "    <tr>\n",
       "      <th>0</th>\n",
       "      <td>0</td>\n",
       "      <td>Kevin Bradley</td>\n",
       "      <td>M</td>\n",
       "      <td>6</td>\n",
       "      <td>Escola A</td>\n",
       "      <td>66</td>\n",
       "      <td>79</td>\n",
       "    </tr>\n",
       "    <tr>\n",
       "      <th>1</th>\n",
       "      <td>1</td>\n",
       "      <td>Paul Smith</td>\n",
       "      <td>M</td>\n",
       "      <td>9</td>\n",
       "      <td>Escola A</td>\n",
       "      <td>94</td>\n",
       "      <td>61</td>\n",
       "    </tr>\n",
       "    <tr>\n",
       "      <th>2</th>\n",
       "      <td>2</td>\n",
       "      <td>John Rodriguez</td>\n",
       "      <td>M</td>\n",
       "      <td>9</td>\n",
       "      <td>Escola A</td>\n",
       "      <td>90</td>\n",
       "      <td>60</td>\n",
       "    </tr>\n",
       "    <tr>\n",
       "      <th>3</th>\n",
       "      <td>3</td>\n",
       "      <td>Oliver Scott</td>\n",
       "      <td>M</td>\n",
       "      <td>9</td>\n",
       "      <td>Escola A</td>\n",
       "      <td>67</td>\n",
       "      <td>58</td>\n",
       "    </tr>\n",
       "    <tr>\n",
       "      <th>4</th>\n",
       "      <td>4</td>\n",
       "      <td>William Ray</td>\n",
       "      <td>F</td>\n",
       "      <td>6</td>\n",
       "      <td>Escola A</td>\n",
       "      <td>97</td>\n",
       "      <td>84</td>\n",
       "    </tr>\n",
       "  </tbody>\n",
       "</table>\n",
       "</div>"
      ],
      "text/plain": [
       "   ID_Estudante  Nome_Estudante Genero  Serie Nome_Escola  Nota_Redacao  \\\n",
       "0             0   Kevin Bradley      M      6    Escola A            66   \n",
       "1             1      Paul Smith      M      9    Escola A            94   \n",
       "2             2  John Rodriguez      M      9    Escola A            90   \n",
       "3             3    Oliver Scott      M      9    Escola A            67   \n",
       "4             4     William Ray      F      6    Escola A            97   \n",
       "\n",
       "   Nota_Matematica  \n",
       "0               79  \n",
       "1               61  \n",
       "2               60  \n",
       "3               58  \n",
       "4               84  "
      ]
     },
     "execution_count": 167,
     "metadata": {},
     "output_type": "execute_result"
    }
   ],
   "source": [
    "df_estudantes.head()"
   ]
  },
  {
   "cell_type": "code",
   "execution_count": 168,
   "id": "22ae53b8",
   "metadata": {},
   "outputs": [
    {
     "data": {
      "text/plain": [
       "(39160, 7)"
      ]
     },
     "execution_count": 168,
     "metadata": {},
     "output_type": "execute_result"
    }
   ],
   "source": [
    "df_estudantes.shape"
   ]
  },
  {
   "cell_type": "code",
   "execution_count": 169,
   "id": "8e73b0ab",
   "metadata": {},
   "outputs": [],
   "source": [
    "# Combinar os dois datasets\n",
    "df_full = pd.merge(df_estudantes, df_escolas, how = 'left', on = ['Nome_Escola', 'Nome_Escola'])"
   ]
  },
  {
   "cell_type": "code",
   "execution_count": 170,
   "id": "333b5177",
   "metadata": {},
   "outputs": [
    {
     "data": {
      "text/html": [
       "<div>\n",
       "<style scoped>\n",
       "    .dataframe tbody tr th:only-of-type {\n",
       "        vertical-align: middle;\n",
       "    }\n",
       "\n",
       "    .dataframe tbody tr th {\n",
       "        vertical-align: top;\n",
       "    }\n",
       "\n",
       "    .dataframe thead th {\n",
       "        text-align: right;\n",
       "    }\n",
       "</style>\n",
       "<table border=\"1\" class=\"dataframe\">\n",
       "  <thead>\n",
       "    <tr style=\"text-align: right;\">\n",
       "      <th></th>\n",
       "      <th>ID_Estudante</th>\n",
       "      <th>Nome_Estudante</th>\n",
       "      <th>Genero</th>\n",
       "      <th>Serie</th>\n",
       "      <th>Nome_Escola</th>\n",
       "      <th>Nota_Redacao</th>\n",
       "      <th>Nota_Matematica</th>\n",
       "      <th>ID_Escola</th>\n",
       "      <th>Tipo_Escola</th>\n",
       "      <th>Numero_Alunos</th>\n",
       "      <th>Orcamento_Anual</th>\n",
       "    </tr>\n",
       "  </thead>\n",
       "  <tbody>\n",
       "    <tr>\n",
       "      <th>0</th>\n",
       "      <td>0</td>\n",
       "      <td>Kevin Bradley</td>\n",
       "      <td>M</td>\n",
       "      <td>6</td>\n",
       "      <td>Escola A</td>\n",
       "      <td>66</td>\n",
       "      <td>79</td>\n",
       "      <td>0</td>\n",
       "      <td>Publica</td>\n",
       "      <td>2917</td>\n",
       "      <td>1910635</td>\n",
       "    </tr>\n",
       "    <tr>\n",
       "      <th>1</th>\n",
       "      <td>1</td>\n",
       "      <td>Paul Smith</td>\n",
       "      <td>M</td>\n",
       "      <td>9</td>\n",
       "      <td>Escola A</td>\n",
       "      <td>94</td>\n",
       "      <td>61</td>\n",
       "      <td>0</td>\n",
       "      <td>Publica</td>\n",
       "      <td>2917</td>\n",
       "      <td>1910635</td>\n",
       "    </tr>\n",
       "    <tr>\n",
       "      <th>2</th>\n",
       "      <td>2</td>\n",
       "      <td>John Rodriguez</td>\n",
       "      <td>M</td>\n",
       "      <td>9</td>\n",
       "      <td>Escola A</td>\n",
       "      <td>90</td>\n",
       "      <td>60</td>\n",
       "      <td>0</td>\n",
       "      <td>Publica</td>\n",
       "      <td>2917</td>\n",
       "      <td>1910635</td>\n",
       "    </tr>\n",
       "    <tr>\n",
       "      <th>3</th>\n",
       "      <td>3</td>\n",
       "      <td>Oliver Scott</td>\n",
       "      <td>M</td>\n",
       "      <td>9</td>\n",
       "      <td>Escola A</td>\n",
       "      <td>67</td>\n",
       "      <td>58</td>\n",
       "      <td>0</td>\n",
       "      <td>Publica</td>\n",
       "      <td>2917</td>\n",
       "      <td>1910635</td>\n",
       "    </tr>\n",
       "    <tr>\n",
       "      <th>4</th>\n",
       "      <td>4</td>\n",
       "      <td>William Ray</td>\n",
       "      <td>F</td>\n",
       "      <td>6</td>\n",
       "      <td>Escola A</td>\n",
       "      <td>97</td>\n",
       "      <td>84</td>\n",
       "      <td>0</td>\n",
       "      <td>Publica</td>\n",
       "      <td>2917</td>\n",
       "      <td>1910635</td>\n",
       "    </tr>\n",
       "  </tbody>\n",
       "</table>\n",
       "</div>"
      ],
      "text/plain": [
       "   ID_Estudante  Nome_Estudante Genero  Serie Nome_Escola  Nota_Redacao  \\\n",
       "0             0   Kevin Bradley      M      6    Escola A            66   \n",
       "1             1      Paul Smith      M      9    Escola A            94   \n",
       "2             2  John Rodriguez      M      9    Escola A            90   \n",
       "3             3    Oliver Scott      M      9    Escola A            67   \n",
       "4             4     William Ray      F      6    Escola A            97   \n",
       "\n",
       "   Nota_Matematica  ID_Escola Tipo_Escola  Numero_Alunos  Orcamento_Anual  \n",
       "0               79          0     Publica           2917          1910635  \n",
       "1               61          0     Publica           2917          1910635  \n",
       "2               60          0     Publica           2917          1910635  \n",
       "3               58          0     Publica           2917          1910635  \n",
       "4               84          0     Publica           2917          1910635  "
      ]
     },
     "execution_count": 170,
     "metadata": {},
     "output_type": "execute_result"
    }
   ],
   "source": [
    "df_full.head()"
   ]
  },
  {
   "cell_type": "code",
   "execution_count": 171,
   "id": "f2d3f0ad",
   "metadata": {},
   "outputs": [
    {
     "data": {
      "text/plain": [
       "(39160, 11)"
      ]
     },
     "execution_count": 171,
     "metadata": {},
     "output_type": "execute_result"
    }
   ],
   "source": [
    "df_full.shape"
   ]
  },
  {
   "cell_type": "code",
   "execution_count": 172,
   "id": "88c67887",
   "metadata": {},
   "outputs": [
    {
     "data": {
      "text/plain": [
       "array([6, 9, 8, 7])"
      ]
     },
     "execution_count": 172,
     "metadata": {},
     "output_type": "execute_result"
    }
   ],
   "source": [
    "# Series escolares no dataset\n",
    "df_full['Serie'].unique()"
   ]
  },
  {
   "cell_type": "code",
   "execution_count": 173,
   "id": "cb0177a4",
   "metadata": {},
   "outputs": [
    {
     "data": {
      "text/plain": [
       "array(['M', 'F'], dtype=object)"
      ]
     },
     "execution_count": 173,
     "metadata": {},
     "output_type": "execute_result"
    }
   ],
   "source": [
    "# Genero\n",
    "dados_full['Genero'].unique()"
   ]
  },
  {
   "cell_type": "markdown",
   "id": "3ccc52e4",
   "metadata": {},
   "source": [
    "## Desafio de Análise de Dados\n",
    "\n",
    "Responda as pergundas abaixo"
   ]
  },
  {
   "cell_type": "markdown",
   "id": "2fe3db17",
   "metadata": {},
   "source": [
    "### 1 - Temos dados de quantas escolas?"
   ]
  },
  {
   "cell_type": "code",
   "execution_count": 221,
   "id": "79fea525",
   "metadata": {},
   "outputs": [
    {
     "data": {
      "text/plain": [
       "15"
      ]
     },
     "execution_count": 221,
     "metadata": {},
     "output_type": "execute_result"
    }
   ],
   "source": [
    "total_escolas = df_full['Nome_Escola'].nunique()\n",
    "total_escolas"
   ]
  },
  {
   "cell_type": "markdown",
   "id": "e628fab8",
   "metadata": {},
   "source": [
    "### 2 - Qual o total de registros de estudantes na base de dados?"
   ]
  },
  {
   "cell_type": "code",
   "execution_count": 198,
   "id": "ed6a0add",
   "metadata": {},
   "outputs": [
    {
     "data": {
      "text/plain": [
       "39160"
      ]
     },
     "execution_count": 198,
     "metadata": {},
     "output_type": "execute_result"
    }
   ],
   "source": [
    "total_registros = df_full['Nome_Estudante'].shape[0]\n",
    "total_registros"
   ]
  },
  {
   "cell_type": "markdown",
   "id": "6fa9fd0c",
   "metadata": {},
   "source": [
    "### 3 - Qual o orçamento total considerando todas as escolas?"
   ]
  },
  {
   "cell_type": "code",
   "execution_count": 226,
   "id": "7f9a87cc",
   "metadata": {},
   "outputs": [],
   "source": [
    "df_orcamento = df_full.groupby('Nome_Escola').mean('Orcamento_Anual')"
   ]
  },
  {
   "cell_type": "code",
   "execution_count": 227,
   "id": "9741cc46",
   "metadata": {},
   "outputs": [
    {
     "data": {
      "text/html": [
       "<div>\n",
       "<style scoped>\n",
       "    .dataframe tbody tr th:only-of-type {\n",
       "        vertical-align: middle;\n",
       "    }\n",
       "\n",
       "    .dataframe tbody tr th {\n",
       "        vertical-align: top;\n",
       "    }\n",
       "\n",
       "    .dataframe thead th {\n",
       "        text-align: right;\n",
       "    }\n",
       "</style>\n",
       "<table border=\"1\" class=\"dataframe\">\n",
       "  <thead>\n",
       "    <tr style=\"text-align: right;\">\n",
       "      <th></th>\n",
       "      <th>ID_Estudante</th>\n",
       "      <th>Serie</th>\n",
       "      <th>Nota_Redacao</th>\n",
       "      <th>Nota_Matematica</th>\n",
       "      <th>ID_Escola</th>\n",
       "      <th>Numero_Alunos</th>\n",
       "      <th>Orcamento_Anual</th>\n",
       "    </tr>\n",
       "    <tr>\n",
       "      <th>Nome_Escola</th>\n",
       "      <th></th>\n",
       "      <th></th>\n",
       "      <th></th>\n",
       "      <th></th>\n",
       "      <th></th>\n",
       "      <th></th>\n",
       "      <th></th>\n",
       "    </tr>\n",
       "  </thead>\n",
       "  <tbody>\n",
       "    <tr>\n",
       "      <th>Escola A</th>\n",
       "      <td>1458.0</td>\n",
       "      <td>7.358930</td>\n",
       "      <td>81.182722</td>\n",
       "      <td>76.629414</td>\n",
       "      <td>0.0</td>\n",
       "      <td>2917.0</td>\n",
       "      <td>1910635.0</td>\n",
       "    </tr>\n",
       "    <tr>\n",
       "      <th>Escola B</th>\n",
       "      <td>4391.0</td>\n",
       "      <td>7.371312</td>\n",
       "      <td>81.158020</td>\n",
       "      <td>76.711767</td>\n",
       "      <td>1.0</td>\n",
       "      <td>2949.0</td>\n",
       "      <td>1884411.0</td>\n",
       "    </tr>\n",
       "    <tr>\n",
       "      <th>Escola C</th>\n",
       "      <td>6746.0</td>\n",
       "      <td>7.354344</td>\n",
       "      <td>83.725724</td>\n",
       "      <td>83.359455</td>\n",
       "      <td>2.0</td>\n",
       "      <td>1761.0</td>\n",
       "      <td>1056600.0</td>\n",
       "    </tr>\n",
       "    <tr>\n",
       "      <th>Escola D</th>\n",
       "      <td>9944.0</td>\n",
       "      <td>7.341316</td>\n",
       "      <td>80.934412</td>\n",
       "      <td>77.289752</td>\n",
       "      <td>3.0</td>\n",
       "      <td>4635.0</td>\n",
       "      <td>3022020.0</td>\n",
       "    </tr>\n",
       "    <tr>\n",
       "      <th>Escola E</th>\n",
       "      <td>12995.5</td>\n",
       "      <td>7.365123</td>\n",
       "      <td>83.816757</td>\n",
       "      <td>83.351499</td>\n",
       "      <td>4.0</td>\n",
       "      <td>1468.0</td>\n",
       "      <td>917500.0</td>\n",
       "    </tr>\n",
       "  </tbody>\n",
       "</table>\n",
       "</div>"
      ],
      "text/plain": [
       "             ID_Estudante     Serie  Nota_Redacao  Nota_Matematica  ID_Escola  \\\n",
       "Nome_Escola                                                                     \n",
       "Escola A           1458.0  7.358930     81.182722        76.629414        0.0   \n",
       "Escola B           4391.0  7.371312     81.158020        76.711767        1.0   \n",
       "Escola C           6746.0  7.354344     83.725724        83.359455        2.0   \n",
       "Escola D           9944.0  7.341316     80.934412        77.289752        3.0   \n",
       "Escola E          12995.5  7.365123     83.816757        83.351499        4.0   \n",
       "\n",
       "             Numero_Alunos  Orcamento_Anual  \n",
       "Nome_Escola                                  \n",
       "Escola A            2917.0        1910635.0  \n",
       "Escola B            2949.0        1884411.0  \n",
       "Escola C            1761.0        1056600.0  \n",
       "Escola D            4635.0        3022020.0  \n",
       "Escola E            1468.0         917500.0  "
      ]
     },
     "execution_count": 227,
     "metadata": {},
     "output_type": "execute_result"
    }
   ],
   "source": [
    "df_orcamento.head()"
   ]
  },
  {
   "cell_type": "code",
   "execution_count": 229,
   "id": "0a7b2493",
   "metadata": {},
   "outputs": [
    {
     "data": {
      "text/plain": [
       "24649428.0"
      ]
     },
     "execution_count": 229,
     "metadata": {},
     "output_type": "execute_result"
    }
   ],
   "source": [
    "orcamento_total = df_orcamento['Orcamento_Anual'].sum()\n",
    "orcamento_total"
   ]
  },
  {
   "cell_type": "markdown",
   "id": "5d3da2c3",
   "metadata": {},
   "source": [
    "### 4 - Qual a média da nota dos alunos em Redação?"
   ]
  },
  {
   "cell_type": "code",
   "execution_count": 230,
   "id": "893a5de5",
   "metadata": {},
   "outputs": [
    {
     "data": {
      "text/plain": [
       "81.87574055158325"
      ]
     },
     "execution_count": 230,
     "metadata": {},
     "output_type": "execute_result"
    }
   ],
   "source": [
    "media_redacao = df_full['Nota_Redacao'].mean()\n",
    "media_redacao"
   ]
  },
  {
   "cell_type": "markdown",
   "id": "73f68794",
   "metadata": {},
   "source": [
    "### 5 - Qual a média da nota dos alunos em Matemática?"
   ]
  },
  {
   "cell_type": "code",
   "execution_count": 231,
   "id": "0520a66d",
   "metadata": {},
   "outputs": [
    {
     "data": {
      "text/plain": [
       "78.98493360572012"
      ]
     },
     "execution_count": 231,
     "metadata": {},
     "output_type": "execute_result"
    }
   ],
   "source": [
    "media_matematica = df_full['Nota_Matematica'].mean()\n",
    "media_matematica"
   ]
  },
  {
   "cell_type": "markdown",
   "id": "5d5ad40b",
   "metadata": {},
   "source": [
    "### 6 - Considerando que a nota de aprovação é 70, quantos alunos foram aprovados em Redação? (Entregue o resultado em valor absoluto e percentual)"
   ]
  },
  {
   "cell_type": "code",
   "execution_count": 236,
   "id": "b54edf41",
   "metadata": {},
   "outputs": [
    {
     "name": "stdout",
     "output_type": "stream",
     "text": [
      "33600\n"
     ]
    }
   ],
   "source": [
    "aprovados_redacao = df_full.loc[df_full['Nota_Redacao'] >= 70]\n",
    "aprovados_redacao = aprovados_redacao.shape[0]\n",
    "print(aprovados_redacao)"
   ]
  },
  {
   "cell_type": "code",
   "execution_count": 238,
   "id": "9dbf160d",
   "metadata": {},
   "outputs": [
    {
     "data": {
      "text/plain": [
       "85.80183861082737"
      ]
     },
     "execution_count": 238,
     "metadata": {},
     "output_type": "execute_result"
    }
   ],
   "source": [
    "alunos_total = df_full.shape[0]\n",
    "aprovados_redacao = (aprovados_redacao / alunos_total) * 100\n",
    "aprovados_redacao"
   ]
  },
  {
   "cell_type": "markdown",
   "id": "6d946124",
   "metadata": {},
   "source": [
    "### 7 - Considerando que a nota de aprovação é 70, quantos alunos foram aprovados em Matemática? (Entregue o resultado em valor absoluto e percentual)"
   ]
  },
  {
   "cell_type": "code",
   "execution_count": 242,
   "id": "f8fff115",
   "metadata": {},
   "outputs": [
    {
     "data": {
      "text/plain": [
       "29360"
      ]
     },
     "execution_count": 242,
     "metadata": {},
     "output_type": "execute_result"
    }
   ],
   "source": [
    "aprovados_matematica = df_full.loc[df_full['Nota_Matematica'] >= 70, :]\n",
    "aprovados_matematica = aprovados_matematica.shape[0]\n",
    "aprovados_matematica"
   ]
  },
  {
   "cell_type": "code",
   "execution_count": 243,
   "id": "b8186072",
   "metadata": {},
   "outputs": [
    {
     "data": {
      "text/plain": [
       "74.97446373850867"
      ]
     },
     "execution_count": 243,
     "metadata": {},
     "output_type": "execute_result"
    }
   ],
   "source": [
    "aprovados_matematica = (aprovados_matematica / alunos_total) * 100\n",
    "aprovados_matematica"
   ]
  },
  {
   "cell_type": "markdown",
   "id": "ae9c815a",
   "metadata": {},
   "source": [
    "### 8 - Considerando que a nota de aprovação é 70, quantos alunos foram aprovados em Matemática e Redação? (Entregue o resultado em valor absoluto e percentual)"
   ]
  },
  {
   "cell_type": "code",
   "execution_count": 249,
   "id": "a9ce64e4",
   "metadata": {},
   "outputs": [
    {
     "data": {
      "text/plain": [
       "25518"
      ]
     },
     "execution_count": 249,
     "metadata": {},
     "output_type": "execute_result"
    }
   ],
   "source": [
    "aprovados_red_mat = df_full.loc[(df_full['Nota_Matematica'] >= 70) & (df_full['Nota_Redacao'] >= 70), :]\n",
    "aprovados_red_mat = aprovados_red_mat.shape[0]\n",
    "aprovados_red_mat "
   ]
  },
  {
   "cell_type": "code",
   "execution_count": 250,
   "id": "bf8f2078",
   "metadata": {},
   "outputs": [
    {
     "data": {
      "text/plain": [
       "65.16343207354444"
      ]
     },
     "execution_count": 250,
     "metadata": {},
     "output_type": "execute_result"
    }
   ],
   "source": [
    "aprovados_red_mat = (aprovados_red_mat / alunos_total) * 100\n",
    "aprovados_red_mat"
   ]
  },
  {
   "cell_type": "markdown",
   "id": "fb418804",
   "metadata": {},
   "source": [
    "### 9 - Crie um dataframe com os resultados das questões de 1 a 8 que você calculou acima. (Dica: crie um dicionário e depois converta em dataframe do Pandas)"
   ]
  },
  {
   "cell_type": "code",
   "execution_count": 253,
   "id": "09c9fa15",
   "metadata": {},
   "outputs": [],
   "source": [
    "df_performance_escolar = pd.DataFrame({'Numero_Escolas': [total_escolas],\n",
    "                           'Total_Estudantes': [total_registros],\n",
    "                           'Orcamento_Total': [orcamento_total],\n",
    "                           'Media_Redacao': [media_redacao],\n",
    "                           'Media_Matematica': [media_matematica],\n",
    "                           'Aprovados_Redacao': [aprovados_redacao],\n",
    "                           'Aprovados_Matematica': [aprovados_matematica],\n",
    "                           'Aprovados_red_mat': [aprovados_red_mat],\n",
    "                         })\n"
   ]
  },
  {
   "cell_type": "code",
   "execution_count": 254,
   "id": "ca47d9f4",
   "metadata": {},
   "outputs": [
    {
     "data": {
      "text/html": [
       "<div>\n",
       "<style scoped>\n",
       "    .dataframe tbody tr th:only-of-type {\n",
       "        vertical-align: middle;\n",
       "    }\n",
       "\n",
       "    .dataframe tbody tr th {\n",
       "        vertical-align: top;\n",
       "    }\n",
       "\n",
       "    .dataframe thead th {\n",
       "        text-align: right;\n",
       "    }\n",
       "</style>\n",
       "<table border=\"1\" class=\"dataframe\">\n",
       "  <thead>\n",
       "    <tr style=\"text-align: right;\">\n",
       "      <th></th>\n",
       "      <th>Numero_Escolas</th>\n",
       "      <th>Total_Estudantes</th>\n",
       "      <th>Orcamento_Total</th>\n",
       "      <th>Media_Redacao</th>\n",
       "      <th>Media_Matematica</th>\n",
       "      <th>Aprovados_Redacao</th>\n",
       "      <th>Aprovados_Matematica</th>\n",
       "      <th>Aprovados_red_mat</th>\n",
       "    </tr>\n",
       "  </thead>\n",
       "  <tbody>\n",
       "    <tr>\n",
       "      <th>0</th>\n",
       "      <td>15</td>\n",
       "      <td>39160</td>\n",
       "      <td>24649428.0</td>\n",
       "      <td>81.875741</td>\n",
       "      <td>78.984934</td>\n",
       "      <td>85.801839</td>\n",
       "      <td>74.974464</td>\n",
       "      <td>65.163432</td>\n",
       "    </tr>\n",
       "  </tbody>\n",
       "</table>\n",
       "</div>"
      ],
      "text/plain": [
       "   Numero_Escolas  Total_Estudantes  Orcamento_Total  Media_Redacao  \\\n",
       "0              15             39160       24649428.0      81.875741   \n",
       "\n",
       "   Media_Matematica  Aprovados_Redacao  Aprovados_Matematica  \\\n",
       "0         78.984934          85.801839             74.974464   \n",
       "\n",
       "   Aprovados_red_mat  \n",
       "0          65.163432  "
      ]
     },
     "execution_count": 254,
     "metadata": {},
     "output_type": "execute_result"
    }
   ],
   "source": [
    "df_performance_escolar"
   ]
  },
  {
   "cell_type": "markdown",
   "id": "af8d8da5",
   "metadata": {},
   "source": [
    "### 10 - Formate as colunas \"Total de Estudantes\" e \"Total Orçamento\" ajustando as casas decimais."
   ]
  },
  {
   "cell_type": "code",
   "execution_count": 255,
   "id": "e19ac2db",
   "metadata": {},
   "outputs": [],
   "source": [
    "df_performance_escolar['Total_Estudantes'] = df_performance_escolar['Total_Estudantes'].map('{:,}'.format)\n",
    "df_performance_escolar['Orcamento_Total'] = df_performance_escolar['Orcamento_Total'].map('${:,.2f}'.format)"
   ]
  },
  {
   "cell_type": "code",
   "execution_count": 256,
   "id": "bd9ce583",
   "metadata": {},
   "outputs": [
    {
     "data": {
      "text/html": [
       "<div>\n",
       "<style scoped>\n",
       "    .dataframe tbody tr th:only-of-type {\n",
       "        vertical-align: middle;\n",
       "    }\n",
       "\n",
       "    .dataframe tbody tr th {\n",
       "        vertical-align: top;\n",
       "    }\n",
       "\n",
       "    .dataframe thead th {\n",
       "        text-align: right;\n",
       "    }\n",
       "</style>\n",
       "<table border=\"1\" class=\"dataframe\">\n",
       "  <thead>\n",
       "    <tr style=\"text-align: right;\">\n",
       "      <th></th>\n",
       "      <th>Numero_Escolas</th>\n",
       "      <th>Total_Estudantes</th>\n",
       "      <th>Orcamento_Total</th>\n",
       "      <th>Media_Redacao</th>\n",
       "      <th>Media_Matematica</th>\n",
       "      <th>Aprovados_Redacao</th>\n",
       "      <th>Aprovados_Matematica</th>\n",
       "      <th>Aprovados_red_mat</th>\n",
       "    </tr>\n",
       "  </thead>\n",
       "  <tbody>\n",
       "    <tr>\n",
       "      <th>0</th>\n",
       "      <td>15</td>\n",
       "      <td>39,160</td>\n",
       "      <td>$24,649,428.00</td>\n",
       "      <td>81.875741</td>\n",
       "      <td>78.984934</td>\n",
       "      <td>85.801839</td>\n",
       "      <td>74.974464</td>\n",
       "      <td>65.163432</td>\n",
       "    </tr>\n",
       "  </tbody>\n",
       "</table>\n",
       "</div>"
      ],
      "text/plain": [
       "   Numero_Escolas Total_Estudantes Orcamento_Total  Media_Redacao  \\\n",
       "0              15           39,160  $24,649,428.00      81.875741   \n",
       "\n",
       "   Media_Matematica  Aprovados_Redacao  Aprovados_Matematica  \\\n",
       "0         78.984934          85.801839             74.974464   \n",
       "\n",
       "   Aprovados_red_mat  \n",
       "0          65.163432  "
      ]
     },
     "execution_count": 256,
     "metadata": {},
     "output_type": "execute_result"
    }
   ],
   "source": [
    "df_performance_escolar"
   ]
  },
  {
   "cell_type": "markdown",
   "id": "2b3f9bd8",
   "metadata": {},
   "source": [
    "## Análise de Dados com Pandas"
   ]
  },
  {
   "cell_type": "code",
   "execution_count": 257,
   "id": "4b235c6f",
   "metadata": {},
   "outputs": [
    {
     "data": {
      "text/html": [
       "<div>\n",
       "<style scoped>\n",
       "    .dataframe tbody tr th:only-of-type {\n",
       "        vertical-align: middle;\n",
       "    }\n",
       "\n",
       "    .dataframe tbody tr th {\n",
       "        vertical-align: top;\n",
       "    }\n",
       "\n",
       "    .dataframe thead th {\n",
       "        text-align: right;\n",
       "    }\n",
       "</style>\n",
       "<table border=\"1\" class=\"dataframe\">\n",
       "  <thead>\n",
       "    <tr style=\"text-align: right;\">\n",
       "      <th></th>\n",
       "      <th>ID_Estudante</th>\n",
       "      <th>Nome_Estudante</th>\n",
       "      <th>Genero</th>\n",
       "      <th>Serie</th>\n",
       "      <th>Nome_Escola</th>\n",
       "      <th>Nota_Redacao</th>\n",
       "      <th>Nota_Matematica</th>\n",
       "      <th>ID_Escola</th>\n",
       "      <th>Tipo_Escola</th>\n",
       "      <th>Numero_Alunos</th>\n",
       "      <th>Orcamento_Anual</th>\n",
       "    </tr>\n",
       "  </thead>\n",
       "  <tbody>\n",
       "    <tr>\n",
       "      <th>0</th>\n",
       "      <td>0</td>\n",
       "      <td>Kevin Bradley</td>\n",
       "      <td>M</td>\n",
       "      <td>6</td>\n",
       "      <td>Escola A</td>\n",
       "      <td>66</td>\n",
       "      <td>79</td>\n",
       "      <td>0</td>\n",
       "      <td>Publica</td>\n",
       "      <td>2917</td>\n",
       "      <td>1910635</td>\n",
       "    </tr>\n",
       "    <tr>\n",
       "      <th>1</th>\n",
       "      <td>1</td>\n",
       "      <td>Paul Smith</td>\n",
       "      <td>M</td>\n",
       "      <td>9</td>\n",
       "      <td>Escola A</td>\n",
       "      <td>94</td>\n",
       "      <td>61</td>\n",
       "      <td>0</td>\n",
       "      <td>Publica</td>\n",
       "      <td>2917</td>\n",
       "      <td>1910635</td>\n",
       "    </tr>\n",
       "    <tr>\n",
       "      <th>2</th>\n",
       "      <td>2</td>\n",
       "      <td>John Rodriguez</td>\n",
       "      <td>M</td>\n",
       "      <td>9</td>\n",
       "      <td>Escola A</td>\n",
       "      <td>90</td>\n",
       "      <td>60</td>\n",
       "      <td>0</td>\n",
       "      <td>Publica</td>\n",
       "      <td>2917</td>\n",
       "      <td>1910635</td>\n",
       "    </tr>\n",
       "    <tr>\n",
       "      <th>3</th>\n",
       "      <td>3</td>\n",
       "      <td>Oliver Scott</td>\n",
       "      <td>M</td>\n",
       "      <td>9</td>\n",
       "      <td>Escola A</td>\n",
       "      <td>67</td>\n",
       "      <td>58</td>\n",
       "      <td>0</td>\n",
       "      <td>Publica</td>\n",
       "      <td>2917</td>\n",
       "      <td>1910635</td>\n",
       "    </tr>\n",
       "    <tr>\n",
       "      <th>4</th>\n",
       "      <td>4</td>\n",
       "      <td>William Ray</td>\n",
       "      <td>F</td>\n",
       "      <td>6</td>\n",
       "      <td>Escola A</td>\n",
       "      <td>97</td>\n",
       "      <td>84</td>\n",
       "      <td>0</td>\n",
       "      <td>Publica</td>\n",
       "      <td>2917</td>\n",
       "      <td>1910635</td>\n",
       "    </tr>\n",
       "  </tbody>\n",
       "</table>\n",
       "</div>"
      ],
      "text/plain": [
       "   ID_Estudante  Nome_Estudante Genero  Serie Nome_Escola  Nota_Redacao  \\\n",
       "0             0   Kevin Bradley      M      6    Escola A            66   \n",
       "1             1      Paul Smith      M      9    Escola A            94   \n",
       "2             2  John Rodriguez      M      9    Escola A            90   \n",
       "3             3    Oliver Scott      M      9    Escola A            67   \n",
       "4             4     William Ray      F      6    Escola A            97   \n",
       "\n",
       "   Nota_Matematica  ID_Escola Tipo_Escola  Numero_Alunos  Orcamento_Anual  \n",
       "0               79          0     Publica           2917          1910635  \n",
       "1               61          0     Publica           2917          1910635  \n",
       "2               60          0     Publica           2917          1910635  \n",
       "3               58          0     Publica           2917          1910635  \n",
       "4               84          0     Publica           2917          1910635  "
      ]
     },
     "execution_count": 257,
     "metadata": {},
     "output_type": "execute_result"
    }
   ],
   "source": [
    "df_full.head()"
   ]
  },
  {
   "cell_type": "markdown",
   "id": "0f1269ef",
   "metadata": {},
   "source": [
    "### 1 - Entre os alunos aprovados em Redação, qual genêro obteve maior número de aprovações?"
   ]
  },
  {
   "cell_type": "code",
   "execution_count": 476,
   "id": "6d16fade",
   "metadata": {},
   "outputs": [
    {
     "data": {
      "text/plain": [
       "Genero\n",
       "F    17027\n",
       "M    16573\n",
       "dtype: int64"
      ]
     },
     "execution_count": 476,
     "metadata": {},
     "output_type": "execute_result"
    }
   ],
   "source": [
    "aprovados_redacao_genero = df_full.loc[df_full['Nota_Redacao'] >= 70, ['Genero']]\n",
    "aprovados_redacao_genero = aprovados_redacao_genero.groupby('Genero').value_counts()\n",
    "aprovados_redacao_genero"
   ]
  },
  {
   "cell_type": "code",
   "execution_count": 495,
   "id": "79bc3603",
   "metadata": {},
   "outputs": [
    {
     "data": {
      "text/plain": [
       "F    17027\n",
       "M    16573\n",
       "Name: Genero, dtype: int64"
      ]
     },
     "execution_count": 495,
     "metadata": {},
     "output_type": "execute_result"
    }
   ],
   "source": [
    "aprovados_redacao_genero = df_full[df_full['Nota_Redacao'] >= 70]['Genero'].value_counts()\n",
    "aprovados_redacao_genero"
   ]
  },
  {
   "cell_type": "markdown",
   "id": "caee3fee",
   "metadata": {},
   "source": [
    "### 2 - Entre os alunos aprovados em Matemátca, qual genêro obteve maior número de aprovações?"
   ]
  },
  {
   "cell_type": "code",
   "execution_count": 477,
   "id": "07dce5e2",
   "metadata": {},
   "outputs": [
    {
     "data": {
      "text/plain": [
       "Genero\n",
       "F    14835\n",
       "M    14525\n",
       "dtype: int64"
      ]
     },
     "execution_count": 477,
     "metadata": {},
     "output_type": "execute_result"
    }
   ],
   "source": [
    "aprovados_matematica_genero = df_full.loc[df_full['Nota_Matematica'] >= 70, ['Genero']]\n",
    "aprovados_matematica_genero = aprovados_matematica_genero.groupby('Genero').value_counts()\n",
    "aprovados_matematica_genero"
   ]
  },
  {
   "cell_type": "code",
   "execution_count": 496,
   "id": "892c57ec",
   "metadata": {},
   "outputs": [
    {
     "data": {
      "text/plain": [
       "F    14835\n",
       "M    14525\n",
       "Name: Genero, dtype: int64"
      ]
     },
     "execution_count": 496,
     "metadata": {},
     "output_type": "execute_result"
    }
   ],
   "source": [
    "aprovados_matematica_genero = df_full[df_full['Nota_Matematica'] >= 70]['Genero'].value_counts()\n",
    "aprovados_matematica_genero"
   ]
  },
  {
   "cell_type": "markdown",
   "id": "d585503f",
   "metadata": {},
   "source": [
    "### 3 - Quais os tipos de todas as escolas em nossa base de dados?"
   ]
  },
  {
   "cell_type": "code",
   "execution_count": 298,
   "id": "40a2b4d7",
   "metadata": {},
   "outputs": [
    {
     "data": {
      "text/plain": [
       "array(['Publica', 'Particular'], dtype=object)"
      ]
     },
     "execution_count": 298,
     "metadata": {},
     "output_type": "execute_result"
    }
   ],
   "source": [
    "## tipos_escolas = df_full['Tipo_Escola'].unique()\n",
    "## tipos_escolas"
   ]
  },
  {
   "cell_type": "code",
   "execution_count": 542,
   "id": "d308eee1",
   "metadata": {},
   "outputs": [
    {
     "data": {
      "text/plain": [
       "Nome_Escola\n",
       "Escola C    Particular\n",
       "Escola E    Particular\n",
       "Escola F    Particular\n",
       "Escola G    Particular\n",
       "Escola I    Particular\n",
       "Escola J    Particular\n",
       "Escola K    Particular\n",
       "Escola O    Particular\n",
       "Escola A       Publica\n",
       "Escola B       Publica\n",
       "Escola D       Publica\n",
       "Escola H       Publica\n",
       "Escola L       Publica\n",
       "Escola M       Publica\n",
       "Escola N       Publica\n",
       "Name: Tipo_Escola, dtype: object"
      ]
     },
     "execution_count": 542,
     "metadata": {},
     "output_type": "execute_result"
    }
   ],
   "source": [
    "tipos_escolas = df_escolas.set_index(['Nome_Escola'])['Tipo_Escola'].sort_values()\n",
    "tipos_escolas"
   ]
  },
  {
   "cell_type": "markdown",
   "id": "95849e01",
   "metadata": {},
   "source": [
    "### 4 - Qual o total de estudantes por escola?"
   ]
  },
  {
   "cell_type": "code",
   "execution_count": 565,
   "id": "57797e23",
   "metadata": {},
   "outputs": [
    {
     "data": {
      "text/plain": [
       "Escola I     427\n",
       "Escola J     962\n",
       "Escola E    1468\n",
       "Escola O    1625\n",
       "Escola C    1761\n",
       "Escola K    1800\n",
       "Escola G    1858\n",
       "Escola F    2283\n",
       "Escola N    2739\n",
       "Escola A    2917\n",
       "Escola B    2949\n",
       "Escola L    3999\n",
       "Escola D    4635\n",
       "Escola M    4761\n",
       "Escola H    4976\n",
       "Name: Nome_Escola, dtype: int64"
      ]
     },
     "execution_count": 565,
     "metadata": {},
     "output_type": "execute_result"
    }
   ],
   "source": [
    "estudantes_escola = df_full['Nome_Escola'].value_counts().sort_values()\n",
    "estudantes_escola\n"
   ]
  },
  {
   "cell_type": "code",
   "execution_count": 491,
   "id": "5e772c53",
   "metadata": {},
   "outputs": [
    {
     "data": {
      "text/plain": [
       "Escola I     427\n",
       "Escola J     962\n",
       "Escola E    1468\n",
       "Escola O    1625\n",
       "Escola C    1761\n",
       "Escola K    1800\n",
       "Escola G    1858\n",
       "Escola F    2283\n",
       "Escola N    2739\n",
       "Escola A    2917\n",
       "Escola B    2949\n",
       "Escola L    3999\n",
       "Escola D    4635\n",
       "Escola M    4761\n",
       "Escola H    4976\n",
       "Name: Nome_Escola, dtype: int64"
      ]
     },
     "execution_count": 491,
     "metadata": {},
     "output_type": "execute_result"
    }
   ],
   "source": [
    "estudantes_escola = df_full['Nome_Escola'].value_counts().sort_values()\n",
    "estudantes_escola"
   ]
  },
  {
   "cell_type": "markdown",
   "id": "c9d0169f",
   "metadata": {},
   "source": [
    "### 5 - Qual o total de orçamento de cada escola per capita (por estudante)?"
   ]
  },
  {
   "cell_type": "code",
   "execution_count": 600,
   "id": "f27756a3",
   "metadata": {},
   "outputs": [
    {
     "data": {
      "text/plain": [
       "Escola I     427\n",
       "Escola J     962\n",
       "Escola E    1468\n",
       "Escola O    1625\n",
       "Escola C    1761\n",
       "Escola K    1800\n",
       "Escola G    1858\n",
       "Escola F    2283\n",
       "Escola N    2739\n",
       "Escola A    2917\n",
       "Escola B    2949\n",
       "Escola L    3999\n",
       "Escola D    4635\n",
       "Escola M    4761\n",
       "Escola H    4976\n",
       "Name: Nome_Escola, dtype: int64"
      ]
     },
     "execution_count": 600,
     "metadata": {},
     "output_type": "execute_result"
    }
   ],
   "source": [
    "total_estudantes_escola = df_full['Nome_Escola'].value_counts().sort_values()\n",
    "total_estudantes_escola"
   ]
  },
  {
   "cell_type": "code",
   "execution_count": 597,
   "id": "4e5881c5",
   "metadata": {},
   "outputs": [
    {
     "name": "stderr",
     "output_type": "stream",
     "text": [
      "/tmp/ipykernel_519036/2394636164.py:1: FutureWarning: The default value of numeric_only in DataFrameGroupBy.mean is deprecated. In a future version, numeric_only will default to False. Either specify numeric_only or select only columns which should be valid for the function.\n",
      "  orc_escola = df_full.groupby('Nome_Escola').mean()['Orcamento_Anual'].sort_values()\n"
     ]
    },
    {
     "data": {
      "text/plain": [
       "Nome_Escola\n",
       "Escola I     248087.0\n",
       "Escola J     585858.0\n",
       "Escola E     917500.0\n",
       "Escola O    1043130.0\n",
       "Escola K    1049400.0\n",
       "Escola C    1056600.0\n",
       "Escola G    1081356.0\n",
       "Escola F    1319574.0\n",
       "Escola N    1763916.0\n",
       "Escola B    1884411.0\n",
       "Escola A    1910635.0\n",
       "Escola L    2547363.0\n",
       "Escola D    3022020.0\n",
       "Escola M    3094650.0\n",
       "Escola H    3124928.0\n",
       "Name: Orcamento_Anual, dtype: float64"
      ]
     },
     "execution_count": 597,
     "metadata": {},
     "output_type": "execute_result"
    }
   ],
   "source": [
    "orc_escola = df_full.groupby('Nome_Escola').mean()['Orcamento_Anual'].sort_values()\n",
    "orc_escola"
   ]
  },
  {
   "cell_type": "code",
   "execution_count": 601,
   "id": "075bd1b0",
   "metadata": {},
   "outputs": [
    {
     "data": {
      "text/plain": [
       "Escola F    578.000000\n",
       "Escola I    581.000000\n",
       "Escola G    582.000000\n",
       "Escola K    583.000000\n",
       "Escola C    600.000000\n",
       "Escola J    609.000000\n",
       "Escola E    625.000000\n",
       "Escola H    628.000000\n",
       "Escola L    637.000000\n",
       "Escola B    639.000000\n",
       "Escola O    641.926154\n",
       "Escola N    644.000000\n",
       "Escola M    650.000000\n",
       "Escola D    652.000000\n",
       "Escola A    655.000000\n",
       "dtype: float64"
      ]
     },
     "execution_count": 601,
     "metadata": {},
     "output_type": "execute_result"
    }
   ],
   "source": [
    "orc_escola_percapita = (orc_escola / total_estudantes_escola).sort_values()\n",
    "orc_escola_percapita"
   ]
  },
  {
   "cell_type": "markdown",
   "id": "58c3335f",
   "metadata": {},
   "source": [
    "### 6 - Qual a nota média dos alunos em Redação para cada escola?"
   ]
  },
  {
   "cell_type": "code",
   "execution_count": 606,
   "id": "74fc1e92",
   "metadata": {},
   "outputs": [
    {
     "name": "stderr",
     "output_type": "stream",
     "text": [
      "/tmp/ipykernel_519036/1655814136.py:1: FutureWarning: The default value of numeric_only in DataFrameGroupBy.mean is deprecated. In a future version, numeric_only will default to False. Either specify numeric_only or select only columns which should be valid for the function.\n",
      "  df_media_redacao = df_full.groupby('Nome_Escola').mean()['Nota_Redacao'].sort_values()\n"
     ]
    },
    {
     "data": {
      "text/plain": [
       "Nome_Escola\n",
       "Escola L    80.744686\n",
       "Escola N    80.746258\n",
       "Escola D    80.934412\n",
       "Escola M    80.966394\n",
       "Escola H    81.033963\n",
       "Escola B    81.158020\n",
       "Escola A    81.182722\n",
       "Escola C    83.725724\n",
       "Escola O    83.810462\n",
       "Escola I    83.814988\n",
       "Escola E    83.816757\n",
       "Escola K    83.955000\n",
       "Escola G    83.975780\n",
       "Escola F    83.989488\n",
       "Escola J    84.044699\n",
       "Name: Nota_Redacao, dtype: float64"
      ]
     },
     "execution_count": 606,
     "metadata": {},
     "output_type": "execute_result"
    }
   ],
   "source": [
    "df_media_redacao = df_full.groupby('Nome_Escola').mean()['Nota_Redacao'].sort_values()\n",
    "df_media_redacao"
   ]
  },
  {
   "cell_type": "markdown",
   "id": "a7cc204f",
   "metadata": {},
   "source": [
    "### 7 - Qual a nota média dos alunos em Matemática para cada escola?"
   ]
  },
  {
   "cell_type": "code",
   "execution_count": 607,
   "id": "e5c7ff67",
   "metadata": {},
   "outputs": [
    {
     "name": "stderr",
     "output_type": "stream",
     "text": [
      "/tmp/ipykernel_519036/2619008767.py:1: FutureWarning: The default value of numeric_only in DataFrameGroupBy.mean is deprecated. In a future version, numeric_only will default to False. Either specify numeric_only or select only columns which should be valid for the function.\n",
      "  df_media_matematica = df_full.groupby('Nome_Escola').mean()['Nota_Matematica'].sort_values()\n"
     ]
    },
    {
     "data": {
      "text/plain": [
       "Nome_Escola\n",
       "Escola A    76.629414\n",
       "Escola B    76.711767\n",
       "Escola L    76.842711\n",
       "Escola H    77.048432\n",
       "Escola M    77.072464\n",
       "Escola N    77.102592\n",
       "Escola D    77.289752\n",
       "Escola G    83.061895\n",
       "Escola F    83.274201\n",
       "Escola E    83.351499\n",
       "Escola C    83.359455\n",
       "Escola O    83.435077\n",
       "Escola K    83.682222\n",
       "Escola I    83.803279\n",
       "Escola J    83.839917\n",
       "Name: Nota_Matematica, dtype: float64"
      ]
     },
     "execution_count": 607,
     "metadata": {},
     "output_type": "execute_result"
    }
   ],
   "source": [
    "df_media_matematica = df_full.groupby('Nome_Escola').mean()['Nota_Matematica'].sort_values()\n",
    "df_media_matematica\n"
   ]
  },
  {
   "cell_type": "markdown",
   "id": "57d5c13a",
   "metadata": {},
   "source": [
    "### 8 - Considerando somente os alunos aprovados em Redação, qual a média de alunos aprovados por escola?"
   ]
  },
  {
   "cell_type": "code",
   "execution_count": 531,
   "id": "93059f79",
   "metadata": {},
   "outputs": [
    {
     "data": {
      "text/plain": [
       "Escola N    79.299014\n",
       "Escola L    80.220055\n",
       "Escola B    80.739234\n",
       "Escola D    80.862999\n",
       "Escola M    81.222432\n",
       "Escola A    81.316421\n",
       "Escola H    81.933280\n",
       "Escola C    95.854628\n",
       "Escola J    95.945946\n",
       "Escola I    96.252927\n",
       "Escola F    96.539641\n",
       "Escola K    96.611111\n",
       "Escola G    97.039828\n",
       "Escola E    97.138965\n",
       "Escola O    97.292308\n",
       "dtype: float64"
      ]
     },
     "execution_count": 531,
     "metadata": {},
     "output_type": "execute_result"
    }
   ],
   "source": [
    "aprovados_redacao = df_full[df_full['Nota_Redacao'] >= 70]\n",
    "aprovados_redacao = (aprovados_redacao.groupby('Nome_Escola').count()['Nome_Estudante'] / estudantes_escola * 100).sort_values()\n",
    "aprovados_redacao"
   ]
  },
  {
   "cell_type": "markdown",
   "id": "835e7a6b",
   "metadata": {},
   "source": [
    "### 9 - Considerando somente os alunos aprovados em Matemática, qual a média de alunos aprovados por escola?"
   ]
  },
  {
   "cell_type": "code",
   "execution_count": 537,
   "id": "595eb3c8",
   "metadata": {},
   "outputs": [
    {
     "data": {
      "text/plain": [
       "Escola A    65.683922\n",
       "Escola B    65.988471\n",
       "Escola M    66.057551\n",
       "Escola L    66.366592\n",
       "Escola H    66.680064\n",
       "Escola D    66.752967\n",
       "Escola N    68.309602\n",
       "Escola I    92.505855\n",
       "Escola O    93.230769\n",
       "Escola K    93.333333\n",
       "Escola E    93.392371\n",
       "Escola C    93.867121\n",
       "Escola F    93.867718\n",
       "Escola G    94.133477\n",
       "Escola J    94.594595\n",
       "dtype: float64"
      ]
     },
     "execution_count": 537,
     "metadata": {},
     "output_type": "execute_result"
    }
   ],
   "source": [
    "aprovados_matematica = df_full[df_full['Nota_Matematica'] >= 70]\n",
    "aprovados_matematica = (aprovados_matematica.groupby('Nome_Escola').count()['Nome_Estudante'] / estudantes_escola * 100).sort_values()\n",
    "aprovados_matematica"
   ]
  },
  {
   "cell_type": "markdown",
   "id": "bdc28b52",
   "metadata": {},
   "source": [
    "### 10 - Considerando alunos aprovados em Matemática e Redação, qual foi a média de alunos aprovados por escola?"
   ]
  },
  {
   "cell_type": "code",
   "execution_count": 541,
   "id": "b45aa94e",
   "metadata": {},
   "outputs": [
    {
     "data": {
      "text/plain": [
       "Escola L    52.988247\n",
       "Escola B    53.204476\n",
       "Escola A    53.513884\n",
       "Escola D    53.527508\n",
       "Escola M    53.539172\n",
       "Escola N    54.289887\n",
       "Escola H    54.642283\n",
       "Escola I    89.227166\n",
       "Escola C    89.892107\n",
       "Escola K    90.333333\n",
       "Escola J    90.540541\n",
       "Escola F    90.582567\n",
       "Escola E    90.599455\n",
       "Escola O    90.892308\n",
       "Escola G    91.334769\n",
       "dtype: float64"
      ]
     },
     "execution_count": 541,
     "metadata": {},
     "output_type": "execute_result"
    }
   ],
   "source": [
    "df_aprovados_mat_red = df_full[(df_full['Nota_Matematica'] >= 70 ) & (df_full['Nota_Redacao'] >= 70)] \n",
    "df_aprovados_mat_red = (df_aprovados_mat_red.groupby('Nome_Escola').count()['Nome_Estudante'] / estudantes_escola * 100).sort_values()\n",
    "df_aprovados_mat_red"
   ]
  },
  {
   "cell_type": "code",
   "execution_count": 608,
   "id": "6b9a6c04",
   "metadata": {},
   "outputs": [],
   "source": [
    "df_resumo_performance_escolar = pd.DataFrame({'Tipo Escola': tipos_escolas,\n",
    "                                              'Total Estudantes': estudantes_escola,\n",
    "                                              'Total Orçamento': orc_escola,\n",
    "                                              'Orçamento Por Estudante': orc_escola_percapita,\n",
    "                                              'Nota Média Aprovação Redação': df_media_redacao,\n",
    "                                              'Nota Média Aprovação Matemática': df_media_matematica,\n",
    "                                              '% Aprovados Redação': aprovados_redacao,\n",
    "                                              '% Aprovados Matemática': aprovados_matematica,\n",
    "                                              '% Geral Aprovados': df_aprovados_mat_red})"
   ]
  },
  {
   "cell_type": "code",
   "execution_count": 609,
   "id": "6c74bca7",
   "metadata": {},
   "outputs": [
    {
     "data": {
      "text/html": [
       "<div>\n",
       "<style scoped>\n",
       "    .dataframe tbody tr th:only-of-type {\n",
       "        vertical-align: middle;\n",
       "    }\n",
       "\n",
       "    .dataframe tbody tr th {\n",
       "        vertical-align: top;\n",
       "    }\n",
       "\n",
       "    .dataframe thead th {\n",
       "        text-align: right;\n",
       "    }\n",
       "</style>\n",
       "<table border=\"1\" class=\"dataframe\">\n",
       "  <thead>\n",
       "    <tr style=\"text-align: right;\">\n",
       "      <th></th>\n",
       "      <th>Tipo Escola</th>\n",
       "      <th>Total Estudantes</th>\n",
       "      <th>Total Orçamento</th>\n",
       "      <th>Orçamento Por Estudante</th>\n",
       "      <th>Nota Média Aprovação Redação</th>\n",
       "      <th>Nota Média Aprovação Matemática</th>\n",
       "      <th>% Aprovados Redação</th>\n",
       "      <th>% Aprovados Matemática</th>\n",
       "      <th>% Geral Aprovados</th>\n",
       "    </tr>\n",
       "  </thead>\n",
       "  <tbody>\n",
       "    <tr>\n",
       "      <th>Escola A</th>\n",
       "      <td>Publica</td>\n",
       "      <td>2917</td>\n",
       "      <td>1910635.0</td>\n",
       "      <td>655.000000</td>\n",
       "      <td>81.182722</td>\n",
       "      <td>76.629414</td>\n",
       "      <td>81.316421</td>\n",
       "      <td>65.683922</td>\n",
       "      <td>53.513884</td>\n",
       "    </tr>\n",
       "    <tr>\n",
       "      <th>Escola B</th>\n",
       "      <td>Publica</td>\n",
       "      <td>2949</td>\n",
       "      <td>1884411.0</td>\n",
       "      <td>639.000000</td>\n",
       "      <td>81.158020</td>\n",
       "      <td>76.711767</td>\n",
       "      <td>80.739234</td>\n",
       "      <td>65.988471</td>\n",
       "      <td>53.204476</td>\n",
       "    </tr>\n",
       "    <tr>\n",
       "      <th>Escola C</th>\n",
       "      <td>Particular</td>\n",
       "      <td>1761</td>\n",
       "      <td>1056600.0</td>\n",
       "      <td>600.000000</td>\n",
       "      <td>83.725724</td>\n",
       "      <td>83.359455</td>\n",
       "      <td>95.854628</td>\n",
       "      <td>93.867121</td>\n",
       "      <td>89.892107</td>\n",
       "    </tr>\n",
       "    <tr>\n",
       "      <th>Escola D</th>\n",
       "      <td>Publica</td>\n",
       "      <td>4635</td>\n",
       "      <td>3022020.0</td>\n",
       "      <td>652.000000</td>\n",
       "      <td>80.934412</td>\n",
       "      <td>77.289752</td>\n",
       "      <td>80.862999</td>\n",
       "      <td>66.752967</td>\n",
       "      <td>53.527508</td>\n",
       "    </tr>\n",
       "    <tr>\n",
       "      <th>Escola E</th>\n",
       "      <td>Particular</td>\n",
       "      <td>1468</td>\n",
       "      <td>917500.0</td>\n",
       "      <td>625.000000</td>\n",
       "      <td>83.816757</td>\n",
       "      <td>83.351499</td>\n",
       "      <td>97.138965</td>\n",
       "      <td>93.392371</td>\n",
       "      <td>90.599455</td>\n",
       "    </tr>\n",
       "    <tr>\n",
       "      <th>Escola F</th>\n",
       "      <td>Particular</td>\n",
       "      <td>2283</td>\n",
       "      <td>1319574.0</td>\n",
       "      <td>578.000000</td>\n",
       "      <td>83.989488</td>\n",
       "      <td>83.274201</td>\n",
       "      <td>96.539641</td>\n",
       "      <td>93.867718</td>\n",
       "      <td>90.582567</td>\n",
       "    </tr>\n",
       "    <tr>\n",
       "      <th>Escola G</th>\n",
       "      <td>Particular</td>\n",
       "      <td>1858</td>\n",
       "      <td>1081356.0</td>\n",
       "      <td>582.000000</td>\n",
       "      <td>83.975780</td>\n",
       "      <td>83.061895</td>\n",
       "      <td>97.039828</td>\n",
       "      <td>94.133477</td>\n",
       "      <td>91.334769</td>\n",
       "    </tr>\n",
       "    <tr>\n",
       "      <th>Escola H</th>\n",
       "      <td>Publica</td>\n",
       "      <td>4976</td>\n",
       "      <td>3124928.0</td>\n",
       "      <td>628.000000</td>\n",
       "      <td>81.033963</td>\n",
       "      <td>77.048432</td>\n",
       "      <td>81.933280</td>\n",
       "      <td>66.680064</td>\n",
       "      <td>54.642283</td>\n",
       "    </tr>\n",
       "    <tr>\n",
       "      <th>Escola I</th>\n",
       "      <td>Particular</td>\n",
       "      <td>427</td>\n",
       "      <td>248087.0</td>\n",
       "      <td>581.000000</td>\n",
       "      <td>83.814988</td>\n",
       "      <td>83.803279</td>\n",
       "      <td>96.252927</td>\n",
       "      <td>92.505855</td>\n",
       "      <td>89.227166</td>\n",
       "    </tr>\n",
       "    <tr>\n",
       "      <th>Escola J</th>\n",
       "      <td>Particular</td>\n",
       "      <td>962</td>\n",
       "      <td>585858.0</td>\n",
       "      <td>609.000000</td>\n",
       "      <td>84.044699</td>\n",
       "      <td>83.839917</td>\n",
       "      <td>95.945946</td>\n",
       "      <td>94.594595</td>\n",
       "      <td>90.540541</td>\n",
       "    </tr>\n",
       "    <tr>\n",
       "      <th>Escola K</th>\n",
       "      <td>Particular</td>\n",
       "      <td>1800</td>\n",
       "      <td>1049400.0</td>\n",
       "      <td>583.000000</td>\n",
       "      <td>83.955000</td>\n",
       "      <td>83.682222</td>\n",
       "      <td>96.611111</td>\n",
       "      <td>93.333333</td>\n",
       "      <td>90.333333</td>\n",
       "    </tr>\n",
       "    <tr>\n",
       "      <th>Escola L</th>\n",
       "      <td>Publica</td>\n",
       "      <td>3999</td>\n",
       "      <td>2547363.0</td>\n",
       "      <td>637.000000</td>\n",
       "      <td>80.744686</td>\n",
       "      <td>76.842711</td>\n",
       "      <td>80.220055</td>\n",
       "      <td>66.366592</td>\n",
       "      <td>52.988247</td>\n",
       "    </tr>\n",
       "    <tr>\n",
       "      <th>Escola M</th>\n",
       "      <td>Publica</td>\n",
       "      <td>4761</td>\n",
       "      <td>3094650.0</td>\n",
       "      <td>650.000000</td>\n",
       "      <td>80.966394</td>\n",
       "      <td>77.072464</td>\n",
       "      <td>81.222432</td>\n",
       "      <td>66.057551</td>\n",
       "      <td>53.539172</td>\n",
       "    </tr>\n",
       "    <tr>\n",
       "      <th>Escola N</th>\n",
       "      <td>Publica</td>\n",
       "      <td>2739</td>\n",
       "      <td>1763916.0</td>\n",
       "      <td>644.000000</td>\n",
       "      <td>80.746258</td>\n",
       "      <td>77.102592</td>\n",
       "      <td>79.299014</td>\n",
       "      <td>68.309602</td>\n",
       "      <td>54.289887</td>\n",
       "    </tr>\n",
       "    <tr>\n",
       "      <th>Escola O</th>\n",
       "      <td>Particular</td>\n",
       "      <td>1625</td>\n",
       "      <td>1043130.0</td>\n",
       "      <td>641.926154</td>\n",
       "      <td>83.810462</td>\n",
       "      <td>83.435077</td>\n",
       "      <td>97.292308</td>\n",
       "      <td>93.230769</td>\n",
       "      <td>90.892308</td>\n",
       "    </tr>\n",
       "  </tbody>\n",
       "</table>\n",
       "</div>"
      ],
      "text/plain": [
       "         Tipo Escola  Total Estudantes  Total Orçamento  \\\n",
       "Escola A     Publica              2917        1910635.0   \n",
       "Escola B     Publica              2949        1884411.0   \n",
       "Escola C  Particular              1761        1056600.0   \n",
       "Escola D     Publica              4635        3022020.0   \n",
       "Escola E  Particular              1468         917500.0   \n",
       "Escola F  Particular              2283        1319574.0   \n",
       "Escola G  Particular              1858        1081356.0   \n",
       "Escola H     Publica              4976        3124928.0   \n",
       "Escola I  Particular               427         248087.0   \n",
       "Escola J  Particular               962         585858.0   \n",
       "Escola K  Particular              1800        1049400.0   \n",
       "Escola L     Publica              3999        2547363.0   \n",
       "Escola M     Publica              4761        3094650.0   \n",
       "Escola N     Publica              2739        1763916.0   \n",
       "Escola O  Particular              1625        1043130.0   \n",
       "\n",
       "          Orçamento Por Estudante  Nota Média Aprovação Redação  \\\n",
       "Escola A               655.000000                     81.182722   \n",
       "Escola B               639.000000                     81.158020   \n",
       "Escola C               600.000000                     83.725724   \n",
       "Escola D               652.000000                     80.934412   \n",
       "Escola E               625.000000                     83.816757   \n",
       "Escola F               578.000000                     83.989488   \n",
       "Escola G               582.000000                     83.975780   \n",
       "Escola H               628.000000                     81.033963   \n",
       "Escola I               581.000000                     83.814988   \n",
       "Escola J               609.000000                     84.044699   \n",
       "Escola K               583.000000                     83.955000   \n",
       "Escola L               637.000000                     80.744686   \n",
       "Escola M               650.000000                     80.966394   \n",
       "Escola N               644.000000                     80.746258   \n",
       "Escola O               641.926154                     83.810462   \n",
       "\n",
       "          Nota Média Aprovação Matemática  % Aprovados Redação  \\\n",
       "Escola A                        76.629414            81.316421   \n",
       "Escola B                        76.711767            80.739234   \n",
       "Escola C                        83.359455            95.854628   \n",
       "Escola D                        77.289752            80.862999   \n",
       "Escola E                        83.351499            97.138965   \n",
       "Escola F                        83.274201            96.539641   \n",
       "Escola G                        83.061895            97.039828   \n",
       "Escola H                        77.048432            81.933280   \n",
       "Escola I                        83.803279            96.252927   \n",
       "Escola J                        83.839917            95.945946   \n",
       "Escola K                        83.682222            96.611111   \n",
       "Escola L                        76.842711            80.220055   \n",
       "Escola M                        77.072464            81.222432   \n",
       "Escola N                        77.102592            79.299014   \n",
       "Escola O                        83.435077            97.292308   \n",
       "\n",
       "          % Aprovados Matemática  % Geral Aprovados  \n",
       "Escola A               65.683922          53.513884  \n",
       "Escola B               65.988471          53.204476  \n",
       "Escola C               93.867121          89.892107  \n",
       "Escola D               66.752967          53.527508  \n",
       "Escola E               93.392371          90.599455  \n",
       "Escola F               93.867718          90.582567  \n",
       "Escola G               94.133477          91.334769  \n",
       "Escola H               66.680064          54.642283  \n",
       "Escola I               92.505855          89.227166  \n",
       "Escola J               94.594595          90.540541  \n",
       "Escola K               93.333333          90.333333  \n",
       "Escola L               66.366592          52.988247  \n",
       "Escola M               66.057551          53.539172  \n",
       "Escola N               68.309602          54.289887  \n",
       "Escola O               93.230769          90.892308  "
      ]
     },
     "execution_count": 609,
     "metadata": {},
     "output_type": "execute_result"
    }
   ],
   "source": [
    "df_resumo_performance_escolar"
   ]
  },
  {
   "cell_type": "markdown",
   "id": "f033f331",
   "metadata": {},
   "source": [
    "### 11 A - Considerando a taxa geral de aprovados, quais as 5 escolas com melhor performance?"
   ]
  },
  {
   "cell_type": "code",
   "execution_count": 611,
   "id": "b19485da",
   "metadata": {},
   "outputs": [
    {
     "data": {
      "text/plain": [
       "Escola J    90.540541\n",
       "Escola F    90.582567\n",
       "Escola E    90.599455\n",
       "Escola O    90.892308\n",
       "Escola G    91.334769\n",
       "Name: % Geral Aprovados, dtype: float64"
      ]
     },
     "execution_count": 611,
     "metadata": {},
     "output_type": "execute_result"
    }
   ],
   "source": [
    "melhores_performances = df_resumo_performance_escolar['% Geral Aprovados'].sort_values()\n",
    "melhores_performances.tail(5)"
   ]
  },
  {
   "cell_type": "markdown",
   "id": "040f59cf",
   "metadata": {},
   "source": [
    "### 11 B - Considerando a taxa geral de aprovados, quais as 5 escolas com pior performance?"
   ]
  },
  {
   "cell_type": "code",
   "execution_count": 612,
   "id": "1e9423f3",
   "metadata": {},
   "outputs": [
    {
     "data": {
      "text/plain": [
       "Escola L    52.988247\n",
       "Escola B    53.204476\n",
       "Escola A    53.513884\n",
       "Escola D    53.527508\n",
       "Escola M    53.539172\n",
       "Name: % Geral Aprovados, dtype: float64"
      ]
     },
     "execution_count": 612,
     "metadata": {},
     "output_type": "execute_result"
    }
   ],
   "source": [
    "melhores_performances = df_resumo_performance_escolar['% Geral Aprovados'].sort_values()\n",
    "melhores_performances.head(5)"
   ]
  },
  {
   "cell_type": "markdown",
   "id": "b49f21fd",
   "metadata": {},
   "source": [
    "### 12 - Em cada série, qual escola teve os alunos com melhor performance em Matematica?"
   ]
  },
  {
   "cell_type": "code",
   "execution_count": 620,
   "id": "644a8254",
   "metadata": {},
   "outputs": [],
   "source": [
    "sexta_serie = df_full[df_full['Serie'] == 6]\n",
    "setima_serie = df_full[df_full['Serie'] == 7]\n",
    "oitava_serie = df_full[df_full['Serie'] == 8]\n",
    "nona_serie = df_full[df_full['Serie'] == 9]"
   ]
  },
  {
   "cell_type": "code",
   "execution_count": 619,
   "id": "a60b933a",
   "metadata": {},
   "outputs": [
    {
     "data": {
      "text/html": [
       "<div>\n",
       "<style scoped>\n",
       "    .dataframe tbody tr th:only-of-type {\n",
       "        vertical-align: middle;\n",
       "    }\n",
       "\n",
       "    .dataframe tbody tr th {\n",
       "        vertical-align: top;\n",
       "    }\n",
       "\n",
       "    .dataframe thead th {\n",
       "        text-align: right;\n",
       "    }\n",
       "</style>\n",
       "<table border=\"1\" class=\"dataframe\">\n",
       "  <thead>\n",
       "    <tr style=\"text-align: right;\">\n",
       "      <th></th>\n",
       "      <th>ID_Estudante</th>\n",
       "      <th>Nome_Estudante</th>\n",
       "      <th>Genero</th>\n",
       "      <th>Serie</th>\n",
       "      <th>Nome_Escola</th>\n",
       "      <th>Nota_Redacao</th>\n",
       "      <th>Nota_Matematica</th>\n",
       "      <th>ID_Escola</th>\n",
       "      <th>Tipo_Escola</th>\n",
       "      <th>Numero_Alunos</th>\n",
       "      <th>Orcamento_Anual</th>\n",
       "    </tr>\n",
       "  </thead>\n",
       "  <tbody>\n",
       "    <tr>\n",
       "      <th>0</th>\n",
       "      <td>0</td>\n",
       "      <td>Kevin Bradley</td>\n",
       "      <td>M</td>\n",
       "      <td>6</td>\n",
       "      <td>Escola A</td>\n",
       "      <td>66</td>\n",
       "      <td>79</td>\n",
       "      <td>0</td>\n",
       "      <td>Publica</td>\n",
       "      <td>2917</td>\n",
       "      <td>1910635</td>\n",
       "    </tr>\n",
       "    <tr>\n",
       "      <th>4</th>\n",
       "      <td>4</td>\n",
       "      <td>William Ray</td>\n",
       "      <td>F</td>\n",
       "      <td>6</td>\n",
       "      <td>Escola A</td>\n",
       "      <td>97</td>\n",
       "      <td>84</td>\n",
       "      <td>0</td>\n",
       "      <td>Publica</td>\n",
       "      <td>2917</td>\n",
       "      <td>1910635</td>\n",
       "    </tr>\n",
       "    <tr>\n",
       "      <th>5</th>\n",
       "      <td>5</td>\n",
       "      <td>James Miranda</td>\n",
       "      <td>M</td>\n",
       "      <td>6</td>\n",
       "      <td>Escola A</td>\n",
       "      <td>94</td>\n",
       "      <td>94</td>\n",
       "      <td>0</td>\n",
       "      <td>Publica</td>\n",
       "      <td>2917</td>\n",
       "      <td>1910635</td>\n",
       "    </tr>\n",
       "    <tr>\n",
       "      <th>12</th>\n",
       "      <td>12</td>\n",
       "      <td>Sebastian Walker</td>\n",
       "      <td>F</td>\n",
       "      <td>6</td>\n",
       "      <td>Escola A</td>\n",
       "      <td>64</td>\n",
       "      <td>79</td>\n",
       "      <td>0</td>\n",
       "      <td>Publica</td>\n",
       "      <td>2917</td>\n",
       "      <td>1910635</td>\n",
       "    </tr>\n",
       "    <tr>\n",
       "      <th>13</th>\n",
       "      <td>13</td>\n",
       "      <td>Mateo Long</td>\n",
       "      <td>M</td>\n",
       "      <td>6</td>\n",
       "      <td>Escola A</td>\n",
       "      <td>71</td>\n",
       "      <td>79</td>\n",
       "      <td>0</td>\n",
       "      <td>Publica</td>\n",
       "      <td>2917</td>\n",
       "      <td>1910635</td>\n",
       "    </tr>\n",
       "  </tbody>\n",
       "</table>\n",
       "</div>"
      ],
      "text/plain": [
       "    ID_Estudante    Nome_Estudante Genero  Serie Nome_Escola  Nota_Redacao  \\\n",
       "0              0     Kevin Bradley      M      6    Escola A            66   \n",
       "4              4       William Ray      F      6    Escola A            97   \n",
       "5              5     James Miranda      M      6    Escola A            94   \n",
       "12            12  Sebastian Walker      F      6    Escola A            64   \n",
       "13            13        Mateo Long      M      6    Escola A            71   \n",
       "\n",
       "    Nota_Matematica  ID_Escola Tipo_Escola  Numero_Alunos  Orcamento_Anual  \n",
       "0                79          0     Publica           2917          1910635  \n",
       "4                84          0     Publica           2917          1910635  \n",
       "5                94          0     Publica           2917          1910635  \n",
       "12               79          0     Publica           2917          1910635  \n",
       "13               79          0     Publica           2917          1910635  "
      ]
     },
     "execution_count": 619,
     "metadata": {},
     "output_type": "execute_result"
    }
   ],
   "source": [
    "sexta_serie.head()"
   ]
  },
  {
   "cell_type": "code",
   "execution_count": 629,
   "id": "ac563dfa",
   "metadata": {},
   "outputs": [
    {
     "name": "stderr",
     "output_type": "stream",
     "text": [
      "/tmp/ipykernel_519036/2274630490.py:1: FutureWarning: The default value of numeric_only in DataFrameGroupBy.mean is deprecated. In a future version, numeric_only will default to False. Either specify numeric_only or select only columns which should be valid for the function.\n",
      "  notas_sexta_serie = sexta_serie.groupby(['Nome_Escola']).mean()['Nota_Matematica']\n",
      "/tmp/ipykernel_519036/2274630490.py:2: FutureWarning: The default value of numeric_only in DataFrameGroupBy.mean is deprecated. In a future version, numeric_only will default to False. Either specify numeric_only or select only columns which should be valid for the function.\n",
      "  notas_setima_serie = setima_serie.groupby(['Nome_Escola']).mean()['Nota_Matematica']\n",
      "/tmp/ipykernel_519036/2274630490.py:3: FutureWarning: The default value of numeric_only in DataFrameGroupBy.mean is deprecated. In a future version, numeric_only will default to False. Either specify numeric_only or select only columns which should be valid for the function.\n",
      "  notas_oitava_serie = oitava_serie.groupby(['Nome_Escola']).mean()['Nota_Matematica']\n"
     ]
    }
   ],
   "source": [
    "notas_sexta_serie = sexta_serie.groupby(['Nome_Escola']).mean()['Nota_Matematica']\n",
    "notas_setima_serie = setima_serie.groupby(['Nome_Escola']).mean()['Nota_Matematica']\n",
    "notas_oitava_serie = oitava_serie.groupby(['Nome_Escola']).mean()['Nota_Matematica']\n",
    "notas_nona_serie = nona_serie.groupby(['Nome_Escola']).mean()['Nota_Matematica']"
   ]
  },
  {
   "cell_type": "code",
   "execution_count": 630,
   "id": "3d3b1b9d",
   "metadata": {},
   "outputs": [],
   "source": [
    "notas_por_serie = pd.DataFrame({'Sexta Série': notas_sexta_serie,\n",
    "                                'Setima Série': notas_setima_serie,\n",
    "                                'Oitava Série': notas_oitava_serie,\n",
    "                                'Nona Série': notas_nona_serie})"
   ]
  },
  {
   "cell_type": "code",
   "execution_count": 634,
   "id": "318b1c70",
   "metadata": {},
   "outputs": [
    {
     "data": {
      "text/html": [
       "<div>\n",
       "<style scoped>\n",
       "    .dataframe tbody tr th:only-of-type {\n",
       "        vertical-align: middle;\n",
       "    }\n",
       "\n",
       "    .dataframe tbody tr th {\n",
       "        vertical-align: top;\n",
       "    }\n",
       "\n",
       "    .dataframe thead th {\n",
       "        text-align: right;\n",
       "    }\n",
       "</style>\n",
       "<table border=\"1\" class=\"dataframe\">\n",
       "  <thead>\n",
       "    <tr style=\"text-align: right;\">\n",
       "      <th></th>\n",
       "      <th>Sexta Série</th>\n",
       "      <th>Setima Série</th>\n",
       "      <th>Oitava Série</th>\n",
       "      <th>Nona Série</th>\n",
       "    </tr>\n",
       "    <tr>\n",
       "      <th>Nome_Escola</th>\n",
       "      <th></th>\n",
       "      <th></th>\n",
       "      <th></th>\n",
       "      <th></th>\n",
       "    </tr>\n",
       "  </thead>\n",
       "  <tbody>\n",
       "    <tr>\n",
       "      <th>Escola A</th>\n",
       "      <td>77.027251</td>\n",
       "      <td>75.908735</td>\n",
       "      <td>76.446602</td>\n",
       "      <td>77.225641</td>\n",
       "    </tr>\n",
       "    <tr>\n",
       "      <th>Escola B</th>\n",
       "      <td>76.403037</td>\n",
       "      <td>76.539974</td>\n",
       "      <td>76.884344</td>\n",
       "      <td>77.151369</td>\n",
       "    </tr>\n",
       "    <tr>\n",
       "      <th>Escola C</th>\n",
       "      <td>83.420755</td>\n",
       "      <td>82.917411</td>\n",
       "      <td>83.383495</td>\n",
       "      <td>83.778976</td>\n",
       "    </tr>\n",
       "    <tr>\n",
       "      <th>Escola D</th>\n",
       "      <td>77.438495</td>\n",
       "      <td>77.337408</td>\n",
       "      <td>77.136029</td>\n",
       "      <td>77.186567</td>\n",
       "    </tr>\n",
       "    <tr>\n",
       "      <th>Escola E</th>\n",
       "      <td>82.044010</td>\n",
       "      <td>84.229064</td>\n",
       "      <td>83.842105</td>\n",
       "      <td>83.356164</td>\n",
       "    </tr>\n",
       "    <tr>\n",
       "      <th>Escola F</th>\n",
       "      <td>83.085578</td>\n",
       "      <td>83.724422</td>\n",
       "      <td>83.195326</td>\n",
       "      <td>83.035794</td>\n",
       "    </tr>\n",
       "    <tr>\n",
       "      <th>Escola G</th>\n",
       "      <td>83.094697</td>\n",
       "      <td>83.154506</td>\n",
       "      <td>82.765560</td>\n",
       "      <td>83.277487</td>\n",
       "    </tr>\n",
       "    <tr>\n",
       "      <th>Escola H</th>\n",
       "      <td>77.083676</td>\n",
       "      <td>76.996772</td>\n",
       "      <td>77.515588</td>\n",
       "      <td>76.492218</td>\n",
       "    </tr>\n",
       "    <tr>\n",
       "      <th>Escola I</th>\n",
       "      <td>83.787402</td>\n",
       "      <td>83.429825</td>\n",
       "      <td>85.000000</td>\n",
       "      <td>82.855422</td>\n",
       "    </tr>\n",
       "    <tr>\n",
       "      <th>Escola J</th>\n",
       "      <td>83.625455</td>\n",
       "      <td>83.372000</td>\n",
       "      <td>84.328125</td>\n",
       "      <td>84.121547</td>\n",
       "    </tr>\n",
       "    <tr>\n",
       "      <th>Escola K</th>\n",
       "      <td>83.264706</td>\n",
       "      <td>84.010288</td>\n",
       "      <td>83.836782</td>\n",
       "      <td>83.644986</td>\n",
       "    </tr>\n",
       "    <tr>\n",
       "      <th>Escola L</th>\n",
       "      <td>76.859966</td>\n",
       "      <td>76.612500</td>\n",
       "      <td>76.395626</td>\n",
       "      <td>77.690748</td>\n",
       "    </tr>\n",
       "    <tr>\n",
       "      <th>Escola M</th>\n",
       "      <td>77.187857</td>\n",
       "      <td>76.691117</td>\n",
       "      <td>77.491653</td>\n",
       "      <td>76.863248</td>\n",
       "    </tr>\n",
       "    <tr>\n",
       "      <th>Escola N</th>\n",
       "      <td>77.361345</td>\n",
       "      <td>77.672316</td>\n",
       "      <td>76.918058</td>\n",
       "      <td>76.179963</td>\n",
       "    </tr>\n",
       "    <tr>\n",
       "      <th>Escola O</th>\n",
       "      <td>83.605664</td>\n",
       "      <td>83.100478</td>\n",
       "      <td>83.533981</td>\n",
       "      <td>83.497024</td>\n",
       "    </tr>\n",
       "  </tbody>\n",
       "</table>\n",
       "</div>"
      ],
      "text/plain": [
       "             Sexta Série  Setima Série  Oitava Série  Nona Série\n",
       "Nome_Escola                                                     \n",
       "Escola A       77.027251     75.908735     76.446602   77.225641\n",
       "Escola B       76.403037     76.539974     76.884344   77.151369\n",
       "Escola C       83.420755     82.917411     83.383495   83.778976\n",
       "Escola D       77.438495     77.337408     77.136029   77.186567\n",
       "Escola E       82.044010     84.229064     83.842105   83.356164\n",
       "Escola F       83.085578     83.724422     83.195326   83.035794\n",
       "Escola G       83.094697     83.154506     82.765560   83.277487\n",
       "Escola H       77.083676     76.996772     77.515588   76.492218\n",
       "Escola I       83.787402     83.429825     85.000000   82.855422\n",
       "Escola J       83.625455     83.372000     84.328125   84.121547\n",
       "Escola K       83.264706     84.010288     83.836782   83.644986\n",
       "Escola L       76.859966     76.612500     76.395626   77.690748\n",
       "Escola M       77.187857     76.691117     77.491653   76.863248\n",
       "Escola N       77.361345     77.672316     76.918058   76.179963\n",
       "Escola O       83.605664     83.100478     83.533981   83.497024"
      ]
     },
     "execution_count": 634,
     "metadata": {},
     "output_type": "execute_result"
    }
   ],
   "source": [
    "notas_por_serie.sort_values(by='Nome_Escola')"
   ]
  },
  {
   "cell_type": "code",
   "execution_count": 638,
   "id": "68c104ea",
   "metadata": {},
   "outputs": [
    {
     "data": {
      "text/plain": [
       "'Escola I'"
      ]
     },
     "execution_count": 638,
     "metadata": {},
     "output_type": "execute_result"
    }
   ],
   "source": [
    "notas_por_serie['Sexta Série'].idxmax()"
   ]
  },
  {
   "cell_type": "code",
   "execution_count": 639,
   "id": "84c7d25a",
   "metadata": {},
   "outputs": [
    {
     "data": {
      "text/plain": [
       "'Escola E'"
      ]
     },
     "execution_count": 639,
     "metadata": {},
     "output_type": "execute_result"
    }
   ],
   "source": [
    "notas_por_serie['Setima Série'].idxmax()"
   ]
  },
  {
   "cell_type": "code",
   "execution_count": 640,
   "id": "2564c024",
   "metadata": {},
   "outputs": [
    {
     "data": {
      "text/plain": [
       "'Escola I'"
      ]
     },
     "execution_count": 640,
     "metadata": {},
     "output_type": "execute_result"
    }
   ],
   "source": [
    "notas_por_serie['Oitava Série'].idxmax()"
   ]
  },
  {
   "cell_type": "code",
   "execution_count": 641,
   "id": "e4e72af6",
   "metadata": {},
   "outputs": [
    {
     "data": {
      "text/plain": [
       "'Escola J'"
      ]
     },
     "execution_count": 641,
     "metadata": {},
     "output_type": "execute_result"
    }
   ],
   "source": [
    "notas_por_serie['Nona Série'].idxmax()"
   ]
  },
  {
   "cell_type": "markdown",
   "id": "a691e41c",
   "metadata": {},
   "source": [
    "### 13 - Considerando as faixas de gastos por estudante como sendo? [0, 585, 630, 645, 680], qual faixa resulta em estudantes com melhor perforance?"
   ]
  },
  {
   "cell_type": "code",
   "execution_count": 645,
   "id": "2824111d",
   "metadata": {},
   "outputs": [
    {
     "data": {
      "text/html": [
       "<div>\n",
       "<style scoped>\n",
       "    .dataframe tbody tr th:only-of-type {\n",
       "        vertical-align: middle;\n",
       "    }\n",
       "\n",
       "    .dataframe tbody tr th {\n",
       "        vertical-align: top;\n",
       "    }\n",
       "\n",
       "    .dataframe thead th {\n",
       "        text-align: right;\n",
       "    }\n",
       "</style>\n",
       "<table border=\"1\" class=\"dataframe\">\n",
       "  <thead>\n",
       "    <tr style=\"text-align: right;\">\n",
       "      <th></th>\n",
       "      <th>Tipo Escola</th>\n",
       "      <th>Total Estudantes</th>\n",
       "      <th>Total Orçamento</th>\n",
       "      <th>Orçamento Por Estudante</th>\n",
       "      <th>Nota Média Aprovação Redação</th>\n",
       "      <th>Nota Média Aprovação Matemática</th>\n",
       "      <th>% Aprovados Redação</th>\n",
       "      <th>% Aprovados Matemática</th>\n",
       "      <th>% Geral Aprovados</th>\n",
       "    </tr>\n",
       "  </thead>\n",
       "  <tbody>\n",
       "    <tr>\n",
       "      <th>Escola A</th>\n",
       "      <td>Publica</td>\n",
       "      <td>2917</td>\n",
       "      <td>1910635.0</td>\n",
       "      <td>655.000000</td>\n",
       "      <td>81.182722</td>\n",
       "      <td>76.629414</td>\n",
       "      <td>81.316421</td>\n",
       "      <td>65.683922</td>\n",
       "      <td>53.513884</td>\n",
       "    </tr>\n",
       "    <tr>\n",
       "      <th>Escola B</th>\n",
       "      <td>Publica</td>\n",
       "      <td>2949</td>\n",
       "      <td>1884411.0</td>\n",
       "      <td>639.000000</td>\n",
       "      <td>81.158020</td>\n",
       "      <td>76.711767</td>\n",
       "      <td>80.739234</td>\n",
       "      <td>65.988471</td>\n",
       "      <td>53.204476</td>\n",
       "    </tr>\n",
       "    <tr>\n",
       "      <th>Escola C</th>\n",
       "      <td>Particular</td>\n",
       "      <td>1761</td>\n",
       "      <td>1056600.0</td>\n",
       "      <td>600.000000</td>\n",
       "      <td>83.725724</td>\n",
       "      <td>83.359455</td>\n",
       "      <td>95.854628</td>\n",
       "      <td>93.867121</td>\n",
       "      <td>89.892107</td>\n",
       "    </tr>\n",
       "    <tr>\n",
       "      <th>Escola D</th>\n",
       "      <td>Publica</td>\n",
       "      <td>4635</td>\n",
       "      <td>3022020.0</td>\n",
       "      <td>652.000000</td>\n",
       "      <td>80.934412</td>\n",
       "      <td>77.289752</td>\n",
       "      <td>80.862999</td>\n",
       "      <td>66.752967</td>\n",
       "      <td>53.527508</td>\n",
       "    </tr>\n",
       "    <tr>\n",
       "      <th>Escola E</th>\n",
       "      <td>Particular</td>\n",
       "      <td>1468</td>\n",
       "      <td>917500.0</td>\n",
       "      <td>625.000000</td>\n",
       "      <td>83.816757</td>\n",
       "      <td>83.351499</td>\n",
       "      <td>97.138965</td>\n",
       "      <td>93.392371</td>\n",
       "      <td>90.599455</td>\n",
       "    </tr>\n",
       "    <tr>\n",
       "      <th>Escola F</th>\n",
       "      <td>Particular</td>\n",
       "      <td>2283</td>\n",
       "      <td>1319574.0</td>\n",
       "      <td>578.000000</td>\n",
       "      <td>83.989488</td>\n",
       "      <td>83.274201</td>\n",
       "      <td>96.539641</td>\n",
       "      <td>93.867718</td>\n",
       "      <td>90.582567</td>\n",
       "    </tr>\n",
       "    <tr>\n",
       "      <th>Escola G</th>\n",
       "      <td>Particular</td>\n",
       "      <td>1858</td>\n",
       "      <td>1081356.0</td>\n",
       "      <td>582.000000</td>\n",
       "      <td>83.975780</td>\n",
       "      <td>83.061895</td>\n",
       "      <td>97.039828</td>\n",
       "      <td>94.133477</td>\n",
       "      <td>91.334769</td>\n",
       "    </tr>\n",
       "    <tr>\n",
       "      <th>Escola H</th>\n",
       "      <td>Publica</td>\n",
       "      <td>4976</td>\n",
       "      <td>3124928.0</td>\n",
       "      <td>628.000000</td>\n",
       "      <td>81.033963</td>\n",
       "      <td>77.048432</td>\n",
       "      <td>81.933280</td>\n",
       "      <td>66.680064</td>\n",
       "      <td>54.642283</td>\n",
       "    </tr>\n",
       "    <tr>\n",
       "      <th>Escola I</th>\n",
       "      <td>Particular</td>\n",
       "      <td>427</td>\n",
       "      <td>248087.0</td>\n",
       "      <td>581.000000</td>\n",
       "      <td>83.814988</td>\n",
       "      <td>83.803279</td>\n",
       "      <td>96.252927</td>\n",
       "      <td>92.505855</td>\n",
       "      <td>89.227166</td>\n",
       "    </tr>\n",
       "    <tr>\n",
       "      <th>Escola J</th>\n",
       "      <td>Particular</td>\n",
       "      <td>962</td>\n",
       "      <td>585858.0</td>\n",
       "      <td>609.000000</td>\n",
       "      <td>84.044699</td>\n",
       "      <td>83.839917</td>\n",
       "      <td>95.945946</td>\n",
       "      <td>94.594595</td>\n",
       "      <td>90.540541</td>\n",
       "    </tr>\n",
       "    <tr>\n",
       "      <th>Escola K</th>\n",
       "      <td>Particular</td>\n",
       "      <td>1800</td>\n",
       "      <td>1049400.0</td>\n",
       "      <td>583.000000</td>\n",
       "      <td>83.955000</td>\n",
       "      <td>83.682222</td>\n",
       "      <td>96.611111</td>\n",
       "      <td>93.333333</td>\n",
       "      <td>90.333333</td>\n",
       "    </tr>\n",
       "    <tr>\n",
       "      <th>Escola L</th>\n",
       "      <td>Publica</td>\n",
       "      <td>3999</td>\n",
       "      <td>2547363.0</td>\n",
       "      <td>637.000000</td>\n",
       "      <td>80.744686</td>\n",
       "      <td>76.842711</td>\n",
       "      <td>80.220055</td>\n",
       "      <td>66.366592</td>\n",
       "      <td>52.988247</td>\n",
       "    </tr>\n",
       "    <tr>\n",
       "      <th>Escola M</th>\n",
       "      <td>Publica</td>\n",
       "      <td>4761</td>\n",
       "      <td>3094650.0</td>\n",
       "      <td>650.000000</td>\n",
       "      <td>80.966394</td>\n",
       "      <td>77.072464</td>\n",
       "      <td>81.222432</td>\n",
       "      <td>66.057551</td>\n",
       "      <td>53.539172</td>\n",
       "    </tr>\n",
       "    <tr>\n",
       "      <th>Escola N</th>\n",
       "      <td>Publica</td>\n",
       "      <td>2739</td>\n",
       "      <td>1763916.0</td>\n",
       "      <td>644.000000</td>\n",
       "      <td>80.746258</td>\n",
       "      <td>77.102592</td>\n",
       "      <td>79.299014</td>\n",
       "      <td>68.309602</td>\n",
       "      <td>54.289887</td>\n",
       "    </tr>\n",
       "    <tr>\n",
       "      <th>Escola O</th>\n",
       "      <td>Particular</td>\n",
       "      <td>1625</td>\n",
       "      <td>1043130.0</td>\n",
       "      <td>641.926154</td>\n",
       "      <td>83.810462</td>\n",
       "      <td>83.435077</td>\n",
       "      <td>97.292308</td>\n",
       "      <td>93.230769</td>\n",
       "      <td>90.892308</td>\n",
       "    </tr>\n",
       "  </tbody>\n",
       "</table>\n",
       "</div>"
      ],
      "text/plain": [
       "         Tipo Escola  Total Estudantes  Total Orçamento  \\\n",
       "Escola A     Publica              2917        1910635.0   \n",
       "Escola B     Publica              2949        1884411.0   \n",
       "Escola C  Particular              1761        1056600.0   \n",
       "Escola D     Publica              4635        3022020.0   \n",
       "Escola E  Particular              1468         917500.0   \n",
       "Escola F  Particular              2283        1319574.0   \n",
       "Escola G  Particular              1858        1081356.0   \n",
       "Escola H     Publica              4976        3124928.0   \n",
       "Escola I  Particular               427         248087.0   \n",
       "Escola J  Particular               962         585858.0   \n",
       "Escola K  Particular              1800        1049400.0   \n",
       "Escola L     Publica              3999        2547363.0   \n",
       "Escola M     Publica              4761        3094650.0   \n",
       "Escola N     Publica              2739        1763916.0   \n",
       "Escola O  Particular              1625        1043130.0   \n",
       "\n",
       "          Orçamento Por Estudante  Nota Média Aprovação Redação  \\\n",
       "Escola A               655.000000                     81.182722   \n",
       "Escola B               639.000000                     81.158020   \n",
       "Escola C               600.000000                     83.725724   \n",
       "Escola D               652.000000                     80.934412   \n",
       "Escola E               625.000000                     83.816757   \n",
       "Escola F               578.000000                     83.989488   \n",
       "Escola G               582.000000                     83.975780   \n",
       "Escola H               628.000000                     81.033963   \n",
       "Escola I               581.000000                     83.814988   \n",
       "Escola J               609.000000                     84.044699   \n",
       "Escola K               583.000000                     83.955000   \n",
       "Escola L               637.000000                     80.744686   \n",
       "Escola M               650.000000                     80.966394   \n",
       "Escola N               644.000000                     80.746258   \n",
       "Escola O               641.926154                     83.810462   \n",
       "\n",
       "          Nota Média Aprovação Matemática  % Aprovados Redação  \\\n",
       "Escola A                        76.629414            81.316421   \n",
       "Escola B                        76.711767            80.739234   \n",
       "Escola C                        83.359455            95.854628   \n",
       "Escola D                        77.289752            80.862999   \n",
       "Escola E                        83.351499            97.138965   \n",
       "Escola F                        83.274201            96.539641   \n",
       "Escola G                        83.061895            97.039828   \n",
       "Escola H                        77.048432            81.933280   \n",
       "Escola I                        83.803279            96.252927   \n",
       "Escola J                        83.839917            95.945946   \n",
       "Escola K                        83.682222            96.611111   \n",
       "Escola L                        76.842711            80.220055   \n",
       "Escola M                        77.072464            81.222432   \n",
       "Escola N                        77.102592            79.299014   \n",
       "Escola O                        83.435077            97.292308   \n",
       "\n",
       "          % Aprovados Matemática  % Geral Aprovados  \n",
       "Escola A               65.683922          53.513884  \n",
       "Escola B               65.988471          53.204476  \n",
       "Escola C               93.867121          89.892107  \n",
       "Escola D               66.752967          53.527508  \n",
       "Escola E               93.392371          90.599455  \n",
       "Escola F               93.867718          90.582567  \n",
       "Escola G               94.133477          91.334769  \n",
       "Escola H               66.680064          54.642283  \n",
       "Escola I               92.505855          89.227166  \n",
       "Escola J               94.594595          90.540541  \n",
       "Escola K               93.333333          90.333333  \n",
       "Escola L               66.366592          52.988247  \n",
       "Escola M               66.057551          53.539172  \n",
       "Escola N               68.309602          54.289887  \n",
       "Escola O               93.230769          90.892308  "
      ]
     },
     "execution_count": 645,
     "metadata": {},
     "output_type": "execute_result"
    }
   ],
   "source": [
    "df_resumo_performance_escolar"
   ]
  },
  {
   "cell_type": "code",
   "execution_count": 652,
   "id": "b1761864",
   "metadata": {},
   "outputs": [],
   "source": [
    "primeiro_grupo = df_resumo_performance_escolar[(df_resumo_performance_escolar['Orçamento Por Estudante'] >= 0) & (df_resumo_performance_escolar['Orçamento Por Estudante'] <= 585)]\n",
    "segundo_grupo = df_resumo_performance_escolar[(df_resumo_performance_escolar['Orçamento Por Estudante'] > 585) & (df_resumo_performance_escolar['Orçamento Por Estudante'] <= 630)]\n",
    "terceiro_grupo = df_resumo_performance_escolar[(df_resumo_performance_escolar['Orçamento Por Estudante'] > 630) & (df_resumo_performance_escolar['Orçamento Por Estudante'] <= 645)]\n",
    "quarto_grupo = df_resumo_performance_escolar[(df_resumo_performance_escolar['Orçamento Por Estudante'] > 645) & (df_resumo_performance_escolar['Orçamento Por Estudante'] <= 680)]"
   ]
  },
  {
   "cell_type": "code",
   "execution_count": 657,
   "id": "96c0e89a",
   "metadata": {},
   "outputs": [
    {
     "name": "stderr",
     "output_type": "stream",
     "text": [
      "/tmp/ipykernel_519036/1544611957.py:1: FutureWarning: The default value of numeric_only in DataFrame.mean is deprecated. In a future version, it will default to False. In addition, specifying 'numeric_only=None' is deprecated. Select only valid columns or specify the value of numeric_only to silence this warning.\n",
      "  primeiro_grupo_media = primeiro_grupo.mean()['% Geral Aprovados']\n",
      "/tmp/ipykernel_519036/1544611957.py:2: FutureWarning: The default value of numeric_only in DataFrame.mean is deprecated. In a future version, it will default to False. In addition, specifying 'numeric_only=None' is deprecated. Select only valid columns or specify the value of numeric_only to silence this warning.\n",
      "  segundo_grupo_media = segundo_grupo.mean()['% Geral Aprovados']\n",
      "/tmp/ipykernel_519036/1544611957.py:3: FutureWarning: The default value of numeric_only in DataFrame.mean is deprecated. In a future version, it will default to False. In addition, specifying 'numeric_only=None' is deprecated. Select only valid columns or specify the value of numeric_only to silence this warning.\n",
      "  terceiro_grupo_media = terceiro_grupo.mean()['% Geral Aprovados']\n",
      "/tmp/ipykernel_519036/1544611957.py:4: FutureWarning: The default value of numeric_only in DataFrame.mean is deprecated. In a future version, it will default to False. In addition, specifying 'numeric_only=None' is deprecated. Select only valid columns or specify the value of numeric_only to silence this warning.\n",
      "  quarto_grupo_media = quarto_grupo.mean()['% Geral Aprovados']\n"
     ]
    }
   ],
   "source": [
    "primeiro_grupo_media = primeiro_grupo.mean()['% Geral Aprovados']\n",
    "segundo_grupo_media = segundo_grupo.mean()['% Geral Aprovados']\n",
    "terceiro_grupo_media = terceiro_grupo.mean()['% Geral Aprovados']\n",
    "quarto_grupo_media = quarto_grupo.mean()['% Geral Aprovados']"
   ]
  },
  {
   "cell_type": "code",
   "execution_count": 663,
   "id": "026f49df",
   "metadata": {},
   "outputs": [
    {
     "data": {
      "text/html": [
       "<div>\n",
       "<style scoped>\n",
       "    .dataframe tbody tr th:only-of-type {\n",
       "        vertical-align: middle;\n",
       "    }\n",
       "\n",
       "    .dataframe tbody tr th {\n",
       "        vertical-align: top;\n",
       "    }\n",
       "\n",
       "    .dataframe thead th {\n",
       "        text-align: right;\n",
       "    }\n",
       "</style>\n",
       "<table border=\"1\" class=\"dataframe\">\n",
       "  <thead>\n",
       "    <tr style=\"text-align: right;\">\n",
       "      <th></th>\n",
       "      <th>0</th>\n",
       "    </tr>\n",
       "  </thead>\n",
       "  <tbody>\n",
       "    <tr>\n",
       "      <th>0 a 585</th>\n",
       "      <td>90.369459</td>\n",
       "    </tr>\n",
       "    <tr>\n",
       "      <th>585 a 630</th>\n",
       "      <td>81.418596</td>\n",
       "    </tr>\n",
       "    <tr>\n",
       "      <th>630 a 645</th>\n",
       "      <td>62.843729</td>\n",
       "    </tr>\n",
       "    <tr>\n",
       "      <th>645 a 680</th>\n",
       "      <td>53.526855</td>\n",
       "    </tr>\n",
       "  </tbody>\n",
       "</table>\n",
       "</div>"
      ],
      "text/plain": [
       "                   0\n",
       "0 a 585    90.369459\n",
       "585 a 630  81.418596\n",
       "630 a 645  62.843729\n",
       "645 a 680  53.526855"
      ]
     },
     "execution_count": 663,
     "metadata": {},
     "output_type": "execute_result"
    }
   ],
   "source": [
    "desempenho_grupo = pd.DataFrame([primeiro_grupo_media, segundo_grupo_media, terceiro_grupo_media, quarto_grupo_media], \n",
    "                                index = ['0 a 585', '585 a 630', '630 a 645', '645 a 680'])\n",
    "desempenho_grupo"
   ]
  },
  {
   "cell_type": "markdown",
   "id": "27912bc7",
   "metadata": {},
   "source": [
    "### 14 - Considerando as faixas de tamanho (número de alunos) das escolas sendo? [0, 1000, 2000, 5000], qual faixa resulta em estudantes com melhor performance?"
   ]
  },
  {
   "cell_type": "code",
   "execution_count": 664,
   "id": "f95e3437",
   "metadata": {},
   "outputs": [
    {
     "data": {
      "text/plain": [
       "Index(['Tipo Escola', 'Total Estudantes', 'Total Orçamento',\n",
       "       'Orçamento Por Estudante', 'Nota Média Aprovação Redação',\n",
       "       'Nota Média Aprovação Matemática', '% Aprovados Redação',\n",
       "       '% Aprovados Matemática', '% Geral Aprovados'],\n",
       "      dtype='object')"
      ]
     },
     "execution_count": 664,
     "metadata": {},
     "output_type": "execute_result"
    }
   ],
   "source": [
    "df_resumo_performance_escolar.columns"
   ]
  },
  {
   "cell_type": "code",
   "execution_count": 665,
   "id": "64b0d0fc",
   "metadata": {},
   "outputs": [],
   "source": [
    "tamanho_bins = [0, 1000, 2000, 5000]\n",
    "labels_tamanhos = ['Pequeno Porte (<1000)', 'Médio Porte (1000-2000)', 'Grande Porte (2000-5000)']"
   ]
  },
  {
   "cell_type": "code",
   "execution_count": 666,
   "id": "58c139fe",
   "metadata": {},
   "outputs": [],
   "source": [
    "df_resumo_performance_escolar['Tamanho_Escola'] = pd.cut(df_resumo_performance_escolar['Total Estudantes'],\n",
    "                                                         tamanho_bins,\n",
    "                                                         labels = labels_tamanhos,\n",
    "                                                         right = False)"
   ]
  },
  {
   "cell_type": "code",
   "execution_count": 667,
   "id": "5bcff320",
   "metadata": {},
   "outputs": [
    {
     "data": {
      "text/html": [
       "<div>\n",
       "<style scoped>\n",
       "    .dataframe tbody tr th:only-of-type {\n",
       "        vertical-align: middle;\n",
       "    }\n",
       "\n",
       "    .dataframe tbody tr th {\n",
       "        vertical-align: top;\n",
       "    }\n",
       "\n",
       "    .dataframe thead th {\n",
       "        text-align: right;\n",
       "    }\n",
       "</style>\n",
       "<table border=\"1\" class=\"dataframe\">\n",
       "  <thead>\n",
       "    <tr style=\"text-align: right;\">\n",
       "      <th></th>\n",
       "      <th>Tipo Escola</th>\n",
       "      <th>Total Estudantes</th>\n",
       "      <th>Total Orçamento</th>\n",
       "      <th>Orçamento Por Estudante</th>\n",
       "      <th>Nota Média Aprovação Redação</th>\n",
       "      <th>Nota Média Aprovação Matemática</th>\n",
       "      <th>% Aprovados Redação</th>\n",
       "      <th>% Aprovados Matemática</th>\n",
       "      <th>% Geral Aprovados</th>\n",
       "      <th>Tamanho_Escola</th>\n",
       "    </tr>\n",
       "  </thead>\n",
       "  <tbody>\n",
       "    <tr>\n",
       "      <th>Escola A</th>\n",
       "      <td>Publica</td>\n",
       "      <td>2917</td>\n",
       "      <td>1910635.0</td>\n",
       "      <td>655.000000</td>\n",
       "      <td>81.182722</td>\n",
       "      <td>76.629414</td>\n",
       "      <td>81.316421</td>\n",
       "      <td>65.683922</td>\n",
       "      <td>53.513884</td>\n",
       "      <td>Grande Porte (2000-5000)</td>\n",
       "    </tr>\n",
       "    <tr>\n",
       "      <th>Escola B</th>\n",
       "      <td>Publica</td>\n",
       "      <td>2949</td>\n",
       "      <td>1884411.0</td>\n",
       "      <td>639.000000</td>\n",
       "      <td>81.158020</td>\n",
       "      <td>76.711767</td>\n",
       "      <td>80.739234</td>\n",
       "      <td>65.988471</td>\n",
       "      <td>53.204476</td>\n",
       "      <td>Grande Porte (2000-5000)</td>\n",
       "    </tr>\n",
       "    <tr>\n",
       "      <th>Escola C</th>\n",
       "      <td>Particular</td>\n",
       "      <td>1761</td>\n",
       "      <td>1056600.0</td>\n",
       "      <td>600.000000</td>\n",
       "      <td>83.725724</td>\n",
       "      <td>83.359455</td>\n",
       "      <td>95.854628</td>\n",
       "      <td>93.867121</td>\n",
       "      <td>89.892107</td>\n",
       "      <td>Médio Porte (1000-2000)</td>\n",
       "    </tr>\n",
       "    <tr>\n",
       "      <th>Escola D</th>\n",
       "      <td>Publica</td>\n",
       "      <td>4635</td>\n",
       "      <td>3022020.0</td>\n",
       "      <td>652.000000</td>\n",
       "      <td>80.934412</td>\n",
       "      <td>77.289752</td>\n",
       "      <td>80.862999</td>\n",
       "      <td>66.752967</td>\n",
       "      <td>53.527508</td>\n",
       "      <td>Grande Porte (2000-5000)</td>\n",
       "    </tr>\n",
       "    <tr>\n",
       "      <th>Escola E</th>\n",
       "      <td>Particular</td>\n",
       "      <td>1468</td>\n",
       "      <td>917500.0</td>\n",
       "      <td>625.000000</td>\n",
       "      <td>83.816757</td>\n",
       "      <td>83.351499</td>\n",
       "      <td>97.138965</td>\n",
       "      <td>93.392371</td>\n",
       "      <td>90.599455</td>\n",
       "      <td>Médio Porte (1000-2000)</td>\n",
       "    </tr>\n",
       "    <tr>\n",
       "      <th>Escola F</th>\n",
       "      <td>Particular</td>\n",
       "      <td>2283</td>\n",
       "      <td>1319574.0</td>\n",
       "      <td>578.000000</td>\n",
       "      <td>83.989488</td>\n",
       "      <td>83.274201</td>\n",
       "      <td>96.539641</td>\n",
       "      <td>93.867718</td>\n",
       "      <td>90.582567</td>\n",
       "      <td>Grande Porte (2000-5000)</td>\n",
       "    </tr>\n",
       "    <tr>\n",
       "      <th>Escola G</th>\n",
       "      <td>Particular</td>\n",
       "      <td>1858</td>\n",
       "      <td>1081356.0</td>\n",
       "      <td>582.000000</td>\n",
       "      <td>83.975780</td>\n",
       "      <td>83.061895</td>\n",
       "      <td>97.039828</td>\n",
       "      <td>94.133477</td>\n",
       "      <td>91.334769</td>\n",
       "      <td>Médio Porte (1000-2000)</td>\n",
       "    </tr>\n",
       "    <tr>\n",
       "      <th>Escola H</th>\n",
       "      <td>Publica</td>\n",
       "      <td>4976</td>\n",
       "      <td>3124928.0</td>\n",
       "      <td>628.000000</td>\n",
       "      <td>81.033963</td>\n",
       "      <td>77.048432</td>\n",
       "      <td>81.933280</td>\n",
       "      <td>66.680064</td>\n",
       "      <td>54.642283</td>\n",
       "      <td>Grande Porte (2000-5000)</td>\n",
       "    </tr>\n",
       "    <tr>\n",
       "      <th>Escola I</th>\n",
       "      <td>Particular</td>\n",
       "      <td>427</td>\n",
       "      <td>248087.0</td>\n",
       "      <td>581.000000</td>\n",
       "      <td>83.814988</td>\n",
       "      <td>83.803279</td>\n",
       "      <td>96.252927</td>\n",
       "      <td>92.505855</td>\n",
       "      <td>89.227166</td>\n",
       "      <td>Pequeno Porte (&lt;1000)</td>\n",
       "    </tr>\n",
       "    <tr>\n",
       "      <th>Escola J</th>\n",
       "      <td>Particular</td>\n",
       "      <td>962</td>\n",
       "      <td>585858.0</td>\n",
       "      <td>609.000000</td>\n",
       "      <td>84.044699</td>\n",
       "      <td>83.839917</td>\n",
       "      <td>95.945946</td>\n",
       "      <td>94.594595</td>\n",
       "      <td>90.540541</td>\n",
       "      <td>Pequeno Porte (&lt;1000)</td>\n",
       "    </tr>\n",
       "    <tr>\n",
       "      <th>Escola K</th>\n",
       "      <td>Particular</td>\n",
       "      <td>1800</td>\n",
       "      <td>1049400.0</td>\n",
       "      <td>583.000000</td>\n",
       "      <td>83.955000</td>\n",
       "      <td>83.682222</td>\n",
       "      <td>96.611111</td>\n",
       "      <td>93.333333</td>\n",
       "      <td>90.333333</td>\n",
       "      <td>Médio Porte (1000-2000)</td>\n",
       "    </tr>\n",
       "    <tr>\n",
       "      <th>Escola L</th>\n",
       "      <td>Publica</td>\n",
       "      <td>3999</td>\n",
       "      <td>2547363.0</td>\n",
       "      <td>637.000000</td>\n",
       "      <td>80.744686</td>\n",
       "      <td>76.842711</td>\n",
       "      <td>80.220055</td>\n",
       "      <td>66.366592</td>\n",
       "      <td>52.988247</td>\n",
       "      <td>Grande Porte (2000-5000)</td>\n",
       "    </tr>\n",
       "    <tr>\n",
       "      <th>Escola M</th>\n",
       "      <td>Publica</td>\n",
       "      <td>4761</td>\n",
       "      <td>3094650.0</td>\n",
       "      <td>650.000000</td>\n",
       "      <td>80.966394</td>\n",
       "      <td>77.072464</td>\n",
       "      <td>81.222432</td>\n",
       "      <td>66.057551</td>\n",
       "      <td>53.539172</td>\n",
       "      <td>Grande Porte (2000-5000)</td>\n",
       "    </tr>\n",
       "    <tr>\n",
       "      <th>Escola N</th>\n",
       "      <td>Publica</td>\n",
       "      <td>2739</td>\n",
       "      <td>1763916.0</td>\n",
       "      <td>644.000000</td>\n",
       "      <td>80.746258</td>\n",
       "      <td>77.102592</td>\n",
       "      <td>79.299014</td>\n",
       "      <td>68.309602</td>\n",
       "      <td>54.289887</td>\n",
       "      <td>Grande Porte (2000-5000)</td>\n",
       "    </tr>\n",
       "    <tr>\n",
       "      <th>Escola O</th>\n",
       "      <td>Particular</td>\n",
       "      <td>1625</td>\n",
       "      <td>1043130.0</td>\n",
       "      <td>641.926154</td>\n",
       "      <td>83.810462</td>\n",
       "      <td>83.435077</td>\n",
       "      <td>97.292308</td>\n",
       "      <td>93.230769</td>\n",
       "      <td>90.892308</td>\n",
       "      <td>Médio Porte (1000-2000)</td>\n",
       "    </tr>\n",
       "  </tbody>\n",
       "</table>\n",
       "</div>"
      ],
      "text/plain": [
       "         Tipo Escola  Total Estudantes  Total Orçamento  \\\n",
       "Escola A     Publica              2917        1910635.0   \n",
       "Escola B     Publica              2949        1884411.0   \n",
       "Escola C  Particular              1761        1056600.0   \n",
       "Escola D     Publica              4635        3022020.0   \n",
       "Escola E  Particular              1468         917500.0   \n",
       "Escola F  Particular              2283        1319574.0   \n",
       "Escola G  Particular              1858        1081356.0   \n",
       "Escola H     Publica              4976        3124928.0   \n",
       "Escola I  Particular               427         248087.0   \n",
       "Escola J  Particular               962         585858.0   \n",
       "Escola K  Particular              1800        1049400.0   \n",
       "Escola L     Publica              3999        2547363.0   \n",
       "Escola M     Publica              4761        3094650.0   \n",
       "Escola N     Publica              2739        1763916.0   \n",
       "Escola O  Particular              1625        1043130.0   \n",
       "\n",
       "          Orçamento Por Estudante  Nota Média Aprovação Redação  \\\n",
       "Escola A               655.000000                     81.182722   \n",
       "Escola B               639.000000                     81.158020   \n",
       "Escola C               600.000000                     83.725724   \n",
       "Escola D               652.000000                     80.934412   \n",
       "Escola E               625.000000                     83.816757   \n",
       "Escola F               578.000000                     83.989488   \n",
       "Escola G               582.000000                     83.975780   \n",
       "Escola H               628.000000                     81.033963   \n",
       "Escola I               581.000000                     83.814988   \n",
       "Escola J               609.000000                     84.044699   \n",
       "Escola K               583.000000                     83.955000   \n",
       "Escola L               637.000000                     80.744686   \n",
       "Escola M               650.000000                     80.966394   \n",
       "Escola N               644.000000                     80.746258   \n",
       "Escola O               641.926154                     83.810462   \n",
       "\n",
       "          Nota Média Aprovação Matemática  % Aprovados Redação  \\\n",
       "Escola A                        76.629414            81.316421   \n",
       "Escola B                        76.711767            80.739234   \n",
       "Escola C                        83.359455            95.854628   \n",
       "Escola D                        77.289752            80.862999   \n",
       "Escola E                        83.351499            97.138965   \n",
       "Escola F                        83.274201            96.539641   \n",
       "Escola G                        83.061895            97.039828   \n",
       "Escola H                        77.048432            81.933280   \n",
       "Escola I                        83.803279            96.252927   \n",
       "Escola J                        83.839917            95.945946   \n",
       "Escola K                        83.682222            96.611111   \n",
       "Escola L                        76.842711            80.220055   \n",
       "Escola M                        77.072464            81.222432   \n",
       "Escola N                        77.102592            79.299014   \n",
       "Escola O                        83.435077            97.292308   \n",
       "\n",
       "          % Aprovados Matemática  % Geral Aprovados            Tamanho_Escola  \n",
       "Escola A               65.683922          53.513884  Grande Porte (2000-5000)  \n",
       "Escola B               65.988471          53.204476  Grande Porte (2000-5000)  \n",
       "Escola C               93.867121          89.892107   Médio Porte (1000-2000)  \n",
       "Escola D               66.752967          53.527508  Grande Porte (2000-5000)  \n",
       "Escola E               93.392371          90.599455   Médio Porte (1000-2000)  \n",
       "Escola F               93.867718          90.582567  Grande Porte (2000-5000)  \n",
       "Escola G               94.133477          91.334769   Médio Porte (1000-2000)  \n",
       "Escola H               66.680064          54.642283  Grande Porte (2000-5000)  \n",
       "Escola I               92.505855          89.227166     Pequeno Porte (<1000)  \n",
       "Escola J               94.594595          90.540541     Pequeno Porte (<1000)  \n",
       "Escola K               93.333333          90.333333   Médio Porte (1000-2000)  \n",
       "Escola L               66.366592          52.988247  Grande Porte (2000-5000)  \n",
       "Escola M               66.057551          53.539172  Grande Porte (2000-5000)  \n",
       "Escola N               68.309602          54.289887  Grande Porte (2000-5000)  \n",
       "Escola O               93.230769          90.892308   Médio Porte (1000-2000)  "
      ]
     },
     "execution_count": 667,
     "metadata": {},
     "output_type": "execute_result"
    }
   ],
   "source": [
    "df_resumo_performance_escolar"
   ]
  },
  {
   "cell_type": "code",
   "execution_count": 671,
   "id": "678a1016",
   "metadata": {},
   "outputs": [
    {
     "name": "stderr",
     "output_type": "stream",
     "text": [
      "/tmp/ipykernel_519036/2850348164.py:1: FutureWarning: The default value of numeric_only in DataFrameGroupBy.mean is deprecated. In a future version, numeric_only will default to False. Either specify numeric_only or select only columns which should be valid for the function.\n",
      "  desempenho_por_porte = df_resumo_performance_escolar.groupby(['Tamanho_Escola']).mean()['% Geral Aprovados'].sort_values()\n"
     ]
    },
    {
     "data": {
      "text/plain": [
       "Tamanho_Escola\n",
       "Grande Porte (2000-5000)    58.286003\n",
       "Pequeno Porte (<1000)       89.883853\n",
       "Médio Porte (1000-2000)     90.610394\n",
       "Name: % Geral Aprovados, dtype: float64"
      ]
     },
     "execution_count": 671,
     "metadata": {},
     "output_type": "execute_result"
    }
   ],
   "source": [
    "desempenho_por_porte = df_resumo_performance_escolar.groupby(['Tamanho_Escola']).mean()['% Geral Aprovados'].sort_values()\n",
    "desempenho_por_porte"
   ]
  },
  {
   "cell_type": "markdown",
   "id": "bfd66993",
   "metadata": {},
   "source": [
    "### 15 - Qual o impacto do tipo da escola na performance dos alunos?"
   ]
  },
  {
   "cell_type": "code",
   "execution_count": 676,
   "id": "792ceb76",
   "metadata": {},
   "outputs": [
    {
     "name": "stderr",
     "output_type": "stream",
     "text": [
      "/tmp/ipykernel_519036/196737346.py:1: FutureWarning: The default value of numeric_only in DataFrameGroupBy.mean is deprecated. In a future version, numeric_only will default to False. Either specify numeric_only or select only columns which should be valid for the function.\n",
      "  desempenho_por_escola = df_resumo_performance_escolar.groupby('Tipo Escola').mean()['% Geral Aprovados']\n"
     ]
    },
    {
     "data": {
      "text/plain": [
       "Tipo Escola\n",
       "Particular    90.425281\n",
       "Publica       53.672208\n",
       "Name: % Geral Aprovados, dtype: float64"
      ]
     },
     "execution_count": 676,
     "metadata": {},
     "output_type": "execute_result"
    }
   ],
   "source": [
    "desempenho_por_escola = df_resumo_performance_escolar.groupby('Tipo Escola').mean()['% Geral Aprovados']\n",
    "desempenho_por_escola"
   ]
  },
  {
   "cell_type": "code",
   "execution_count": 680,
   "id": "b5671019",
   "metadata": {},
   "outputs": [],
   "source": [
    "df_resumo_performance_escolar.to_excel('df_resumo_performance_escolar.xlsx')"
   ]
  },
  {
   "cell_type": "code",
   "execution_count": null,
   "id": "880c7af9",
   "metadata": {},
   "outputs": [],
   "source": []
  }
 ],
 "metadata": {
  "kernelspec": {
   "display_name": "Python 3 (ipykernel)",
   "language": "python",
   "name": "python3"
  },
  "language_info": {
   "codemirror_mode": {
    "name": "ipython",
    "version": 3
   },
   "file_extension": ".py",
   "mimetype": "text/x-python",
   "name": "python",
   "nbconvert_exporter": "python",
   "pygments_lexer": "ipython3",
   "version": "3.9.13"
  }
 },
 "nbformat": 4,
 "nbformat_minor": 5
}
