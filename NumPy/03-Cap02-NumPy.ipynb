{
 "cells": [
  {
   "cell_type": "markdown",
   "id": "ee52ff98",
   "metadata": {},
   "source": [
    "Transposição e Reshaping de Arrays"
   ]
  },
  {
   "cell_type": "code",
   "execution_count": 2,
   "id": "c1892e00",
   "metadata": {},
   "outputs": [],
   "source": [
    "import numpy as np"
   ]
  },
  {
   "cell_type": "code",
   "execution_count": 5,
   "id": "5cef303a",
   "metadata": {},
   "outputs": [
    {
     "data": {
      "text/plain": [
       "array([[65, 23, 19],\n",
       "       [41, 87, 10]])"
      ]
     },
     "execution_count": 5,
     "metadata": {},
     "output_type": "execute_result"
    }
   ],
   "source": [
    "array1 = np.array([[65, 23, 19], [41, 87, 10]]); array1"
   ]
  },
  {
   "cell_type": "code",
   "execution_count": 6,
   "id": "32c68255",
   "metadata": {},
   "outputs": [
    {
     "data": {
      "text/plain": [
       "array([[65, 41],\n",
       "       [23, 87],\n",
       "       [19, 10]])"
      ]
     },
     "execution_count": 6,
     "metadata": {},
     "output_type": "execute_result"
    }
   ],
   "source": [
    "array1.T"
   ]
  },
  {
   "cell_type": "code",
   "execution_count": 7,
   "id": "4e643f3e",
   "metadata": {},
   "outputs": [
    {
     "data": {
      "text/plain": [
       "array([[65, 41],\n",
       "       [23, 87],\n",
       "       [19, 10]])"
      ]
     },
     "execution_count": 7,
     "metadata": {},
     "output_type": "execute_result"
    }
   ],
   "source": [
    "np.transpose(array1)"
   ]
  },
  {
   "cell_type": "markdown",
   "id": "f01540d2",
   "metadata": {},
   "source": [
    "Broadcasting"
   ]
  },
  {
   "cell_type": "code",
   "execution_count": 9,
   "id": "534c7c96",
   "metadata": {},
   "outputs": [
    {
     "data": {
      "text/plain": [
       "array([[33, 34, 35]])"
      ]
     },
     "execution_count": 9,
     "metadata": {},
     "output_type": "execute_result"
    }
   ],
   "source": [
    "array2 = np.array([[33, 34, 35]]); array2"
   ]
  },
  {
   "cell_type": "code",
   "execution_count": 10,
   "id": "00804f87",
   "metadata": {},
   "outputs": [
    {
     "data": {
      "text/plain": [
       "array([[33],\n",
       "       [34],\n",
       "       [35]])"
      ]
     },
     "execution_count": 10,
     "metadata": {},
     "output_type": "execute_result"
    }
   ],
   "source": [
    "array2.T"
   ]
  },
  {
   "cell_type": "code",
   "execution_count": 11,
   "id": "154cb962",
   "metadata": {},
   "outputs": [
    {
     "data": {
      "text/plain": [
       "array([[66, 67, 68],\n",
       "       [67, 68, 69],\n",
       "       [68, 69, 70]])"
      ]
     },
     "execution_count": 11,
     "metadata": {},
     "output_type": "execute_result"
    }
   ],
   "source": [
    "array2.T + array2"
   ]
  },
  {
   "cell_type": "markdown",
   "id": "a5d9ef6c",
   "metadata": {},
   "source": [
    "Transformando Matrizes em Vetores"
   ]
  },
  {
   "cell_type": "code",
   "execution_count": 12,
   "id": "993372e6",
   "metadata": {},
   "outputs": [
    {
     "data": {
      "text/plain": [
       "array([[ 1,  2,  3,  4,  5],\n",
       "       [10, 11, 12, 13, 14]])"
      ]
     },
     "execution_count": 12,
     "metadata": {},
     "output_type": "execute_result"
    }
   ],
   "source": [
    "array3 = np.array([np.arange(1,6), np.arange(10, 15)]); array3"
   ]
  },
  {
   "cell_type": "code",
   "execution_count": 14,
   "id": "b0f63e49",
   "metadata": {},
   "outputs": [
    {
     "data": {
      "text/plain": [
       "array([ 1,  2,  3,  4,  5, 10, 11, 12, 13, 14])"
      ]
     },
     "execution_count": 14,
     "metadata": {},
     "output_type": "execute_result"
    }
   ],
   "source": [
    "array3.ravel()"
   ]
  },
  {
   "cell_type": "code",
   "execution_count": 15,
   "id": "59868b17",
   "metadata": {},
   "outputs": [
    {
     "data": {
      "text/plain": [
       "array([ 1, 10,  2, 11,  3, 12,  4, 13,  5, 14])"
      ]
     },
     "execution_count": 15,
     "metadata": {},
     "output_type": "execute_result"
    }
   ],
   "source": [
    "array3.T.ravel()"
   ]
  },
  {
   "cell_type": "markdown",
   "id": "65ac5f6b",
   "metadata": {},
   "source": [
    "Operadores Lógicos"
   ]
  },
  {
   "cell_type": "code",
   "execution_count": 16,
   "id": "2b87156a",
   "metadata": {},
   "outputs": [],
   "source": [
    "np.random.seed(100)\n",
    "array4 = np.random.randint(1, 10, size = (4,4))"
   ]
  },
  {
   "cell_type": "code",
   "execution_count": 17,
   "id": "57313a03",
   "metadata": {},
   "outputs": [
    {
     "data": {
      "text/plain": [
       "array([[9, 9, 4, 8],\n",
       "       [8, 1, 5, 3],\n",
       "       [6, 3, 3, 3],\n",
       "       [2, 1, 9, 5]])"
      ]
     },
     "execution_count": 17,
     "metadata": {},
     "output_type": "execute_result"
    }
   ],
   "source": [
    "array4"
   ]
  },
  {
   "cell_type": "code",
   "execution_count": 18,
   "id": "42b90f81",
   "metadata": {},
   "outputs": [
    {
     "data": {
      "text/plain": [
       "False"
      ]
     },
     "execution_count": 18,
     "metadata": {},
     "output_type": "execute_result"
    }
   ],
   "source": [
    "np.any(array4 % 7) == 0"
   ]
  },
  {
   "cell_type": "code",
   "execution_count": 19,
   "id": "9a63a223",
   "metadata": {},
   "outputs": [
    {
     "data": {
      "text/plain": [
       "True"
      ]
     },
     "execution_count": 19,
     "metadata": {},
     "output_type": "execute_result"
    }
   ],
   "source": [
    "np.any(array4 > 8)"
   ]
  },
  {
   "cell_type": "code",
   "execution_count": 20,
   "id": "2b571243",
   "metadata": {},
   "outputs": [
    {
     "data": {
      "text/plain": [
       "True"
      ]
     },
     "execution_count": 20,
     "metadata": {},
     "output_type": "execute_result"
    }
   ],
   "source": [
    "np.all(array4 < 11)"
   ]
  },
  {
   "cell_type": "code",
   "execution_count": 21,
   "id": "956caebb",
   "metadata": {},
   "outputs": [
    {
     "data": {
      "text/plain": [
       "(array([2]),)"
      ]
     },
     "execution_count": 21,
     "metadata": {},
     "output_type": "execute_result"
    }
   ],
   "source": [
    "# Retorna a linha onde o elemento de índice 1 na coluna seja maior que 2 e menor que 9\n",
    "np.where(np.logical_and(array4[:,1] > 2, array4[:,1] < 9))"
   ]
  },
  {
   "cell_type": "code",
   "execution_count": 25,
   "id": "5a8dfd13",
   "metadata": {},
   "outputs": [
    {
     "data": {
      "text/plain": [
       "array([2])"
      ]
     },
     "execution_count": 25,
     "metadata": {},
     "output_type": "execute_result"
    }
   ],
   "source": [
    "# Mesmo resultado que a linha anterior\n",
    "np.intersect1d(np.where(array4[:,1] > 2), np.where(array4[:, 1] < 9))"
   ]
  },
  {
   "cell_type": "code",
   "execution_count": 26,
   "id": "be004e3a",
   "metadata": {},
   "outputs": [
    {
     "data": {
      "text/plain": [
       "array([6, 3, 3, 3])"
      ]
     },
     "execution_count": 26,
     "metadata": {},
     "output_type": "execute_result"
    }
   ],
   "source": [
    "array4[2]"
   ]
  },
  {
   "cell_type": "markdown",
   "id": "5467cea5",
   "metadata": {},
   "source": [
    "Reshaping e Ordenação de Arrays"
   ]
  },
  {
   "cell_type": "code",
   "execution_count": 28,
   "id": "5f97c9e1",
   "metadata": {},
   "outputs": [
    {
     "data": {
      "text/plain": [
       "array([ 1,  2,  3,  4,  5,  6,  7,  8,  9, 10, 11, 12, 13, 14, 15])"
      ]
     },
     "execution_count": 28,
     "metadata": {},
     "output_type": "execute_result"
    }
   ],
   "source": [
    "array5 = np.arange(1,16); array5"
   ]
  },
  {
   "cell_type": "code",
   "execution_count": 29,
   "id": "353af831",
   "metadata": {},
   "outputs": [
    {
     "data": {
      "text/plain": [
       "array([[ 1,  2,  3,  4,  5],\n",
       "       [ 6,  7,  8,  9, 10],\n",
       "       [11, 12, 13, 14, 15]])"
      ]
     },
     "execution_count": 29,
     "metadata": {},
     "output_type": "execute_result"
    }
   ],
   "source": [
    "array5.reshape(3, 5)"
   ]
  },
  {
   "cell_type": "code",
   "execution_count": 30,
   "id": "20442a6a",
   "metadata": {},
   "outputs": [
    {
     "data": {
      "text/plain": [
       "array([[ 3,  2],\n",
       "       [10, -1]])"
      ]
     },
     "execution_count": 30,
     "metadata": {},
     "output_type": "execute_result"
    }
   ],
   "source": [
    "array7 = np.array([[3,2],[10,-1]]); array7"
   ]
  },
  {
   "cell_type": "code",
   "execution_count": 32,
   "id": "4d39e535",
   "metadata": {},
   "outputs": [
    {
     "data": {
      "text/plain": [
       "array([[ 2,  3],\n",
       "       [-1, 10]])"
      ]
     },
     "execution_count": 32,
     "metadata": {},
     "output_type": "execute_result"
    }
   ],
   "source": [
    "# Ordenando as linhas\n",
    "array7.sort(axis = 1); array7"
   ]
  },
  {
   "cell_type": "code",
   "execution_count": 33,
   "id": "70796853",
   "metadata": {},
   "outputs": [
    {
     "data": {
      "text/plain": [
       "array([[-1,  3],\n",
       "       [ 2, 10]])"
      ]
     },
     "execution_count": 33,
     "metadata": {},
     "output_type": "execute_result"
    }
   ],
   "source": [
    "# Ordenando por clunas com base no array anterior ordenado por linhas\n",
    "array7.sort(axis = 0); array7"
   ]
  },
  {
   "cell_type": "code",
   "execution_count": null,
   "id": "c4442104",
   "metadata": {},
   "outputs": [],
   "source": []
  }
 ],
 "metadata": {
  "kernelspec": {
   "display_name": "Python 3 (ipykernel)",
   "language": "python",
   "name": "python3"
  },
  "language_info": {
   "codemirror_mode": {
    "name": "ipython",
    "version": 3
   },
   "file_extension": ".py",
   "mimetype": "text/x-python",
   "name": "python",
   "nbconvert_exporter": "python",
   "pygments_lexer": "ipython3",
   "version": "3.9.13"
  }
 },
 "nbformat": 4,
 "nbformat_minor": 5
}
