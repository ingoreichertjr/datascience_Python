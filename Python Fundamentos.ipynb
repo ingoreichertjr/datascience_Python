{
 "cells": [
  {
   "cell_type": "code",
   "execution_count": 9,
   "id": "cf9cd0a2",
   "metadata": {},
   "outputs": [],
   "source": [
    "x = 3"
   ]
  },
  {
   "cell_type": "code",
   "execution_count": 10,
   "id": "58f6df86",
   "metadata": {},
   "outputs": [
    {
     "data": {
      "text/plain": [
       "int"
      ]
     },
     "execution_count": 10,
     "metadata": {},
     "output_type": "execute_result"
    }
   ],
   "source": [
    "type(x)"
   ]
  },
  {
   "cell_type": "code",
   "execution_count": 11,
   "id": "b0e8b801",
   "metadata": {},
   "outputs": [],
   "source": [
    "x = 'Ingo'"
   ]
  },
  {
   "cell_type": "code",
   "execution_count": 12,
   "id": "81d2d5d7",
   "metadata": {},
   "outputs": [
    {
     "data": {
      "text/plain": [
       "str"
      ]
     },
     "execution_count": 12,
     "metadata": {},
     "output_type": "execute_result"
    }
   ],
   "source": [
    "type(x)"
   ]
  },
  {
   "cell_type": "code",
   "execution_count": 13,
   "id": "b9e54b6d",
   "metadata": {},
   "outputs": [],
   "source": [
    "y = 1.2"
   ]
  },
  {
   "cell_type": "code",
   "execution_count": 14,
   "id": "ed80d76f",
   "metadata": {},
   "outputs": [
    {
     "data": {
      "text/plain": [
       "float"
      ]
     },
     "execution_count": 14,
     "metadata": {},
     "output_type": "execute_result"
    }
   ],
   "source": [
    "type(y)"
   ]
  },
  {
   "cell_type": "code",
   "execution_count": 16,
   "id": "df666246",
   "metadata": {},
   "outputs": [],
   "source": [
    "a = 2e6"
   ]
  },
  {
   "cell_type": "code",
   "execution_count": 17,
   "id": "4fa99281",
   "metadata": {},
   "outputs": [
    {
     "data": {
      "text/plain": [
       "2000000.0"
      ]
     },
     "execution_count": 17,
     "metadata": {},
     "output_type": "execute_result"
    }
   ],
   "source": [
    "a"
   ]
  },
  {
   "cell_type": "code",
   "execution_count": 18,
   "id": "4f341178",
   "metadata": {},
   "outputs": [],
   "source": [
    "x = 2"
   ]
  },
  {
   "cell_type": "code",
   "execution_count": 19,
   "id": "ca7d3446",
   "metadata": {},
   "outputs": [
    {
     "data": {
      "text/plain": [
       "int"
      ]
     },
     "execution_count": 19,
     "metadata": {},
     "output_type": "execute_result"
    }
   ],
   "source": [
    "type(x)"
   ]
  },
  {
   "cell_type": "code",
   "execution_count": 20,
   "id": "35891bf3",
   "metadata": {},
   "outputs": [],
   "source": [
    "x = float(x)"
   ]
  },
  {
   "cell_type": "code",
   "execution_count": 21,
   "id": "b2815a13",
   "metadata": {},
   "outputs": [
    {
     "data": {
      "text/plain": [
       "2.0"
      ]
     },
     "execution_count": 21,
     "metadata": {},
     "output_type": "execute_result"
    }
   ],
   "source": [
    "x"
   ]
  },
  {
   "cell_type": "markdown",
   "id": "af1862f9",
   "metadata": {},
   "source": [
    "## Tipo de dados Compostos"
   ]
  },
  {
   "cell_type": "markdown",
   "id": "e763f432",
   "metadata": {},
   "source": [
    "### List\n",
    "\n",
    "Possuem elementos de forma ordenada"
   ]
  },
  {
   "cell_type": "code",
   "execution_count": 25,
   "id": "46467322",
   "metadata": {},
   "outputs": [
    {
     "data": {
      "text/plain": [
       "list"
      ]
     },
     "execution_count": 25,
     "metadata": {},
     "output_type": "execute_result"
    }
   ],
   "source": [
    "x = []\n",
    "type(x)"
   ]
  },
  {
   "cell_type": "code",
   "execution_count": 33,
   "id": "97b30125",
   "metadata": {},
   "outputs": [
    {
     "data": {
      "text/plain": [
       "[]"
      ]
     },
     "execution_count": 33,
     "metadata": {},
     "output_type": "execute_result"
    }
   ],
   "source": [
    "# Para saber a forma de construção do dado composto\n",
    "x = list()\n",
    "x"
   ]
  },
  {
   "cell_type": "code",
   "execution_count": 49,
   "id": "2a5ba78f",
   "metadata": {},
   "outputs": [
    {
     "name": "stdout",
     "output_type": "stream",
     "text": [
      "[1, 3, 5, 7, 9]\n",
      "[0, 2, 4, 6, 8]\n"
     ]
    }
   ],
   "source": [
    "# Exemplos\n",
    "primeira_lista = [1, 3, 5, 7, 9]\n",
    "segunda_lista = list((0, 2, 4, 6, 8))\n",
    "\n",
    "print(primeira_lista)\n",
    "print(segunda_lista)"
   ]
  },
  {
   "cell_type": "code",
   "execution_count": 51,
   "id": "736b35a3",
   "metadata": {},
   "outputs": [
    {
     "data": {
      "text/plain": [
       "6"
      ]
     },
     "execution_count": 51,
     "metadata": {},
     "output_type": "execute_result"
    }
   ],
   "source": [
    "primeira_lista[2]\n",
    "segunda_lista[3]"
   ]
  },
  {
   "cell_type": "code",
   "execution_count": 53,
   "id": "f9e9c0a6",
   "metadata": {},
   "outputs": [
    {
     "data": {
      "text/plain": [
       "6"
      ]
     },
     "execution_count": 53,
     "metadata": {},
     "output_type": "execute_result"
    }
   ],
   "source": [
    "primeira_lista[-1]\n",
    "segunda_lista[-2]"
   ]
  },
  {
   "cell_type": "code",
   "execution_count": 54,
   "id": "a35573f6",
   "metadata": {},
   "outputs": [
    {
     "data": {
      "text/plain": [
       "[1, 3, 5, 7, 9, 11]"
      ]
     },
     "execution_count": 54,
     "metadata": {},
     "output_type": "execute_result"
    }
   ],
   "source": [
    "# Método append para adicionar elementos na lista\n",
    "primeira_lista.append(11)\n",
    "primeira_lista"
   ]
  },
  {
   "cell_type": "code",
   "execution_count": 55,
   "id": "fd7e9014",
   "metadata": {},
   "outputs": [
    {
     "data": {
      "text/plain": [
       "[0, 2, 6, 8]"
      ]
     },
     "execution_count": 55,
     "metadata": {},
     "output_type": "execute_result"
    }
   ],
   "source": [
    "# Para remover elementos\n",
    "del segunda_lista[2]\n",
    "segunda_lista"
   ]
  },
  {
   "cell_type": "code",
   "execution_count": 56,
   "id": "bfe2d7d6",
   "metadata": {},
   "outputs": [
    {
     "data": {
      "text/plain": [
       "6"
      ]
     },
     "execution_count": 56,
     "metadata": {},
     "output_type": "execute_result"
    }
   ],
   "source": [
    "# Para saber a quantidade de elementos em uma lista\n",
    "len(primeira_lista)"
   ]
  },
  {
   "cell_type": "markdown",
   "id": "c8754b9b",
   "metadata": {},
   "source": [
    "### Tuple\n",
    "\n",
    "List imutáveis. Não se altera valor de um elemento, não se adiciona (append) valores e não se deleta valores."
   ]
  },
  {
   "cell_type": "code",
   "execution_count": 26,
   "id": "ba10221b",
   "metadata": {},
   "outputs": [
    {
     "data": {
      "text/plain": [
       "tuple"
      ]
     },
     "execution_count": 26,
     "metadata": {},
     "output_type": "execute_result"
    }
   ],
   "source": [
    "x = ()\n",
    "type(x)"
   ]
  },
  {
   "cell_type": "code",
   "execution_count": 34,
   "id": "cda2b9c5",
   "metadata": {},
   "outputs": [
    {
     "data": {
      "text/plain": [
       "()"
      ]
     },
     "execution_count": 34,
     "metadata": {},
     "output_type": "execute_result"
    }
   ],
   "source": [
    "# Para saber a forma de construção do dado composto\n",
    "x = tuple()\n",
    "x"
   ]
  },
  {
   "cell_type": "code",
   "execution_count": 63,
   "id": "e3637bb1",
   "metadata": {},
   "outputs": [
    {
     "name": "stdout",
     "output_type": "stream",
     "text": [
      "(10, 20, 30, 40)\n"
     ]
    },
    {
     "data": {
      "text/plain": [
       "tuple"
      ]
     },
     "execution_count": 63,
     "metadata": {},
     "output_type": "execute_result"
    }
   ],
   "source": [
    "# Outra forma de se fazer a tupla\n",
    "outra_tupla = 10, 20, 30, 40\n",
    "print(outra_tupla)\n",
    "type(outra_tupla)"
   ]
  },
  {
   "cell_type": "code",
   "execution_count": 57,
   "id": "b565fab1",
   "metadata": {},
   "outputs": [
    {
     "name": "stdout",
     "output_type": "stream",
     "text": [
      "(1, 3, 5, 7, 9)\n",
      "(2, 4, 6, 8)\n"
     ]
    }
   ],
   "source": [
    "primeira_tupla = (1, 3, 5, 7, 9)\n",
    "segunda_tupla = tuple((2, 4, 6, 8))\n",
    "\n",
    "print(primeira_tupla)\n",
    "print(segunda_tupla)"
   ]
  },
  {
   "cell_type": "code",
   "execution_count": 58,
   "id": "b42d2392",
   "metadata": {},
   "outputs": [
    {
     "data": {
      "text/plain": [
       "5"
      ]
     },
     "execution_count": 58,
     "metadata": {},
     "output_type": "execute_result"
    }
   ],
   "source": [
    "primeira_tupla[2]"
   ]
  },
  {
   "cell_type": "code",
   "execution_count": 60,
   "id": "c72993d2",
   "metadata": {},
   "outputs": [
    {
     "ename": "TypeError",
     "evalue": "'tuple' object does not support item assignment",
     "output_type": "error",
     "traceback": [
      "\u001b[0;31m---------------------------------------------------------------------------\u001b[0m",
      "\u001b[0;31mTypeError\u001b[0m                                 Traceback (most recent call last)",
      "\u001b[0;32m/tmp/ipykernel_302958/87231778.py\u001b[0m in \u001b[0;36m<module>\u001b[0;34m\u001b[0m\n\u001b[1;32m      1\u001b[0m \u001b[0;31m# O erro, pois tupla é imutável\u001b[0m\u001b[0;34m\u001b[0m\u001b[0;34m\u001b[0m\u001b[0m\n\u001b[0;32m----> 2\u001b[0;31m \u001b[0mprimeira_tupla\u001b[0m\u001b[0;34m[\u001b[0m\u001b[0;36m2\u001b[0m\u001b[0;34m]\u001b[0m \u001b[0;34m=\u001b[0m \u001b[0;36m10\u001b[0m\u001b[0;34m\u001b[0m\u001b[0;34m\u001b[0m\u001b[0m\n\u001b[0m",
      "\u001b[0;31mTypeError\u001b[0m: 'tuple' object does not support item assignment"
     ]
    }
   ],
   "source": [
    "# O erro, pois tupla é imutável\n",
    "primeira_tupla[2] = 10"
   ]
  },
  {
   "cell_type": "markdown",
   "id": "0f631947",
   "metadata": {},
   "source": [
    "### Set (Conjunto)\n",
    "\n",
    "São exatamente um conjunto de matemático, sem ordem, sem elementos repetidos. Usa-se {}. Se adiciona com add() e se exclui com o pop() de forma rândomica."
   ]
  },
  {
   "cell_type": "code",
   "execution_count": 30,
   "id": "a1589726",
   "metadata": {},
   "outputs": [
    {
     "data": {
      "text/plain": [
       "set"
      ]
     },
     "execution_count": 30,
     "metadata": {},
     "output_type": "execute_result"
    }
   ],
   "source": [
    "x = set()\n",
    "type(x)"
   ]
  },
  {
   "cell_type": "code",
   "execution_count": 37,
   "id": "1b6ca7b2",
   "metadata": {},
   "outputs": [
    {
     "data": {
      "text/plain": [
       "set()"
      ]
     },
     "execution_count": 37,
     "metadata": {},
     "output_type": "execute_result"
    }
   ],
   "source": [
    "# Para saber a forma de construção do dado composto\n",
    "x = set()\n",
    "x"
   ]
  },
  {
   "cell_type": "code",
   "execution_count": 72,
   "id": "6213d410",
   "metadata": {},
   "outputs": [
    {
     "data": {
      "text/plain": [
       "{'Ingo', 'Junior', 'Reichert'}"
      ]
     },
     "execution_count": 72,
     "metadata": {},
     "output_type": "execute_result"
    }
   ],
   "source": [
    "conjunto = {5, 5, 3, 9, 7, 1, 9, 3, 5, 9, 7, 7, 1}\n",
    "conjunto\n",
    "\n",
    "conjunto_strings = {'Reichert', 'Ingo', 'Junior', 'Junior', 'Reichert', 'Ingo'}\n",
    "conjunto_strings"
   ]
  },
  {
   "cell_type": "code",
   "execution_count": 76,
   "id": "4fa2e43f",
   "metadata": {},
   "outputs": [
    {
     "data": {
      "text/plain": [
       "{'Ingo', 'Junior', 'Reichert', 'Roraima'}"
      ]
     },
     "execution_count": 76,
     "metadata": {},
     "output_type": "execute_result"
    }
   ],
   "source": [
    "conjunto.add(500)\n",
    "conjunto\n",
    "\n",
    "conjunto_strings.add('Roraima')\n",
    "conjunto_strings"
   ]
  },
  {
   "cell_type": "code",
   "execution_count": 84,
   "id": "389856eb",
   "metadata": {},
   "outputs": [
    {
     "data": {
      "text/plain": [
       "'Reichert'"
      ]
     },
     "execution_count": 84,
     "metadata": {},
     "output_type": "execute_result"
    }
   ],
   "source": [
    "# Utilização do pop\n",
    "elemento = conjunto_strings.pop()\n",
    "elemento"
   ]
  },
  {
   "cell_type": "code",
   "execution_count": 85,
   "id": "b6703961",
   "metadata": {},
   "outputs": [
    {
     "data": {
      "text/plain": [
       "({1, 2, 3}, {2, 3}, {3, 4, 5})"
      ]
     },
     "execution_count": 85,
     "metadata": {},
     "output_type": "execute_result"
    }
   ],
   "source": [
    "# Utilização do difference\n",
    "a = {1, 2, 3}\n",
    "b = {2, 3}\n",
    "c = {3, 4, 5}\n",
    "\n",
    "a,b,c"
   ]
  },
  {
   "cell_type": "code",
   "execution_count": 86,
   "id": "dee79ec6",
   "metadata": {},
   "outputs": [
    {
     "data": {
      "text/plain": [
       "{1}"
      ]
     },
     "execution_count": 86,
     "metadata": {},
     "output_type": "execute_result"
    }
   ],
   "source": [
    "a.difference(b)"
   ]
  },
  {
   "cell_type": "code",
   "execution_count": 87,
   "id": "31003862",
   "metadata": {},
   "outputs": [
    {
     "data": {
      "text/plain": [
       "{2}"
      ]
     },
     "execution_count": 87,
     "metadata": {},
     "output_type": "execute_result"
    }
   ],
   "source": [
    "b.difference(c)"
   ]
  },
  {
   "cell_type": "code",
   "execution_count": 88,
   "id": "79dceade",
   "metadata": {},
   "outputs": [
    {
     "data": {
      "text/plain": [
       "{1, 2}"
      ]
     },
     "execution_count": 88,
     "metadata": {},
     "output_type": "execute_result"
    }
   ],
   "source": [
    "a.difference(c)"
   ]
  },
  {
   "cell_type": "code",
   "execution_count": null,
   "id": "36261e85",
   "metadata": {},
   "outputs": [],
   "source": [
    "# Utilização da interseção\n",
    "a = {1, 2, 3}\n",
    "b = {2, 3}\n",
    "c = {3, 4, 5}"
   ]
  },
  {
   "cell_type": "code",
   "execution_count": 89,
   "id": "c67cfd29",
   "metadata": {},
   "outputs": [
    {
     "data": {
      "text/plain": [
       "{2, 3}"
      ]
     },
     "execution_count": 89,
     "metadata": {},
     "output_type": "execute_result"
    }
   ],
   "source": [
    "a.intersection(b)"
   ]
  },
  {
   "cell_type": "code",
   "execution_count": 90,
   "id": "e19086de",
   "metadata": {},
   "outputs": [
    {
     "data": {
      "text/plain": [
       "{3}"
      ]
     },
     "execution_count": 90,
     "metadata": {},
     "output_type": "execute_result"
    }
   ],
   "source": [
    "b.intersection(c)"
   ]
  },
  {
   "cell_type": "code",
   "execution_count": 91,
   "id": "b20202b1",
   "metadata": {},
   "outputs": [
    {
     "data": {
      "text/plain": [
       "{3}"
      ]
     },
     "execution_count": 91,
     "metadata": {},
     "output_type": "execute_result"
    }
   ],
   "source": [
    "a.intersection(c)"
   ]
  },
  {
   "cell_type": "code",
   "execution_count": 93,
   "id": "4593e144",
   "metadata": {},
   "outputs": [
    {
     "data": {
      "text/plain": [
       "{1, 2, 3, 4, 5}"
      ]
     },
     "execution_count": 93,
     "metadata": {},
     "output_type": "execute_result"
    }
   ],
   "source": [
    "# Utilização da União\n",
    "a.union(c)"
   ]
  },
  {
   "cell_type": "code",
   "execution_count": 100,
   "id": "6385d769",
   "metadata": {},
   "outputs": [
    {
     "data": {
      "text/plain": [
       "set()"
      ]
     },
     "execution_count": 100,
     "metadata": {},
     "output_type": "execute_result"
    }
   ],
   "source": [
    "elemento = b.pop()\n",
    "elemento\n",
    "b"
   ]
  },
  {
   "cell_type": "code",
   "execution_count": 106,
   "id": "e2c91908",
   "metadata": {},
   "outputs": [
    {
     "data": {
      "text/plain": [
       "{5}"
      ]
     },
     "execution_count": 106,
     "metadata": {},
     "output_type": "execute_result"
    }
   ],
   "source": [
    "len(c)\n",
    "elemento = c.pop()\n",
    "elemento\n",
    "c"
   ]
  },
  {
   "cell_type": "markdown",
   "id": "8e391ce0",
   "metadata": {},
   "source": [
    "### Dict\n",
    "\n",
    "Armazenam pares de chave e valor. Possui as funções keys, values e items"
   ]
  },
  {
   "cell_type": "code",
   "execution_count": 28,
   "id": "ae721907",
   "metadata": {},
   "outputs": [
    {
     "data": {
      "text/plain": [
       "dict"
      ]
     },
     "execution_count": 28,
     "metadata": {},
     "output_type": "execute_result"
    }
   ],
   "source": [
    "x = {}\n",
    "type(x)"
   ]
  },
  {
   "cell_type": "code",
   "execution_count": 38,
   "id": "849a85db",
   "metadata": {},
   "outputs": [
    {
     "data": {
      "text/plain": [
       "{}"
      ]
     },
     "execution_count": 38,
     "metadata": {},
     "output_type": "execute_result"
    }
   ],
   "source": [
    "# Para saber a forma de construção do dado composto\n",
    "x = dict()\n",
    "x"
   ]
  },
  {
   "cell_type": "code",
   "execution_count": 109,
   "id": "0c491bb8",
   "metadata": {},
   "outputs": [
    {
     "data": {
      "text/plain": [
       "{'nome': 'Ingo Reichert Junior', 'cidade': 'Curitiba', 'ano': 2023}"
      ]
     },
     "execution_count": 109,
     "metadata": {},
     "output_type": "execute_result"
    }
   ],
   "source": [
    "dicionario = {'nome': 'Ingo Reichert Junior', 'cidade': 'Curitiba', 'ano': 2023}\n",
    "dicionario"
   ]
  },
  {
   "cell_type": "code",
   "execution_count": 113,
   "id": "01740ed7",
   "metadata": {},
   "outputs": [
    {
     "data": {
      "text/plain": [
       "'Curitiba'"
      ]
     },
     "execution_count": 113,
     "metadata": {},
     "output_type": "execute_result"
    }
   ],
   "source": [
    "dicionario['nome']\n",
    "dicionario['cidade']"
   ]
  },
  {
   "cell_type": "code",
   "execution_count": 114,
   "id": "4982f043",
   "metadata": {},
   "outputs": [
    {
     "data": {
      "text/plain": [
       "dict_keys(['nome', 'cidade', 'ano'])"
      ]
     },
     "execution_count": 114,
     "metadata": {},
     "output_type": "execute_result"
    }
   ],
   "source": [
    "# Para acessar as chaves\n",
    "dicionario.keys()"
   ]
  },
  {
   "cell_type": "code",
   "execution_count": 115,
   "id": "37b5fdb0",
   "metadata": {},
   "outputs": [
    {
     "data": {
      "text/plain": [
       "dict_values(['Ingo Reichert Junior', 'Curitiba', 2023])"
      ]
     },
     "execution_count": 115,
     "metadata": {},
     "output_type": "execute_result"
    }
   ],
   "source": [
    "# Para acessar os valores\n",
    "dicionario.values()"
   ]
  },
  {
   "cell_type": "code",
   "execution_count": 117,
   "id": "316dff83",
   "metadata": {},
   "outputs": [
    {
     "data": {
      "text/plain": [
       "dict_items([('nome', 'Ingo Reichert Junior'), ('cidade', 'Curitiba'), ('ano', 2023)])"
      ]
     },
     "execution_count": 117,
     "metadata": {},
     "output_type": "execute_result"
    }
   ],
   "source": [
    "# Para acessar os itens\n",
    "dicionario.items()"
   ]
  },
  {
   "cell_type": "code",
   "execution_count": 121,
   "id": "54d3e2ab",
   "metadata": {},
   "outputs": [],
   "source": [
    "# Deletar por chave\n",
    "del dicionario['ano']\n"
   ]
  },
  {
   "cell_type": "code",
   "execution_count": 124,
   "id": "d6dbec17",
   "metadata": {},
   "outputs": [
    {
     "data": {
      "text/plain": [
       "{'nome': 'Jesualdo Ferreira'}"
      ]
     },
     "execution_count": 124,
     "metadata": {},
     "output_type": "execute_result"
    }
   ],
   "source": [
    "# Alterar o valor\n",
    "dicionario['nome'] = 'Jesualdo Ferreira'\n",
    "dicionario"
   ]
  },
  {
   "cell_type": "code",
   "execution_count": 127,
   "id": "21aa438e",
   "metadata": {},
   "outputs": [
    {
     "data": {
      "text/plain": [
       "{'nome': 'Jesualdo Ferreira', 'idade': 32}"
      ]
     },
     "execution_count": 127,
     "metadata": {},
     "output_type": "execute_result"
    }
   ],
   "source": [
    "# Adicionando valor ao dicionário\n",
    "dicionario['idade'] = 32\n",
    "dicionario"
   ]
  },
  {
   "cell_type": "markdown",
   "id": "47dc9007",
   "metadata": {},
   "source": [
    "### Range\n",
    "\n",
    "Definem um intervalo discreto de valores (muito usado nas estruturas de repetição)"
   ]
  },
  {
   "cell_type": "code",
   "execution_count": 31,
   "id": "0eb69bd0",
   "metadata": {},
   "outputs": [
    {
     "data": {
      "text/plain": [
       "range"
      ]
     },
     "execution_count": 31,
     "metadata": {},
     "output_type": "execute_result"
    }
   ],
   "source": [
    "x = range(10)\n",
    "type(x)"
   ]
  },
  {
   "cell_type": "code",
   "execution_count": 41,
   "id": "3c4b481f",
   "metadata": {},
   "outputs": [
    {
     "data": {
      "text/plain": [
       "range(0, 10)"
      ]
     },
     "execution_count": 41,
     "metadata": {},
     "output_type": "execute_result"
    }
   ],
   "source": [
    "# Para saber a forma de construção do dado composto\n",
    "x = range(10)\n",
    "x"
   ]
  },
  {
   "cell_type": "code",
   "execution_count": 128,
   "id": "6b07c01e",
   "metadata": {},
   "outputs": [
    {
     "data": {
      "text/plain": [
       "[2, 4, 6, 8]"
      ]
     },
     "execution_count": 128,
     "metadata": {},
     "output_type": "execute_result"
    }
   ],
   "source": [
    "x = list(range(2, 10, 2))\n",
    "x"
   ]
  },
  {
   "cell_type": "code",
   "execution_count": 133,
   "id": "6ef46a1b",
   "metadata": {},
   "outputs": [
    {
     "data": {
      "text/plain": [
       "[10, 8, 6, 4]"
      ]
     },
     "execution_count": 133,
     "metadata": {},
     "output_type": "execute_result"
    }
   ],
   "source": [
    "y = list(range(10, 2, -2))\n",
    "y"
   ]
  },
  {
   "cell_type": "code",
   "execution_count": 132,
   "id": "d91b4098",
   "metadata": {},
   "outputs": [
    {
     "name": "stdout",
     "output_type": "stream",
     "text": [
      "0\n",
      "1\n",
      "2\n",
      "3\n",
      "4\n",
      "5\n",
      "6\n",
      "7\n",
      "8\n",
      "9\n"
     ]
    }
   ],
   "source": [
    "for i in range(0,10):\n",
    "    print(i)"
   ]
  },
  {
   "cell_type": "markdown",
   "id": "f13b2120",
   "metadata": {},
   "source": [
    "## Conversões de tips compostos\n"
   ]
  },
  {
   "cell_type": "code",
   "execution_count": 134,
   "id": "131b946b",
   "metadata": {},
   "outputs": [
    {
     "data": {
      "text/plain": [
       "(2, 3, 4, 5)"
      ]
     },
     "execution_count": 134,
     "metadata": {},
     "output_type": "execute_result"
    }
   ],
   "source": [
    "def funcao():\n",
    "    return 2, 3, 4, 5\n",
    "\n",
    "retorno = funcao()\n",
    "retorno"
   ]
  },
  {
   "cell_type": "code",
   "execution_count": 135,
   "id": "479c4e2b",
   "metadata": {},
   "outputs": [
    {
     "data": {
      "text/plain": [
       "tuple"
      ]
     },
     "execution_count": 135,
     "metadata": {},
     "output_type": "execute_result"
    }
   ],
   "source": [
    "type(retorno)"
   ]
  },
  {
   "cell_type": "code",
   "execution_count": 138,
   "id": "8fc0a0c4",
   "metadata": {},
   "outputs": [
    {
     "data": {
      "text/plain": [
       "list"
      ]
     },
     "execution_count": 138,
     "metadata": {},
     "output_type": "execute_result"
    }
   ],
   "source": [
    "lista = list(retorno)\n",
    "lista\n",
    "type(lista)"
   ]
  },
  {
   "cell_type": "code",
   "execution_count": 139,
   "id": "fe9aab1b",
   "metadata": {},
   "outputs": [
    {
     "data": {
      "text/plain": [
       "{2, 3, 4, 5}"
      ]
     },
     "execution_count": 139,
     "metadata": {},
     "output_type": "execute_result"
    }
   ],
   "source": [
    "conjunto = set(lista)\n",
    "conjunto"
   ]
  },
  {
   "cell_type": "code",
   "execution_count": 140,
   "id": "471c7834",
   "metadata": {},
   "outputs": [
    {
     "data": {
      "text/plain": [
       "set"
      ]
     },
     "execution_count": 140,
     "metadata": {},
     "output_type": "execute_result"
    }
   ],
   "source": [
    "type(conjunto)"
   ]
  },
  {
   "cell_type": "code",
   "execution_count": 143,
   "id": "7b840f1e",
   "metadata": {},
   "outputs": [
    {
     "name": "stdout",
     "output_type": "stream",
     "text": [
      "2\n",
      "4\n",
      "6\n"
     ]
    }
   ],
   "source": [
    "lista = [1, 2, 3]\n",
    "\n",
    "for i in lista:\n",
    "    x = i * 2\n",
    "    print(x)"
   ]
  },
  {
   "cell_type": "code",
   "execution_count": 154,
   "id": "d7387440",
   "metadata": {},
   "outputs": [],
   "source": [
    "def calcula_cubo_quadrado(x):\n",
    "    return x ** 3, x ** 2"
   ]
  },
  {
   "cell_type": "code",
   "execution_count": 157,
   "id": "eb057ddb",
   "metadata": {},
   "outputs": [
    {
     "data": {
      "text/plain": [
       "(27, 9)"
      ]
     },
     "execution_count": 157,
     "metadata": {},
     "output_type": "execute_result"
    }
   ],
   "source": [
    "cubo, quadrado = calcula_cubo_quadrado(3)\n",
    "result"
   ]
  },
  {
   "cell_type": "code",
   "execution_count": 158,
   "id": "b5d57a30",
   "metadata": {},
   "outputs": [
    {
     "data": {
      "text/plain": [
       "tuple"
      ]
     },
     "execution_count": 158,
     "metadata": {},
     "output_type": "execute_result"
    }
   ],
   "source": [
    "type(result)"
   ]
  },
  {
   "cell_type": "code",
   "execution_count": 159,
   "id": "89aed2cf",
   "metadata": {},
   "outputs": [
    {
     "data": {
      "text/plain": [
       "27"
      ]
     },
     "execution_count": 159,
     "metadata": {},
     "output_type": "execute_result"
    }
   ],
   "source": [
    "cubo"
   ]
  },
  {
   "cell_type": "code",
   "execution_count": 161,
   "id": "3c3463d6",
   "metadata": {},
   "outputs": [
    {
     "data": {
      "text/plain": [
       "9"
      ]
     },
     "execution_count": 161,
     "metadata": {},
     "output_type": "execute_result"
    }
   ],
   "source": [
    "quadrado"
   ]
  },
  {
   "cell_type": "code",
   "execution_count": 162,
   "id": "239b584b",
   "metadata": {},
   "outputs": [
    {
     "data": {
      "text/plain": [
       "int"
      ]
     },
     "execution_count": 162,
     "metadata": {},
     "output_type": "execute_result"
    }
   ],
   "source": [
    "type(cubo)"
   ]
  },
  {
   "cell_type": "code",
   "execution_count": 163,
   "id": "136192c8",
   "metadata": {},
   "outputs": [
    {
     "data": {
      "text/plain": [
       "['Python Fundamentos.ipynb', 'Cap02', 'Cap03', '.ipynb_checkpoints']"
      ]
     },
     "execution_count": 163,
     "metadata": {},
     "output_type": "execute_result"
    }
   ],
   "source": [
    "import os\n",
    "\n",
    "os.listdir()"
   ]
  },
  {
   "cell_type": "code",
   "execution_count": 167,
   "id": "3240588b",
   "metadata": {},
   "outputs": [],
   "source": [
    "with open ('arquivo_escrita.txt', 'w') as arquivo_escrita:\n",
    "    arquivo_escrita.write('Python é massa!')"
   ]
  },
  {
   "cell_type": "code",
   "execution_count": 168,
   "id": "a3aa7b5a",
   "metadata": {},
   "outputs": [
    {
     "name": "stdout",
     "output_type": "stream",
     "text": [
      "Python é massa!\n"
     ]
    }
   ],
   "source": [
    "with open ('arquivo_escrita.txt', 'r') as arquivo_escrita:\n",
    "    print(arquivo_escrita.read())"
   ]
  },
  {
   "cell_type": "code",
   "execution_count": 169,
   "id": "dc6621cf",
   "metadata": {},
   "outputs": [
    {
     "name": "stdout",
     "output_type": "stream",
     "text": [
      "pip 22.2.2 from /home/ingo/anaconda3/lib/python3.9/site-packages/pip (python 3.9)\n",
      "Note: you may need to restart the kernel to use updated packages.\n"
     ]
    }
   ],
   "source": [
    "pip --version"
   ]
  },
  {
   "cell_type": "code",
   "execution_count": 170,
   "id": "bd5e1b4c",
   "metadata": {},
   "outputs": [
    {
     "name": "stdout",
     "output_type": "stream",
     "text": [
      "conda 22.9.0\n",
      "\n",
      "Note: you may need to restart the kernel to use updated packages.\n"
     ]
    }
   ],
   "source": [
    "conda --version"
   ]
  },
  {
   "cell_type": "code",
   "execution_count": 180,
   "id": "bd78cf1f",
   "metadata": {},
   "outputs": [],
   "source": [
    "class Normalizador:\n",
    "    def __init__(self, lista_valores):\n",
    "        self.lista_valores = lista_valores\n",
    "        \n",
    "    def normalizar(self):\n",
    "        valor_minimo = min(self.lista_valores)\n",
    "        valor_maximo = max(self.lista_valores)\n",
    "        diferenca = valor_maximo - valor_minimo\n",
    "        \n",
    "        lista_normalizada = []\n",
    "        \n",
    "        for valor in self.lista_valores:\n",
    "            valor_normalizado = (valor - valor_minimo) / diferenca\n",
    "            lista_normalizada.append(valor_normalizado)\n",
    "            \n",
    "        return lista_normalizada"
   ]
  },
  {
   "cell_type": "code",
   "execution_count": 181,
   "id": "6fe3875d",
   "metadata": {},
   "outputs": [
    {
     "data": {
      "text/plain": [
       "<__main__.Normalizador at 0x7f0de8647310>"
      ]
     },
     "execution_count": 181,
     "metadata": {},
     "output_type": "execute_result"
    }
   ],
   "source": [
    "n = Normalizador([10, 20, 30, 40, 50, 60])\n",
    "n"
   ]
  },
  {
   "cell_type": "code",
   "execution_count": 182,
   "id": "501606a0",
   "metadata": {},
   "outputs": [
    {
     "name": "stdout",
     "output_type": "stream",
     "text": [
      "<__main__.Normalizador object at 0x7f0de8647310>\n"
     ]
    }
   ],
   "source": [
    "print(n)"
   ]
  },
  {
   "cell_type": "code",
   "execution_count": 183,
   "id": "959bbfe2",
   "metadata": {},
   "outputs": [
    {
     "data": {
      "text/plain": [
       "[0.0, 0.2, 0.4, 0.6, 0.8, 1.0]"
      ]
     },
     "execution_count": 183,
     "metadata": {},
     "output_type": "execute_result"
    }
   ],
   "source": [
    "n.normalizar()"
   ]
  },
  {
   "cell_type": "code",
   "execution_count": 184,
   "id": "ddbefeb0",
   "metadata": {},
   "outputs": [],
   "source": [
    "import pandas as pd"
   ]
  },
  {
   "cell_type": "code",
   "execution_count": 193,
   "id": "3135067d",
   "metadata": {},
   "outputs": [],
   "source": [
    "y = range(1,10)\n",
    "x = pd.Series([1, 2, 3, 4, 5, 6, 7, 8, 9], index = y)"
   ]
  },
  {
   "cell_type": "code",
   "execution_count": 194,
   "id": "5f18c2e8",
   "metadata": {},
   "outputs": [
    {
     "data": {
      "text/plain": [
       "1    1\n",
       "2    2\n",
       "3    3\n",
       "4    4\n",
       "5    5\n",
       "6    6\n",
       "7    7\n",
       "8    8\n",
       "9    9\n",
       "dtype: int64"
      ]
     },
     "execution_count": 194,
     "metadata": {},
     "output_type": "execute_result"
    }
   ],
   "source": [
    "x"
   ]
  },
  {
   "cell_type": "code",
   "execution_count": 190,
   "id": "5e84cd04",
   "metadata": {},
   "outputs": [
    {
     "data": {
      "text/plain": [
       "pandas.core.series.Series"
      ]
     },
     "execution_count": 190,
     "metadata": {},
     "output_type": "execute_result"
    }
   ],
   "source": [
    "type(x)"
   ]
  },
  {
   "cell_type": "code",
   "execution_count": 191,
   "id": "129e9e28",
   "metadata": {},
   "outputs": [
    {
     "data": {
      "text/plain": [
       "4"
      ]
     },
     "execution_count": 191,
     "metadata": {},
     "output_type": "execute_result"
    }
   ],
   "source": [
    "x[3]"
   ]
  },
  {
   "cell_type": "code",
   "execution_count": null,
   "id": "317499ee",
   "metadata": {},
   "outputs": [],
   "source": []
  },
  {
   "cell_type": "code",
   "execution_count": null,
   "id": "a3e2a26b",
   "metadata": {},
   "outputs": [],
   "source": []
  }
 ],
 "metadata": {
  "kernelspec": {
   "display_name": "Python 3 (ipykernel)",
   "language": "python",
   "name": "python3"
  },
  "language_info": {
   "codemirror_mode": {
    "name": "ipython",
    "version": 3
   },
   "file_extension": ".py",
   "mimetype": "text/x-python",
   "name": "python",
   "nbconvert_exporter": "python",
   "pygments_lexer": "ipython3",
   "version": "3.9.13"
  }
 },
 "nbformat": 4,
 "nbformat_minor": 5
}
