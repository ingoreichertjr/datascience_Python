{
 "cells": [
  {
   "cell_type": "markdown",
   "id": "1f756121",
   "metadata": {},
   "source": [
    "## Regressão Linear"
   ]
  },
  {
   "cell_type": "markdown",
   "id": "d841d22d",
   "metadata": {},
   "source": [
    "Usando Regressão Linear para prever o consumo de combustível de automóveis.\n",
    "\n",
    "A variável consumo no dataset1.csv será a variável target (dependente) e as demais variáveis serão candidatas a features (variáveis preditoras ou independetes).\n",
    "\n",
    "Este é, portanto, um problema de Regressão Linear Múltipla (quando temos mais de 1 variável preditora ou independente)."
   ]
  },
  {
   "cell_type": "code",
   "execution_count": 1,
   "id": "e3200d96",
   "metadata": {},
   "outputs": [],
   "source": [
    "# Importa o findspark e incializa\n",
    "import findspark\n",
    "findspark.init()"
   ]
  },
  {
   "cell_type": "code",
   "execution_count": 2,
   "id": "a74e8f70",
   "metadata": {},
   "outputs": [],
   "source": [
    "# Imports\n",
    "import numpy as np\n",
    "import pyspark\n",
    "from pyspark import SparkContext\n",
    "from pyspark.sql import SparkSession\n",
    "from pyspark.sql import Row\n",
    "from pyspark.ml.linalg import Vectors\n",
    "from pyspark.ml.regression import LinearRegression\n",
    "from pyspark.ml.evaluation import RegressionEvaluator"
   ]
  },
  {
   "cell_type": "markdown",
   "id": "d4d921b1",
   "metadata": {},
   "source": [
    "### Carregando os Dados\n"
   ]
  },
  {
   "cell_type": "code",
   "execution_count": 3,
   "id": "7d285a86",
   "metadata": {},
   "outputs": [
    {
     "name": "stdout",
     "output_type": "stream",
     "text": [
      "23/03/20 14:46:14 WARN Utils: Your hostname, ingo-Vostro-3583 resolves to a loopback address: 127.0.1.1; using 192.168.1.10 instead (on interface wlo1)\n",
      "23/03/20 14:46:14 WARN Utils: Set SPARK_LOCAL_IP if you need to bind to another address\n"
     ]
    },
    {
     "name": "stderr",
     "output_type": "stream",
     "text": [
      "Setting default log level to \"WARN\".\n",
      "To adjust logging level use sc.setLogLevel(newLevel). For SparkR, use setLogLevel(newLevel).\n"
     ]
    },
    {
     "name": "stdout",
     "output_type": "stream",
     "text": [
      "23/03/20 14:46:15 WARN NativeCodeLoader: Unable to load native-hadoop library for your platform... using builtin-java classes where applicable\n",
      "23/03/20 14:46:15 WARN Utils: Service 'SparkUI' could not bind on port 4040. Attempting port 4041.\n"
     ]
    }
   ],
   "source": [
    "# Criando o Spark Context\n",
    "sc = SparkContext(appName = \"Projeto - Prevendo Consumo Commbustível\")"
   ]
  },
  {
   "cell_type": "code",
   "execution_count": 4,
   "id": "536b30b2",
   "metadata": {},
   "outputs": [],
   "source": [
    "# Deixando apenas as mensagens de erro\n",
    "sc.setLogLevel('ERROR')"
   ]
  },
  {
   "cell_type": "code",
   "execution_count": 5,
   "id": "7fad125d",
   "metadata": {},
   "outputs": [],
   "source": [
    "# Criando o Spark Session\n",
    "spSession = SparkSession.builder.master('local').getOrCreate()"
   ]
  },
  {
   "cell_type": "code",
   "execution_count": 6,
   "id": "7d56d06f",
   "metadata": {},
   "outputs": [],
   "source": [
    "# Carregando os dados e gerando um RDD\n",
    "dados = sc.textFile('dados/dataset1.csv')"
   ]
  },
  {
   "cell_type": "code",
   "execution_count": 7,
   "id": "c084af7c",
   "metadata": {},
   "outputs": [
    {
     "data": {
      "text/plain": [
       "pyspark.rdd.RDD"
      ]
     },
     "execution_count": 7,
     "metadata": {},
     "output_type": "execute_result"
    }
   ],
   "source": [
    "type(dados)"
   ]
  },
  {
   "cell_type": "code",
   "execution_count": 9,
   "id": "bf3a7b2d",
   "metadata": {},
   "outputs": [
    {
     "data": {
      "text/plain": [
       "dados/dataset1.csv MapPartitionsRDD[1] at textFile at NativeMethodAccessorImpl.java:0"
      ]
     },
     "execution_count": 9,
     "metadata": {},
     "output_type": "execute_result"
    }
   ],
   "source": [
    "# Colocando o RDD em cache. Esse processo otimiza a performance\n",
    "dados.cache()"
   ]
  },
  {
   "cell_type": "code",
   "execution_count": 10,
   "id": "9df3e4a4",
   "metadata": {},
   "outputs": [
    {
     "data": {
      "text/plain": [
       "399"
      ]
     },
     "execution_count": 10,
     "metadata": {},
     "output_type": "execute_result"
    }
   ],
   "source": [
    "# Numero de registros\n",
    "dados.count()"
   ]
  },
  {
   "cell_type": "code",
   "execution_count": 11,
   "id": "1c6c303d",
   "metadata": {},
   "outputs": [
    {
     "data": {
      "text/plain": [
       "['consumo,numero_cilindros,capacidade,horsepower,peso,aceleracao,ano,nome',\n",
       " '30,4,79,70,2074,19.5,71,peugeot 304',\n",
       " '30,4,88,76,2065,14.5,71,fiat 124b',\n",
       " '31,4,71,65,1773,19,71,toyota corolla 1200',\n",
       " '35,4,72,69,1613,18,71,datsun 1200']"
      ]
     },
     "execution_count": 11,
     "metadata": {},
     "output_type": "execute_result"
    }
   ],
   "source": [
    "# Visualizando as primeiras linhas\n",
    "dados.take(5)"
   ]
  },
  {
   "cell_type": "code",
   "execution_count": 12,
   "id": "96ee22e4",
   "metadata": {},
   "outputs": [
    {
     "data": {
      "text/plain": [
       "398"
      ]
     },
     "execution_count": 12,
     "metadata": {},
     "output_type": "execute_result"
    }
   ],
   "source": [
    "# Removendo a primeira linha do arquivo (cabeçalho)\n",
    "dados2 = dados.filter(lambda x: 'aceleracao' not in x)\n",
    "dados2.count()"
   ]
  },
  {
   "cell_type": "code",
   "execution_count": 14,
   "id": "7c8dac8a",
   "metadata": {},
   "outputs": [
    {
     "data": {
      "text/plain": [
       "['30,4,79,70,2074,19.5,71,peugeot 304',\n",
       " '30,4,88,76,2065,14.5,71,fiat 124b',\n",
       " '31,4,71,65,1773,19,71,toyota corolla 1200',\n",
       " '35,4,72,69,1613,18,71,datsun 1200',\n",
       " '27,4,97,60,1834,19,71,volkswagen model 111']"
      ]
     },
     "execution_count": 14,
     "metadata": {},
     "output_type": "execute_result"
    }
   ],
   "source": [
    "dados2.take(5)"
   ]
  },
  {
   "cell_type": "markdown",
   "id": "02ebe782",
   "metadata": {},
   "source": [
    "### Limpeza de Dados"
   ]
  },
  {
   "cell_type": "markdown",
   "id": "f0f6e92f",
   "metadata": {},
   "source": [
    "Vamos verificar se há valores ausentes. RDDS são ótimos para processamento, mas ruins para exploração, então convertemos o RDD para DataFrame Spark e então para DataFrame Pandas."
   ]
  },
  {
   "cell_type": "code",
   "execution_count": 18,
   "id": "b85bc4f1",
   "metadata": {},
   "outputs": [],
   "source": [
    "# Converte o RDD para DataFrame Spark\n",
    "df_spark = dados2.map(lambda x: str(x)).map(lambda w: w.split(',')).toDF()"
   ]
  },
  {
   "cell_type": "code",
   "execution_count": 19,
   "id": "006d2dd9",
   "metadata": {},
   "outputs": [
    {
     "data": {
      "text/plain": [
       "pyspark.sql.dataframe.DataFrame"
      ]
     },
     "execution_count": 19,
     "metadata": {},
     "output_type": "execute_result"
    }
   ],
   "source": [
    "type(df_spark)"
   ]
  },
  {
   "cell_type": "code",
   "execution_count": 20,
   "id": "de63dcee",
   "metadata": {},
   "outputs": [],
   "source": [
    "# Converte DataFrame Spark para DataFrame Pandas\n",
    "df_pandas = df_spark.toPandas()"
   ]
  },
  {
   "cell_type": "code",
   "execution_count": 21,
   "id": "079c8844",
   "metadata": {},
   "outputs": [
    {
     "data": {
      "text/plain": [
       "pandas.core.frame.DataFrame"
      ]
     },
     "execution_count": 21,
     "metadata": {},
     "output_type": "execute_result"
    }
   ],
   "source": [
    "type(df_pandas)"
   ]
  },
  {
   "cell_type": "code",
   "execution_count": 23,
   "id": "0972939c",
   "metadata": {},
   "outputs": [
    {
     "data": {
      "text/html": [
       "<div>\n",
       "<style scoped>\n",
       "    .dataframe tbody tr th:only-of-type {\n",
       "        vertical-align: middle;\n",
       "    }\n",
       "\n",
       "    .dataframe tbody tr th {\n",
       "        vertical-align: top;\n",
       "    }\n",
       "\n",
       "    .dataframe thead th {\n",
       "        text-align: right;\n",
       "    }\n",
       "</style>\n",
       "<table border=\"1\" class=\"dataframe\">\n",
       "  <thead>\n",
       "    <tr style=\"text-align: right;\">\n",
       "      <th></th>\n",
       "      <th>_1</th>\n",
       "      <th>_2</th>\n",
       "      <th>_3</th>\n",
       "      <th>_4</th>\n",
       "      <th>_5</th>\n",
       "      <th>_6</th>\n",
       "      <th>_7</th>\n",
       "      <th>_8</th>\n",
       "    </tr>\n",
       "  </thead>\n",
       "  <tbody>\n",
       "    <tr>\n",
       "      <th>0</th>\n",
       "      <td>30</td>\n",
       "      <td>4</td>\n",
       "      <td>79</td>\n",
       "      <td>70</td>\n",
       "      <td>2074</td>\n",
       "      <td>19.5</td>\n",
       "      <td>71</td>\n",
       "      <td>peugeot 304</td>\n",
       "    </tr>\n",
       "    <tr>\n",
       "      <th>1</th>\n",
       "      <td>30</td>\n",
       "      <td>4</td>\n",
       "      <td>88</td>\n",
       "      <td>76</td>\n",
       "      <td>2065</td>\n",
       "      <td>14.5</td>\n",
       "      <td>71</td>\n",
       "      <td>fiat 124b</td>\n",
       "    </tr>\n",
       "    <tr>\n",
       "      <th>2</th>\n",
       "      <td>31</td>\n",
       "      <td>4</td>\n",
       "      <td>71</td>\n",
       "      <td>65</td>\n",
       "      <td>1773</td>\n",
       "      <td>19</td>\n",
       "      <td>71</td>\n",
       "      <td>toyota corolla 1200</td>\n",
       "    </tr>\n",
       "    <tr>\n",
       "      <th>3</th>\n",
       "      <td>35</td>\n",
       "      <td>4</td>\n",
       "      <td>72</td>\n",
       "      <td>69</td>\n",
       "      <td>1613</td>\n",
       "      <td>18</td>\n",
       "      <td>71</td>\n",
       "      <td>datsun 1200</td>\n",
       "    </tr>\n",
       "    <tr>\n",
       "      <th>4</th>\n",
       "      <td>27</td>\n",
       "      <td>4</td>\n",
       "      <td>97</td>\n",
       "      <td>60</td>\n",
       "      <td>1834</td>\n",
       "      <td>19</td>\n",
       "      <td>71</td>\n",
       "      <td>volkswagen model 111</td>\n",
       "    </tr>\n",
       "  </tbody>\n",
       "</table>\n",
       "</div>"
      ],
      "text/plain": [
       "   _1 _2  _3  _4    _5    _6  _7                    _8\n",
       "0  30  4  79  70  2074  19.5  71           peugeot 304\n",
       "1  30  4  88  76  2065  14.5  71             fiat 124b\n",
       "2  31  4  71  65  1773    19  71   toyota corolla 1200\n",
       "3  35  4  72  69  1613    18  71           datsun 1200\n",
       "4  27  4  97  60  1834    19  71  volkswagen model 111"
      ]
     },
     "execution_count": 23,
     "metadata": {},
     "output_type": "execute_result"
    }
   ],
   "source": [
    "df_pandas.head()"
   ]
  },
  {
   "cell_type": "code",
   "execution_count": 24,
   "id": "76c12f85",
   "metadata": {},
   "outputs": [
    {
     "name": "stdout",
     "output_type": "stream",
     "text": [
      "<class 'pandas.core.frame.DataFrame'>\n",
      "RangeIndex: 398 entries, 0 to 397\n",
      "Data columns (total 8 columns):\n",
      " #   Column  Non-Null Count  Dtype \n",
      "---  ------  --------------  ----- \n",
      " 0   _1      398 non-null    object\n",
      " 1   _2      398 non-null    object\n",
      " 2   _3      398 non-null    object\n",
      " 3   _4      398 non-null    object\n",
      " 4   _5      398 non-null    object\n",
      " 5   _6      398 non-null    object\n",
      " 6   _7      398 non-null    object\n",
      " 7   _8      398 non-null    object\n",
      "dtypes: object(8)\n",
      "memory usage: 25.0+ KB\n"
     ]
    }
   ],
   "source": [
    "df_pandas.info()"
   ]
  },
  {
   "cell_type": "code",
   "execution_count": 26,
   "id": "37525e3e",
   "metadata": {},
   "outputs": [
    {
     "data": {
      "text/plain": [
       "False"
      ]
     },
     "execution_count": 26,
     "metadata": {},
     "output_type": "execute_result"
    }
   ],
   "source": [
    "# Tem valores nulos?\n",
    "df_pandas.isnull().values.any()"
   ]
  },
  {
   "cell_type": "markdown",
   "id": "b6af42ee",
   "metadata": {},
   "source": [
    "Não há valor nulo, mas pode ser que exista valor ausente (falta de informação)"
   ]
  },
  {
   "cell_type": "code",
   "execution_count": 29,
   "id": "577b169d",
   "metadata": {},
   "outputs": [
    {
     "data": {
      "text/plain": [
       "6"
      ]
     },
     "execution_count": 29,
     "metadata": {},
     "output_type": "execute_result"
    }
   ],
   "source": [
    "# Verifica se há alguma linha com caracter especial \"?\"\n",
    "total = np.sum(df_pandas.apply(lambda x: x.str.contains(\"\\?\")).values)\n",
    "total"
   ]
  },
  {
   "cell_type": "code",
   "execution_count": 30,
   "id": "eecbc93a",
   "metadata": {},
   "outputs": [
    {
     "data": {
      "text/plain": [
       "(array([ 48, 126, 330, 336, 354, 374]), array([3, 3, 3, 3, 3, 3]))"
      ]
     },
     "execution_count": 30,
     "metadata": {},
     "output_type": "execute_result"
    }
   ],
   "source": [
    "# Verifica quais linhas e colunas têm o caracter especial\n",
    "np.where(df_pandas.apply(lambda x: x.str.contains(\"\\?\")).values)"
   ]
  },
  {
   "cell_type": "code",
   "execution_count": 31,
   "id": "f50ab442",
   "metadata": {},
   "outputs": [
    {
     "data": {
      "text/plain": [
       "_1                  23.6\n",
       "_2                     4\n",
       "_3                   140\n",
       "_4                     ?\n",
       "_5                  2905\n",
       "_6                  14.3\n",
       "_7                    80\n",
       "_8    ford mustang cobra\n",
       "Name: 336, dtype: object"
      ]
     },
     "execution_count": 31,
     "metadata": {},
     "output_type": "execute_result"
    }
   ],
   "source": [
    "# Visuzliando uma linha\n",
    "df_pandas.iloc[336]"
   ]
  },
  {
   "cell_type": "code",
   "execution_count": 35,
   "id": "66073479",
   "metadata": {},
   "outputs": [],
   "source": [
    "# Usando um valor padrão para averege HP (que será usado para preencher os valores ausentes)\n",
    "mediaHP = sc.broadcast(75.0)"
   ]
  },
  {
   "cell_type": "code",
   "execution_count": 44,
   "id": "700846e6",
   "metadata": {},
   "outputs": [],
   "source": [
    "# Função para limpeza de dados\n",
    "def limpaDados(inputStr):\n",
    "    \n",
    "    # Variável global\n",
    "    global mediaHP\n",
    "    \n",
    "    # Lista de atributos\n",
    "    attList = inputStr.split(',')\n",
    "    \n",
    "    # Substitui o caracter ? por um valor na coluna de índice 3\n",
    "    hpValue = attList[3]\n",
    "    if hpValue == '?':\n",
    "        hpValue = mediaHP.value\n",
    "        \n",
    "    # Cria uma linha usando a função Row, limpando e convertendo os dados de string para float\n",
    "    linhas = Row(consumo = float(attList[0]),\n",
    "                 numero_cilindros = float(attList[1]),\n",
    "                 capacidade = float(attList[2]),\n",
    "                 horsepower = float(hpValue),\n",
    "                 peso = float(attList[4]),\n",
    "                 aceleracao = float(attList[5]),\n",
    "                 ano = float(attList[6]),\n",
    "                 nome = attList[7])\n",
    "    return linhas"
   ]
  },
  {
   "cell_type": "code",
   "execution_count": 45,
   "id": "74c6e8ec",
   "metadata": {},
   "outputs": [
    {
     "data": {
      "text/plain": [
       "[Row(consumo=30.0, numero_cilindros=4.0, capacidade=79.0, horsepower=70.0, peso=2074.0, aceleracao=19.5, ano=71.0, nome='peugeot 304'),\n",
       " Row(consumo=30.0, numero_cilindros=4.0, capacidade=88.0, horsepower=76.0, peso=2065.0, aceleracao=14.5, ano=71.0, nome='fiat 124b'),\n",
       " Row(consumo=31.0, numero_cilindros=4.0, capacidade=71.0, horsepower=65.0, peso=1773.0, aceleracao=19.0, ano=71.0, nome='toyota corolla 1200'),\n",
       " Row(consumo=35.0, numero_cilindros=4.0, capacidade=72.0, horsepower=69.0, peso=1613.0, aceleracao=18.0, ano=71.0, nome='datsun 1200'),\n",
       " Row(consumo=27.0, numero_cilindros=4.0, capacidade=97.0, horsepower=60.0, peso=1834.0, aceleracao=19.0, ano=71.0, nome='volkswagen model 111')]"
      ]
     },
     "execution_count": 45,
     "metadata": {},
     "output_type": "execute_result"
    }
   ],
   "source": [
    "# Executa a função no RDD\n",
    "dados3 = dados2.map(limpaDados)\n",
    "dados3.cache()\n",
    "dados3.take(5)"
   ]
  },
  {
   "cell_type": "markdown",
   "id": "2d43ba61",
   "metadata": {},
   "source": [
    "### Análise Exploratória de Dados\n"
   ]
  },
  {
   "cell_type": "code",
   "execution_count": 47,
   "id": "e6371404",
   "metadata": {},
   "outputs": [],
   "source": [
    "# Cria um Dataframe\n",
    "df_carros = spSession.createDataFrame(dados3)"
   ]
  },
  {
   "cell_type": "code",
   "execution_count": 49,
   "id": "af4ac851",
   "metadata": {},
   "outputs": [
    {
     "name": "stdout",
     "output_type": "stream",
     "text": [
      "+-------+-----------------+-----------------+\n",
      "|summary|          consumo| numero_cilindros|\n",
      "+-------+-----------------+-----------------+\n",
      "|  count|              398|              398|\n",
      "|   mean|23.51457286432161|5.454773869346734|\n",
      "| stddev|7.815984312565782|1.701004244533212|\n",
      "|    min|              9.0|              3.0|\n",
      "|    max|             46.6|              8.0|\n",
      "+-------+-----------------+-----------------+\n",
      "\n"
     ]
    }
   ],
   "source": [
    "# Estatísticas descritivas de duas variáveis (como exemplo)\n",
    "df_carros.select('consumo', 'numero_cilindros').describe().show()"
   ]
  },
  {
   "cell_type": "code",
   "execution_count": 51,
   "id": "6580d115",
   "metadata": {},
   "outputs": [
    {
     "name": "stdout",
     "output_type": "stream",
     "text": [
      "Correlação da variável target com: consumo 1.0\n",
      "Correlação da variável target com: numero_cilindros -0.7753962854205546\n",
      "Correlação da variável target com: capacidade -0.8042028248058979\n",
      "Correlação da variável target com: horsepower -0.7747041523498721\n",
      "Correlação da variável target com: peso -0.8317409332443347\n",
      "Correlação da variável target com: aceleracao 0.42028891210164976\n",
      "Correlação da variável target com: ano 0.5792671330833098\n"
     ]
    }
   ],
   "source": [
    "# Encontrando a correlação entre a variável target com as variáveis preditoras (exceto o nome)\n",
    "for i in df_carros.columns:\n",
    "    if not (isinstance(df_carros.select(i).take(1)[0][0], str)) :\n",
    "        print('Correlação da variável target com:', i, df_carros.stat.corr('consumo', i))"
   ]
  },
  {
   "cell_type": "markdown",
   "id": "be33b456",
   "metadata": {},
   "source": [
    "### Pré-Processamento de Dados"
   ]
  },
  {
   "cell_type": "code",
   "execution_count": 53,
   "id": "f6c65817",
   "metadata": {},
   "outputs": [],
   "source": [
    "# Convertendo para um LabeledPoint (target, Vector[features])\n",
    "# Remove colunas não relevantes ou com baixa correlação\n",
    "def transformaVar(row):\n",
    "    obj = (row['consumo'], Vectors.dense([row['peso'], row['capacidade'], row['numero_cilindros']]))\n",
    "    return obj"
   ]
  },
  {
   "cell_type": "code",
   "execution_count": 55,
   "id": "55db44f2",
   "metadata": {},
   "outputs": [],
   "source": [
    "# Aplica a função no RDD e cria outro RDD\n",
    "dados4 = dados3.map(transformaVar)"
   ]
  },
  {
   "cell_type": "code",
   "execution_count": 56,
   "id": "849f76f7",
   "metadata": {},
   "outputs": [
    {
     "data": {
      "text/plain": [
       "[(30.0, DenseVector([2074.0, 79.0, 4.0])),\n",
       " (30.0, DenseVector([2065.0, 88.0, 4.0])),\n",
       " (31.0, DenseVector([1773.0, 71.0, 4.0])),\n",
       " (35.0, DenseVector([1613.0, 72.0, 4.0])),\n",
       " (27.0, DenseVector([1834.0, 97.0, 4.0]))]"
      ]
     },
     "execution_count": 56,
     "metadata": {},
     "output_type": "execute_result"
    }
   ],
   "source": [
    "dados4.take(5)"
   ]
  },
  {
   "cell_type": "code",
   "execution_count": 57,
   "id": "bc762d8a",
   "metadata": {},
   "outputs": [],
   "source": [
    "# Converte o RDD para DataFrame do Spark\n",
    "df_carros = spSession.createDataFrame(dados4, ['label', 'features'])"
   ]
  },
  {
   "cell_type": "code",
   "execution_count": 58,
   "id": "42a301d4",
   "metadata": {},
   "outputs": [
    {
     "name": "stdout",
     "output_type": "stream",
     "text": [
      "+-----+------------------+\n",
      "|label|          features|\n",
      "+-----+------------------+\n",
      "| 30.0| [2074.0,79.0,4.0]|\n",
      "| 30.0| [2065.0,88.0,4.0]|\n",
      "| 31.0| [1773.0,71.0,4.0]|\n",
      "| 35.0| [1613.0,72.0,4.0]|\n",
      "| 27.0| [1834.0,97.0,4.0]|\n",
      "| 26.0| [1955.0,91.0,4.0]|\n",
      "| 24.0|[2278.0,113.0,4.0]|\n",
      "| 25.0| [2126.0,97.5,4.0]|\n",
      "| 23.0| [2254.0,97.0,4.0]|\n",
      "| 20.0|[2408.0,140.0,4.0]|\n",
      "+-----+------------------+\n",
      "only showing top 10 rows\n",
      "\n"
     ]
    }
   ],
   "source": [
    "# Visualiza label (y) e atributos (x)\n",
    "df_carros.select('label', 'features').show(10)"
   ]
  },
  {
   "cell_type": "code",
   "execution_count": 59,
   "id": "9a94d3bf",
   "metadata": {},
   "outputs": [],
   "source": [
    "# Divisão em dados de Treino e de Teste com split 70/30\n",
    "(dados_treino, dados_teste) = df_carros.randomSplit([0.7, 0.3])"
   ]
  },
  {
   "cell_type": "code",
   "execution_count": 60,
   "id": "725ca7fe",
   "metadata": {},
   "outputs": [
    {
     "data": {
      "text/plain": [
       "279"
      ]
     },
     "execution_count": 60,
     "metadata": {},
     "output_type": "execute_result"
    }
   ],
   "source": [
    "dados_treino.count()"
   ]
  },
  {
   "cell_type": "code",
   "execution_count": 61,
   "id": "9e96c7cc",
   "metadata": {},
   "outputs": [
    {
     "data": {
      "text/plain": [
       "119"
      ]
     },
     "execution_count": 61,
     "metadata": {},
     "output_type": "execute_result"
    }
   ],
   "source": [
    "dados_teste.count()"
   ]
  },
  {
   "cell_type": "markdown",
   "id": "bb5916aa",
   "metadata": {},
   "source": [
    "### Machine Learning\n"
   ]
  },
  {
   "cell_type": "code",
   "execution_count": 64,
   "id": "42ce07b7",
   "metadata": {},
   "outputs": [],
   "source": [
    "# Cria o objeto\n",
    "linearReg = LinearRegression()"
   ]
  },
  {
   "cell_type": "code",
   "execution_count": 65,
   "id": "b0095d20",
   "metadata": {},
   "outputs": [],
   "source": [
    "# Treina o objeto com dados e cria o modelo\n",
    "modelo = linearReg.fit(dados_treino)"
   ]
  },
  {
   "cell_type": "code",
   "execution_count": 66,
   "id": "b77cbf9b",
   "metadata": {},
   "outputs": [
    {
     "name": "stdout",
     "output_type": "stream",
     "text": [
      "LinearRegressionModel: uid=LinearRegression_1398b9f8301b, numFeatures=3\n"
     ]
    }
   ],
   "source": [
    "print(modelo)"
   ]
  },
  {
   "cell_type": "code",
   "execution_count": 69,
   "id": "c52e0d01",
   "metadata": {},
   "outputs": [
    {
     "name": "stdout",
     "output_type": "stream",
     "text": [
      "Coeficientes: [-0.005326786374572659,-0.01887302259288796,0.025103056259989452]\n",
      "Intercepto: 42.71457564366255\n"
     ]
    }
   ],
   "source": [
    "# Imprimindo os coeficientes (o que o modelo aprendeu)\n",
    "print('Coeficientes: ' + str(modelo.coefficients))\n",
    "print('Intercepto: ' + str(modelo.intercept))"
   ]
  },
  {
   "cell_type": "code",
   "execution_count": 70,
   "id": "13f6d4cd",
   "metadata": {},
   "outputs": [],
   "source": [
    "# Previsões com dados de teste\n",
    "predictions = modelo.transform(dados_teste)"
   ]
  },
  {
   "cell_type": "code",
   "execution_count": 71,
   "id": "4518aa1b",
   "metadata": {},
   "outputs": [
    {
     "name": "stdout",
     "output_type": "stream",
     "text": [
      "+------------------+------------------+\n",
      "|          features|        prediction|\n",
      "+------------------+------------------+\n",
      "|[4382.0,318.0,8.0]|  13.5718010158267|\n",
      "|[4100.0,350.0,8.0]|14.470018050483777|\n",
      "|[4502.0,350.0,8.0]| 12.32864992790557|\n",
      "|[4699.0,350.0,8.0]|11.279273012114754|\n",
      "|[4746.0,400.0,8.0]| 10.08526292286544|\n",
      "|[4077.0,318.0,8.0]|15.196470860071361|\n",
      "|[4129.0,351.0,8.0]| 14.29666822302828|\n",
      "|[4154.0,351.0,8.0]|14.163498563663964|\n",
      "|[4257.0,304.0,8.0]|14.501871628948717|\n",
      "|[4385.0,400.0,8.0]|12.008232804086173|\n",
      "|[4638.0,302.0,8.0]|12.510112065422305|\n",
      "|[3730.0,258.0,6.0]|18.127040975101373|\n",
      "|[3892.0,304.0,8.0]|16.446148655667738|\n",
      "|[3278.0,250.0,6.0]| 20.68573259715132|\n",
      "|[3632.0,258.0,6.0]|18.649066039809494|\n",
      "|[3897.0,250.0,6.0]| 17.38845183129084|\n",
      "|[4190.0,318.0,8.0]|14.594543999744651|\n",
      "|[4498.0,318.0,8.0]| 12.95389379637627|\n",
      "|[3329.0,250.0,6.0]| 20.41406649204811|\n",
      "|[3907.0,231.0,6.0]| 17.69377139680999|\n",
      "+------------------+------------------+\n",
      "only showing top 20 rows\n",
      "\n"
     ]
    }
   ],
   "source": [
    "# Visualiza as previsões\n",
    "predictions.select('features', 'prediction').show()"
   ]
  },
  {
   "cell_type": "code",
   "execution_count": 73,
   "id": "c5c46d21",
   "metadata": {},
   "outputs": [],
   "source": [
    "# Coefeficiente de determinação R2\n",
    "avaliador = RegressionEvaluator(predictionCol = 'prediction', labelCol = 'label', metricName = 'r2')"
   ]
  },
  {
   "cell_type": "code",
   "execution_count": 75,
   "id": "6c02aa8e",
   "metadata": {},
   "outputs": [
    {
     "data": {
      "text/plain": [
       "0.6712444971742968"
      ]
     },
     "execution_count": 75,
     "metadata": {},
     "output_type": "execute_result"
    }
   ],
   "source": [
    "# Resultado\n",
    "avaliador.evaluate(predictions)"
   ]
  },
  {
   "cell_type": "code",
   "execution_count": null,
   "id": "65c4512c",
   "metadata": {},
   "outputs": [],
   "source": []
  }
 ],
 "metadata": {
  "kernelspec": {
   "display_name": "Python 3 (ipykernel)",
   "language": "python",
   "name": "python3"
  },
  "language_info": {
   "codemirror_mode": {
    "name": "ipython",
    "version": 3
   },
   "file_extension": ".py",
   "mimetype": "text/x-python",
   "name": "python",
   "nbconvert_exporter": "python",
   "pygments_lexer": "ipython3",
   "version": "3.9.13"
  }
 },
 "nbformat": 4,
 "nbformat_minor": 5
}
