{
 "cells": [
  {
   "cell_type": "markdown",
   "id": "f583946f",
   "metadata": {},
   "source": [
    "# Testando a Instalação do PySpark"
   ]
  },
  {
   "cell_type": "code",
   "execution_count": 2,
   "id": "c4b7c116",
   "metadata": {},
   "outputs": [
    {
     "name": "stdout",
     "output_type": "stream",
     "text": [
      "Collecting findspark\n",
      "  Downloading findspark-2.0.1-py2.py3-none-any.whl (4.4 kB)\n",
      "Installing collected packages: findspark\n",
      "Successfully installed findspark-2.0.1\n"
     ]
    }
   ],
   "source": [
    "!pip install findspark"
   ]
  },
  {
   "cell_type": "code",
   "execution_count": 3,
   "id": "0b90c972",
   "metadata": {},
   "outputs": [],
   "source": [
    "import findspark\n",
    "findspark.init()"
   ]
  },
  {
   "cell_type": "code",
   "execution_count": 4,
   "id": "6f4ea5e6",
   "metadata": {},
   "outputs": [],
   "source": [
    "import pyspark\n",
    "import random"
   ]
  },
  {
   "cell_type": "code",
   "execution_count": 6,
   "id": "d5f21e01",
   "metadata": {},
   "outputs": [
    {
     "name": "stdout",
     "output_type": "stream",
     "text": [
      "23/03/06 10:45:03 WARN Utils: Your hostname, ingo-Vostro-3583 resolves to a loopback address: 127.0.1.1; using 192.168.1.10 instead (on interface wlo1)\n",
      "23/03/06 10:45:03 WARN Utils: Set SPARK_LOCAL_IP if you need to bind to another address\n"
     ]
    },
    {
     "name": "stderr",
     "output_type": "stream",
     "text": [
      "Setting default log level to \"WARN\".\n",
      "To adjust logging level use sc.setLogLevel(newLevel). For SparkR, use setLogLevel(newLevel).\n"
     ]
    },
    {
     "name": "stdout",
     "output_type": "stream",
     "text": [
      "23/03/06 10:45:04 WARN NativeCodeLoader: Unable to load native-hadoop library for your platform... using builtin-java classes where applicable\n"
     ]
    }
   ],
   "source": [
    "sc = pyspark.SparkContext(appName = \"TestePySpark\")"
   ]
  },
  {
   "cell_type": "code",
   "execution_count": 7,
   "id": "0b5590bc",
   "metadata": {},
   "outputs": [],
   "source": [
    "sc.setLogLevel('INFO')"
   ]
  },
  {
   "cell_type": "code",
   "execution_count": 8,
   "id": "b3de874b",
   "metadata": {},
   "outputs": [
    {
     "data": {
      "text/html": [
       "\n",
       "        <div>\n",
       "            <p><b>SparkContext</b></p>\n",
       "\n",
       "            <p><a href=\"http://192.168.1.10:4040\">Spark UI</a></p>\n",
       "\n",
       "            <dl>\n",
       "              <dt>Version</dt>\n",
       "                <dd><code>v3.3.2</code></dd>\n",
       "              <dt>Master</dt>\n",
       "                <dd><code>local[*]</code></dd>\n",
       "              <dt>AppName</dt>\n",
       "                <dd><code>TestePySpark</code></dd>\n",
       "            </dl>\n",
       "        </div>\n",
       "        "
      ],
      "text/plain": [
       "<SparkContext master=local[*] appName=TestePySpark>"
      ]
     },
     "execution_count": 8,
     "metadata": {},
     "output_type": "execute_result"
    }
   ],
   "source": [
    "sc"
   ]
  },
  {
   "cell_type": "code",
   "execution_count": 9,
   "id": "d24b6978",
   "metadata": {},
   "outputs": [],
   "source": [
    "numero_amostras = 1000"
   ]
  },
  {
   "cell_type": "code",
   "execution_count": 10,
   "id": "db61f481",
   "metadata": {},
   "outputs": [],
   "source": [
    "# Função para gerar vbalores randômicos\n",
    "def gera_numeros(p):\n",
    "    x, y = random.random(), random.random()\n",
    "    return x*x + y*y <1"
   ]
  },
  {
   "cell_type": "code",
   "execution_count": 11,
   "id": "f7fce8b4",
   "metadata": {},
   "outputs": [
    {
     "name": "stdout",
     "output_type": "stream",
     "text": [
      "23/03/06 10:47:24 INFO SparkContext: Starting job: count at /tmp/ipykernel_464330/2952187543.py:2\n",
      "23/03/06 10:47:24 INFO DAGScheduler: Got job 0 (count at /tmp/ipykernel_464330/2952187543.py:2) with 8 output partitions\n",
      "23/03/06 10:47:24 INFO DAGScheduler: Final stage: ResultStage 0 (count at /tmp/ipykernel_464330/2952187543.py:2)\n",
      "23/03/06 10:47:24 INFO DAGScheduler: Parents of final stage: List()\n",
      "23/03/06 10:47:24 INFO DAGScheduler: Missing parents: List()\n",
      "23/03/06 10:47:24 INFO DAGScheduler: Submitting ResultStage 0 (PythonRDD[1] at count at /tmp/ipykernel_464330/2952187543.py:2), which has no missing parents\n",
      "23/03/06 10:47:24 INFO MemoryStore: Block broadcast_0 stored as values in memory (estimated size 8.8 KiB, free 434.4 MiB)\n",
      "23/03/06 10:47:24 INFO MemoryStore: Block broadcast_0_piece0 stored as bytes in memory (estimated size 5.1 KiB, free 434.4 MiB)\n",
      "23/03/06 10:47:24 INFO BlockManagerInfo: Added broadcast_0_piece0 in memory on 192.168.1.10:37383 (size: 5.1 KiB, free: 434.4 MiB)\n",
      "23/03/06 10:47:24 INFO SparkContext: Created broadcast 0 from broadcast at DAGScheduler.scala:1513\n",
      "23/03/06 10:47:24 INFO DAGScheduler: Submitting 8 missing tasks from ResultStage 0 (PythonRDD[1] at count at /tmp/ipykernel_464330/2952187543.py:2) (first 15 tasks are for partitions Vector(0, 1, 2, 3, 4, 5, 6, 7))\n",
      "23/03/06 10:47:24 INFO TaskSchedulerImpl: Adding task set 0.0 with 8 tasks resource profile 0\n",
      "23/03/06 10:47:24 INFO TaskSetManager: Starting task 0.0 in stage 0.0 (TID 0) (192.168.1.10, executor driver, partition 0, PROCESS_LOCAL, 4433 bytes) taskResourceAssignments Map()\n",
      "23/03/06 10:47:24 INFO TaskSetManager: Starting task 1.0 in stage 0.0 (TID 1) (192.168.1.10, executor driver, partition 1, PROCESS_LOCAL, 4433 bytes) taskResourceAssignments Map()\n",
      "23/03/06 10:47:24 INFO TaskSetManager: Starting task 2.0 in stage 0.0 (TID 2) (192.168.1.10, executor driver, partition 2, PROCESS_LOCAL, 4433 bytes) taskResourceAssignments Map()\n",
      "23/03/06 10:47:24 INFO TaskSetManager: Starting task 3.0 in stage 0.0 (TID 3) (192.168.1.10, executor driver, partition 3, PROCESS_LOCAL, 4433 bytes) taskResourceAssignments Map()\n",
      "23/03/06 10:47:24 INFO TaskSetManager: Starting task 4.0 in stage 0.0 (TID 4) (192.168.1.10, executor driver, partition 4, PROCESS_LOCAL, 4433 bytes) taskResourceAssignments Map()\n",
      "23/03/06 10:47:24 INFO TaskSetManager: Starting task 5.0 in stage 0.0 (TID 5) (192.168.1.10, executor driver, partition 5, PROCESS_LOCAL, 4433 bytes) taskResourceAssignments Map()\n",
      "23/03/06 10:47:24 INFO TaskSetManager: Starting task 6.0 in stage 0.0 (TID 6) (192.168.1.10, executor driver, partition 6, PROCESS_LOCAL, 4433 bytes) taskResourceAssignments Map()\n",
      "23/03/06 10:47:24 INFO TaskSetManager: Starting task 7.0 in stage 0.0 (TID 7) (192.168.1.10, executor driver, partition 7, PROCESS_LOCAL, 4433 bytes) taskResourceAssignments Map()\n",
      "23/03/06 10:47:24 INFO Executor: Running task 6.0 in stage 0.0 (TID 6)\n",
      "23/03/06 10:47:24 INFO Executor: Running task 4.0 in stage 0.0 (TID 4)\n",
      "23/03/06 10:47:24 INFO Executor: Running task 1.0 in stage 0.0 (TID 1)\n",
      "23/03/06 10:47:24 INFO Executor: Running task 3.0 in stage 0.0 (TID 3)\n",
      "23/03/06 10:47:24 INFO Executor: Running task 5.0 in stage 0.0 (TID 5)\n",
      "23/03/06 10:47:24 INFO Executor: Running task 7.0 in stage 0.0 (TID 7)\n",
      "23/03/06 10:47:24 INFO Executor: Running task 0.0 in stage 0.0 (TID 0)\n",
      "23/03/06 10:47:24 INFO Executor: Running task 2.0 in stage 0.0 (TID 2)\n"
     ]
    },
    {
     "name": "stderr",
     "output_type": "stream",
     "text": [
      "\r",
      "[Stage 0:>                                                          (0 + 8) / 8]\r",
      "\r",
      "                                                                                \r"
     ]
    },
    {
     "name": "stdout",
     "output_type": "stream",
     "text": [
      "23/03/06 10:47:25 INFO PythonRunner: Times: total = 451, boot = 444, init = 6, finish = 1\n",
      "23/03/06 10:47:25 INFO PythonRunner: Times: total = 451, boot = 437, init = 13, finish = 1\n",
      "23/03/06 10:47:25 INFO PythonRunner: Times: total = 451, boot = 440, init = 10, finish = 1\n",
      "23/03/06 10:47:25 INFO PythonRunner: Times: total = 452, boot = 447, init = 4, finish = 1\n",
      "23/03/06 10:47:25 INFO PythonRunner: Times: total = 490, boot = 466, init = 23, finish = 1\n",
      "23/03/06 10:47:25 INFO PythonRunner: Times: total = 490, boot = 473, init = 16, finish = 1\n",
      "23/03/06 10:47:25 INFO PythonRunner: Times: total = 497, boot = 452, init = 45, finish = 0\n",
      "23/03/06 10:47:25 INFO PythonRunner: Times: total = 502, boot = 482, init = 19, finish = 1\n",
      "23/03/06 10:47:25 INFO Executor: Finished task 6.0 in stage 0.0 (TID 6). 1319 bytes result sent to driver\n",
      "23/03/06 10:47:25 INFO Executor: Finished task 1.0 in stage 0.0 (TID 1). 1319 bytes result sent to driver\n",
      "23/03/06 10:47:25 INFO Executor: Finished task 2.0 in stage 0.0 (TID 2). 1319 bytes result sent to driver\n",
      "23/03/06 10:47:25 INFO Executor: Finished task 7.0 in stage 0.0 (TID 7). 1319 bytes result sent to driver\n",
      "23/03/06 10:47:25 INFO Executor: Finished task 0.0 in stage 0.0 (TID 0). 1319 bytes result sent to driver\n",
      "23/03/06 10:47:25 INFO Executor: Finished task 5.0 in stage 0.0 (TID 5). 1319 bytes result sent to driver\n",
      "23/03/06 10:47:25 INFO Executor: Finished task 3.0 in stage 0.0 (TID 3). 1319 bytes result sent to driver\n",
      "23/03/06 10:47:25 INFO Executor: Finished task 4.0 in stage 0.0 (TID 4). 1319 bytes result sent to driver\n",
      "23/03/06 10:47:25 INFO TaskSetManager: Finished task 6.0 in stage 0.0 (TID 6) in 636 ms on 192.168.1.10 (executor driver) (1/8)\n",
      "23/03/06 10:47:25 INFO TaskSetManager: Finished task 0.0 in stage 0.0 (TID 0) in 672 ms on 192.168.1.10 (executor driver) (2/8)\n",
      "23/03/06 10:47:25 INFO TaskSetManager: Finished task 1.0 in stage 0.0 (TID 1) in 649 ms on 192.168.1.10 (executor driver) (3/8)\n",
      "23/03/06 10:47:25 INFO TaskSetManager: Finished task 2.0 in stage 0.0 (TID 2) in 650 ms on 192.168.1.10 (executor driver) (4/8)\n",
      "23/03/06 10:47:25 INFO TaskSetManager: Finished task 7.0 in stage 0.0 (TID 7) in 642 ms on 192.168.1.10 (executor driver) (5/8)\n",
      "23/03/06 10:47:25 INFO PythonAccumulatorV2: Connected to AccumulatorServer at host: 127.0.0.1 port: 49005\n",
      "23/03/06 10:47:25 INFO TaskSetManager: Finished task 5.0 in stage 0.0 (TID 5) in 648 ms on 192.168.1.10 (executor driver) (6/8)\n",
      "23/03/06 10:47:25 INFO TaskSetManager: Finished task 3.0 in stage 0.0 (TID 3) in 652 ms on 192.168.1.10 (executor driver) (7/8)\n",
      "23/03/06 10:47:25 INFO TaskSetManager: Finished task 4.0 in stage 0.0 (TID 4) in 651 ms on 192.168.1.10 (executor driver) (8/8)\n",
      "23/03/06 10:47:25 INFO TaskSchedulerImpl: Removed TaskSet 0.0, whose tasks have all completed, from pool \n",
      "23/03/06 10:47:25 INFO DAGScheduler: ResultStage 0 (count at /tmp/ipykernel_464330/2952187543.py:2) finished in 0,853 s\n",
      "23/03/06 10:47:25 INFO DAGScheduler: Job 0 is finished. Cancelling potential speculative or zombie tasks for this job\n",
      "23/03/06 10:47:25 INFO TaskSchedulerImpl: Killing all running tasks in stage 0: Stage finished\n",
      "23/03/06 10:47:25 INFO DAGScheduler: Job 0 finished: count at /tmp/ipykernel_464330/2952187543.py:2, took 0,898686 s\n"
     ]
    }
   ],
   "source": [
    "# Função parallelize() executa paralelização de operações\n",
    "contagem = sc.parallelize(range(0, numero_amostras)).filter(gera_numeros).count()"
   ]
  },
  {
   "cell_type": "code",
   "execution_count": 12,
   "id": "43154b92",
   "metadata": {},
   "outputs": [],
   "source": [
    "valor_pi = 4 * contagem / numero_amostras"
   ]
  },
  {
   "cell_type": "code",
   "execution_count": 13,
   "id": "4719c6a9",
   "metadata": {},
   "outputs": [
    {
     "name": "stdout",
     "output_type": "stream",
     "text": [
      "3.14\n"
     ]
    }
   ],
   "source": [
    "print(valor_pi)"
   ]
  },
  {
   "cell_type": "code",
   "execution_count": 14,
   "id": "04ee62fa",
   "metadata": {},
   "outputs": [
    {
     "name": "stdout",
     "output_type": "stream",
     "text": [
      "23/03/06 10:47:51 INFO SparkUI: Stopped Spark web UI at http://192.168.1.10:4040\n",
      "23/03/06 10:47:51 INFO MapOutputTrackerMasterEndpoint: MapOutputTrackerMasterEndpoint stopped!\n",
      "23/03/06 10:47:51 INFO MemoryStore: MemoryStore cleared\n",
      "23/03/06 10:47:51 INFO BlockManager: BlockManager stopped\n",
      "23/03/06 10:47:51 INFO BlockManagerMaster: BlockManagerMaster stopped\n",
      "23/03/06 10:47:51 INFO OutputCommitCoordinator$OutputCommitCoordinatorEndpoint: OutputCommitCoordinator stopped!\n",
      "23/03/06 10:47:51 INFO SparkContext: Successfully stopped SparkContext\n"
     ]
    }
   ],
   "source": [
    "sc.stop()"
   ]
  },
  {
   "cell_type": "markdown",
   "id": "7332ac68",
   "metadata": {},
   "source": [
    "# FIM"
   ]
  },
  {
   "cell_type": "code",
   "execution_count": null,
   "id": "d874912d",
   "metadata": {},
   "outputs": [],
   "source": []
  }
 ],
 "metadata": {
  "kernelspec": {
   "display_name": "Python 3 (ipykernel)",
   "language": "python",
   "name": "python3"
  },
  "language_info": {
   "codemirror_mode": {
    "name": "ipython",
    "version": 3
   },
   "file_extension": ".py",
   "mimetype": "text/x-python",
   "name": "python",
   "nbconvert_exporter": "python",
   "pygments_lexer": "ipython3",
   "version": "3.9.13"
  }
 },
 "nbformat": 4,
 "nbformat_minor": 5
}
